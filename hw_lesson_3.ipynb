{
 "cells": [
  {
   "cell_type": "markdown",
   "id": "8c5714a0",
   "metadata": {},
   "source": [
    "# Тема “ Построение надежных схем валидации решения, оптимизация целевых метрик.”\n"
   ]
  },
  {
   "cell_type": "markdown",
   "id": "4feab413",
   "metadata": {},
   "source": [
    "<b>Основное задание:\n",
    "<ul>Даны выборки для обучения и для тестирования\n",
    "<li>Задание заключается в том, чтобы попробовать разные способы валидации, проанализировать плюсы / минусы каждой и сделать выводы о том, какой способ валидации наиболее устойчивый в данной задаче.\n",
    "<li>Метрика качества для оценки прогнозов - ROC-AUC, название целевой переменной - IsFraud.\n",
    "<li>Рекомендуется использовать модели градиетного бустинга, реализация любая / гипепараметры любые.   \n",
    "<li>Внимание! выборка assignment_2_test.csv - наш аналог лидерборда.   \n",
    "<li>Будем моделировать ситуацию отправки решения на лидерборд и сравнить значение метрики на лидерборде и на локальной валидации. \n",
    "</ul>\n",
    "\n",
    "***Для других целей использовать выборку запрещено!.***\n",
    "<hr>\n",
    "<ul>\n",
    "Терминалогия, используемая в задании:\n",
    "<li>обучающая выборка - выборка, которая передается в метод fit / train;\n",
    "<li>валидационная выборка - выборка, которая получается при Hold-Out на 2 выборки (train, valid);\n",
    "<li>тестовая выборка - выборка, которая получается при Hold-Out на 3 выборки (train, valid, test);\n",
    "<li>ЛБ - лидерборд, выборка assignment_2_test.csv.\n",
    "</ul>\n",
    "    <hr>\n",
    "Задания:\n",
    "<ol>\n",
    "<li><a href=\"#task_1\">Задание 1: сделать Hold-Out валидацию с разбиением, размер которого будет адеквтаным, по вашему мнению; разбиение проводить по id-транзакции (TransactionID), обучать модель градиетного бустинга любой реализации с подбором числа деревьев по early_stopping критерию до достижения сходимости. Оценить качество модели на валидационной выборке, оценить расхождение по сравнению с качеством на обучающей выборке и валидационной выборке. Оценить качество на ЛБ, сравнить с качеством на обучении и валидации. Сделать выводы.\n",
    "</a>\n",
    "<li><a href = \"#task_2\">Задание 2: сделать Hold-Out валидацию с разбиением на 3 выборки, разбиение проводить по id-транзакции (TransactionID), размер каждой выборки подобрать самостоятельно. Повторить процедуру из п.1. для каждой выборки.\n",
    "</a>\n",
    "<li><a href = \"#task_3\">Задание 3: построить доверительный интервал на данных из п.2 на основе бутстреп выборок, оценить качество модели на ЛБ относительно полученного доверительного интервала. Сделать выводы.\n",
    "</a>\n",
    "<li><a href = \"#task_4\">Задание 4: выполнить Adversarial Validation, подобрать объекты из обучающей выборки, которые сильно похожи на объекты из assignment_2_test.csv, и использовать их в качестве валидационного набора. Оценить качество модели на ЛБ, сделать выводы о полученных результатах.\n",
    "</a>\n",
    "<li><a href = \"#task_5\">Задание 5: сделать KFold / StratifiedKFold валидацию (на ваше усмотрение), оценить получаемые качество и разброс по метрике качества. Сделать выводы об устойчивости кросс-валидации, сходимости оценки на кросс-валидации и отложенном наборе данных; Оценить качество на ЛБ, сделать выводы.\n",
    "</a>\n",
    "<li><a href = \"#task_6\">Задание 6 (опциональное): сделать Hold-Out валидацию по времени (TransactionDT), повторить процедуры из п.1 / п.2 (на ваш выбор). Построить доверительный интервал, сравнить качество на ЛБ выборке с полученным доверительным интервалом. Сделать выводы.\n",
    "</a>\n",
    "<li><a href = \"#task_7\">Задание 7 (совсем опциональное): в данном наборе данных у нас есть ID-транзакции (TransactionID) и время транзакции (TransactionDT), но отсутствует ID-клиента, который совершал транзакции. Кажется, что в этой задаче валидация по клиенту работала бы хорошо. Предложить критерий, по которому можно выделить клиентов и сделать п.5, используя созданное определение клиента, используя валидацию по клиенту (GroupKFold).\n",
    "</a>\n",
    "</ol>"
   ]
  },
  {
   "cell_type": "markdown",
   "id": "4c4e3e99",
   "metadata": {},
   "source": [
    "## Импорт библиотек"
   ]
  },
  {
   "cell_type": "code",
   "execution_count": 1,
   "id": "44f1a039",
   "metadata": {},
   "outputs": [],
   "source": [
    "import warnings\n",
    "from tqdm import tqdm\n",
    "from typing import List, Tuple\n",
    "\n",
    "import numpy as np\n",
    "import pandas as pd\n",
    "import seaborn as sns\n",
    "import xgboost as xgb\n",
    "import matplotlib.pyplot as plt\n",
    "from scipy.stats import ttest_rel\n",
    "\n",
    "from sklearn.metrics import r2_score\n",
    "from sklearn.ensemble import RandomForestRegressor\n",
    "from sklearn.model_selection import KFold, StratifiedKFold, train_test_split, cross_val_score\n",
    "\n",
    "from src_utils import optimization_memory_usage, base_describe\n",
    "\n",
    "warnings.simplefilter(\"ignore\")\n",
    "%matplotlib inline"
   ]
  },
  {
   "cell_type": "markdown",
   "id": "250049e2",
   "metadata": {},
   "source": [
    "## Загрузка данных"
   ]
  },
  {
   "cell_type": "code",
   "execution_count": 2,
   "id": "3c39a34b",
   "metadata": {},
   "outputs": [],
   "source": [
    "train_df = pd.read_csv('../data/assignment_2_train.csv')\n",
    "test_df = pd.read_csv('../data/assignment_2_test.csv')"
   ]
  },
  {
   "cell_type": "code",
   "execution_count": 3,
   "id": "0a054b3a-7250-4802-88f6-e6ad8cef3939",
   "metadata": {},
   "outputs": [
    {
     "data": {
      "text/html": [
       "<div>\n",
       "<style scoped>\n",
       "    .dataframe tbody tr th:only-of-type {\n",
       "        vertical-align: middle;\n",
       "    }\n",
       "\n",
       "    .dataframe tbody tr th {\n",
       "        vertical-align: top;\n",
       "    }\n",
       "\n",
       "    .dataframe thead th {\n",
       "        text-align: right;\n",
       "    }\n",
       "</style>\n",
       "<table border=\"1\" class=\"dataframe\">\n",
       "  <thead>\n",
       "    <tr style=\"text-align: right;\">\n",
       "      <th></th>\n",
       "      <th>train</th>\n",
       "      <th>test</th>\n",
       "    </tr>\n",
       "  </thead>\n",
       "  <tbody>\n",
       "    <tr>\n",
       "      <th>Количество наблюдений</th>\n",
       "      <td>180000</td>\n",
       "      <td>100001</td>\n",
       "    </tr>\n",
       "    <tr>\n",
       "      <th>Количество признаков</th>\n",
       "      <td>394</td>\n",
       "      <td>394</td>\n",
       "    </tr>\n",
       "    <tr>\n",
       "      <th>Признаков float64</th>\n",
       "      <td>376</td>\n",
       "      <td>376</td>\n",
       "    </tr>\n",
       "    <tr>\n",
       "      <th>Признаков object</th>\n",
       "      <td>14</td>\n",
       "      <td>14</td>\n",
       "    </tr>\n",
       "    <tr>\n",
       "      <th>Признаков int64</th>\n",
       "      <td>4</td>\n",
       "      <td>4</td>\n",
       "    </tr>\n",
       "    <tr>\n",
       "      <th>Признаков с NaN</th>\n",
       "      <td>319</td>\n",
       "      <td>299</td>\n",
       "    </tr>\n",
       "    <tr>\n",
       "      <th>Дискретных признаков</th>\n",
       "      <td>173</td>\n",
       "      <td>208</td>\n",
       "    </tr>\n",
       "    <tr>\n",
       "      <th>Непрерывных признаков</th>\n",
       "      <td>207</td>\n",
       "      <td>172</td>\n",
       "    </tr>\n",
       "  </tbody>\n",
       "</table>\n",
       "</div>"
      ],
      "text/plain": [
       "                        train    test\n",
       "Количество наблюдений  180000  100001\n",
       "Количество признаков      394     394\n",
       "Признаков float64         376     376\n",
       "Признаков object           14      14\n",
       "Признаков int64             4       4\n",
       "Признаков с NaN           319     299\n",
       "Дискретных признаков      173     208\n",
       "Непрерывных признаков     207     172"
      ]
     },
     "execution_count": 3,
     "metadata": {},
     "output_type": "execute_result"
    }
   ],
   "source": [
    "statistic_train = base_describe(data=train_df, data_name='train')\n",
    "statistic_test= base_describe(data=test_df, data_name='test')\n",
    "\n",
    "statistic_df = pd.concat([statistic_train, statistic_test], axis=1)\n",
    "statistic_df"
   ]
  },
  {
   "cell_type": "code",
   "execution_count": 4,
   "id": "016dc27c-7671-424b-9e7b-4694e53c8cec",
   "metadata": {},
   "outputs": [
    {
     "name": "stdout",
     "output_type": "stream",
     "text": [
      "Memory usage of dataframe is 541.08 MB\n",
      "Memory usage after optimization is: 158.10 MB\n",
      "Decreased by 70.8%\n"
     ]
    }
   ],
   "source": [
    "train_df = optimization_memory_usage(train_df)"
   ]
  },
  {
   "cell_type": "code",
   "execution_count": 5,
   "id": "e60db405-4010-4c44-9564-b884fc223ae4",
   "metadata": {},
   "outputs": [
    {
     "name": "stdout",
     "output_type": "stream",
     "text": [
      "Memory usage of dataframe is 300.60 MB\n",
      "Memory usage after optimization is: 83.45 MB\n",
      "Decreased by 72.2%\n"
     ]
    }
   ],
   "source": [
    "test_df = optimization_memory_usage(test_df)"
   ]
  },
  {
   "cell_type": "code",
   "execution_count": 6,
   "id": "f643e547-14b0-4cbd-9f6b-e044bfba9dd7",
   "metadata": {},
   "outputs": [],
   "source": [
    "TARGET_NAME = 'isFraud'\n",
    "DROP_NAMES = ['TransactionID']"
   ]
  },
  {
   "cell_type": "markdown",
   "id": "c85ad42d",
   "metadata": {},
   "source": [
    "## Выполнение заданий"
   ]
  },
  {
   "cell_type": "markdown",
   "id": "da8f0954",
   "metadata": {},
   "source": [
    "<p><a name=\"task_1\"></a></p>\n",
    "\n",
    "### Задание 1: сделать Hold-Out валидацию с разбиением, размер которого будет адеквтаным, по вашему мнению; разбиение проводить по id-транзакции (TransactionID), обучать модель градиетного бустинга любой реализации с подбором числа деревьев по early_stopping критерию до достижения сходимости. Оценить качество модели на валидационной выборке, оценить расхождение по сравнению с качеством на обучающей выборке и валидационной выборке. Оценить качество на ЛБ, сравнить с качеством на обучении и валидации. Сделать выводы.\n"
   ]
  },
  {
   "cell_type": "code",
   "execution_count": null,
   "id": "265291b0-acc4-439a-a846-33077c58994e",
   "metadata": {},
   "outputs": [],
   "source": []
  },
  {
   "cell_type": "markdown",
   "id": "d783afec",
   "metadata": {},
   "source": [
    "<p><a name=\"task_2\"></a></p>\n",
    "\n",
    "### Задание 2: сделать Hold-Out валидацию с разбиением на 3 выборки, разбиение проводить по id-транзакции (TransactionID), размер "
   ]
  },
  {
   "cell_type": "code",
   "execution_count": null,
   "id": "dc92413d-e6fc-4c9c-8334-cc385bb62dd0",
   "metadata": {},
   "outputs": [],
   "source": []
  },
  {
   "cell_type": "markdown",
   "id": "2be222fb",
   "metadata": {},
   "source": [
    "<p><a name=\"task_3\"></a></p>\n",
    "\n",
    "### Задание 3: построить доверительный интервал на данных из п.2 на основе бутстреп выборок, оценить качество модели на ЛБ относительно полученного доверительного интервала. Сделать выводы.\n"
   ]
  },
  {
   "cell_type": "code",
   "execution_count": null,
   "id": "a2c7ebc3-66d9-4613-8c82-1b5f8d9e4924",
   "metadata": {},
   "outputs": [],
   "source": []
  },
  {
   "cell_type": "markdown",
   "id": "da68a691",
   "metadata": {},
   "source": [
    "<p><a name=\"task_4\"></a></p>\n",
    "\n",
    "### Задание 4: выполнить Adversarial Validation, подобрать объекты из обучающей выборки, которые сильно похожи на объекты из assignment_2_test.csv, и использовать их в качестве валидационного набора. Оценить качество модели на ЛБ, сделать выводы о полученных результатах.\n"
   ]
  },
  {
   "cell_type": "code",
   "execution_count": null,
   "id": "a00e944a-20d5-4442-8e74-43d04a3f4182",
   "metadata": {},
   "outputs": [],
   "source": []
  },
  {
   "cell_type": "markdown",
   "id": "cdf6ab5c",
   "metadata": {},
   "source": [
    "<p><a name=\"task_5\"></a></p>\n",
    "\n",
    "### Задание 5: сделать KFold / StratifiedKFold валидацию (на ваше усмотрение), оценить получаемые качество и разброс по метрике качества. Сделать выводы об устойчивости кросс-валидации, сходимости оценки на кросс-валидации и отложенном наборе данных; Оценить качество на ЛБ, сделать выводы."
   ]
  },
  {
   "cell_type": "code",
   "execution_count": null,
   "id": "d7b31e0e-db8f-411f-88b4-9ef2d49549d9",
   "metadata": {},
   "outputs": [],
   "source": []
  },
  {
   "cell_type": "markdown",
   "id": "55ce2c27",
   "metadata": {},
   "source": [
    "<p><a name=\"task_6\"></a></p>\n",
    "\n",
    "### Задание 6 (опциональное): сделать Hold-Out валидацию по времени (TransactionDT), повторить процедуры из п.1 / п.2 (на ваш выбор). Построить доверительный интервал, сравнить качество на ЛБ выборке с полученным доверительным интервалом. Сделать выводы.\n"
   ]
  },
  {
   "cell_type": "code",
   "execution_count": null,
   "id": "0ae771d1-49b0-4e9d-ab9b-3c35ffbd632e",
   "metadata": {},
   "outputs": [],
   "source": []
  },
  {
   "cell_type": "markdown",
   "id": "5d3db535",
   "metadata": {},
   "source": [
    "<p><a name=\"task_7\"></a></p>\n",
    "\n",
    "### Задание 7 (совсем опциональное): в данном наборе данных у нас есть ID-транзакции (TransactionID) и время транзакции (TransactionDT), но отсутствует ID-клиента, который совершал транзакции. Кажется, что в этой задаче валидация по клиенту работала бы хорошо. Предложить критерий, по которому можно выделить клиентов и сделать п.5, используя созданное определение клиента, используя валидацию по клиенту (GroupKFold).\n"
   ]
  },
  {
   "cell_type": "code",
   "execution_count": null,
   "id": "c7c4b2b6-d2fc-45bc-9dbe-6a6e43101d5c",
   "metadata": {},
   "outputs": [],
   "source": []
  },
  {
   "cell_type": "code",
   "execution_count": null,
   "id": "68f56d82-2918-4aaa-b272-e85110d5bd9b",
   "metadata": {},
   "outputs": [],
   "source": []
  }
 ],
 "metadata": {
  "kernelspec": {
   "display_name": "Python 3",
   "language": "python",
   "name": "python3"
  },
  "language_info": {
   "codemirror_mode": {
    "name": "ipython",
    "version": 3
   },
   "file_extension": ".py",
   "mimetype": "text/x-python",
   "name": "python",
   "nbconvert_exporter": "python",
   "pygments_lexer": "ipython3",
   "version": "3.9.6"
  },
  "toc-autonumbering": true,
  "toc-showcode": false,
  "toc-showmarkdowntxt": false,
  "toc-showtags": false
 },
 "nbformat": 4,
 "nbformat_minor": 5
}
