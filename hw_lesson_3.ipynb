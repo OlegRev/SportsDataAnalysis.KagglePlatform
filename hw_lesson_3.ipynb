{
 "cells": [
  {
   "cell_type": "markdown",
   "id": "8c5714a0",
   "metadata": {},
   "source": [
    "# Тема “ Построение надежных схем валидации решения, оптимизация целевых метрик.”\n"
   ]
  },
  {
   "cell_type": "markdown",
   "id": "4feab413",
   "metadata": {},
   "source": [
    "<b>Основное задание:\n",
    "<ul>Даны выборки для обучения и для тестирования\n",
    "<li>Задание заключается в том, чтобы попробовать разные способы валидации, проанализировать плюсы / минусы каждой и сделать выводы о том, какой способ валидации наиболее устойчивый в данной задаче.\n",
    "<li>Метрика качества для оценки прогнозов - ROC-AUC, название целевой переменной - IsFraud.\n",
    "<li>Рекомендуется использовать модели градиетного бустинга, реализация любая / гипепараметры любые.   \n",
    "<li>Внимание! выборка assignment_2_test.csv - наш аналог лидерборда.   \n",
    "<li>Будем моделировать ситуацию отправки решения на лидерборд и сравнить значение метрики на лидерборде и на локальной валидации. \n",
    "</ul>\n",
    "\n",
    "***Для других целей использовать выборку запрещено!.***\n",
    "<hr>\n",
    "<ul>\n",
    "Терминалогия, используемая в задании:\n",
    "<li>обучающая выборка - выборка, которая передается в метод fit / train;\n",
    "<li>валидационная выборка - выборка, которая получается при Hold-Out на 2 выборки (train, valid);\n",
    "<li>тестовая выборка - выборка, которая получается при Hold-Out на 3 выборки (train, valid, test);\n",
    "<li>ЛБ - лидерборд, выборка assignment_2_test.csv.\n",
    "</ul>\n",
    "    <hr>\n",
    "Задания:\n",
    "<ol>\n",
    "<li><a href=\"#task_1\">Задание 1: сделать Hold-Out валидацию с разбиением, размер которого будет адеквтаным, по вашему мнению; разбиение проводить по id-транзакции (TransactionID), обучать модель градиетного бустинга любой реализации с подбором числа деревьев по early_stopping критерию до достижения сходимости. Оценить качество модели на валидационной выборке, оценить расхождение по сравнению с качеством на обучающей выборке и валидационной выборке. Оценить качество на ЛБ, сравнить с качеством на обучении и валидации. Сделать выводы.\n",
    "</a>\n",
    "<li><a href = \"#task_2\">Задание 2: сделать Hold-Out валидацию с разбиением на 3 выборки, разбиение проводить по id-транзакции (TransactionID), размер каждой выборки подобрать самостоятельно. Повторить процедуру из п.1. для каждой выборки.\n",
    "</a>\n",
    "<li><a href = \"#task_3\">Задание 3: построить доверительный интервал на данных из п.2 на основе бутстреп выборок, оценить качество модели на ЛБ относительно полученного доверительного интервала. Сделать выводы.\n",
    "</a>\n",
    "<li><a href = \"#task_4\">Задание 4: выполнить Adversarial Validation, подобрать объекты из обучающей выборки, которые сильно похожи на объекты из assignment_2_test.csv, и использовать их в качестве валидационного набора. Оценить качество модели на ЛБ, сделать выводы о полученных результатах.\n",
    "</a>\n",
    "<li><a href = \"#task_5\">Задание 5: сделать KFold / StratifiedKFold валидацию (на ваше усмотрение), оценить получаемые качество и разброс по метрике качества. Сделать выводы об устойчивости кросс-валидации, сходимости оценки на кросс-валидации и отложенном наборе данных; Оценить качество на ЛБ, сделать выводы.\n",
    "</a>\n",
    "<li><a href = \"#task_6\">Задание 6 (опциональное): сделать Hold-Out валидацию по времени (TransactionDT), повторить процедуры из п.1 / п.2 (на ваш выбор). Построить доверительный интервал, сравнить качество на ЛБ выборке с полученным доверительным интервалом. Сделать выводы.\n",
    "</a>\n",
    "<li><a href = \"#task_7\">Задание 7 (совсем опциональное): в данном наборе данных у нас есть ID-транзакции (TransactionID) и время транзакции (TransactionDT), но отсутствует ID-клиента, который совершал транзакции. Кажется, что в этой задаче валидация по клиенту работала бы хорошо. Предложить критерий, по которому можно выделить клиентов и сделать п.5, используя созданное определение клиента, используя валидацию по клиенту (GroupKFold).\n",
    "</a>\n",
    "</ol>"
   ]
  },
  {
   "cell_type": "markdown",
   "id": "4c4e3e99",
   "metadata": {},
   "source": [
    "## Импорт библиотек"
   ]
  },
  {
   "cell_type": "code",
   "execution_count": 1,
   "id": "44f1a039",
   "metadata": {},
   "outputs": [],
   "source": [
    "import warnings\n",
    "from tqdm import tqdm\n",
    "from typing import List, Tuple\n",
    "\n",
    "import numpy as np\n",
    "import pandas as pd\n",
    "import seaborn as sns\n",
    "from catboost import Pool, CatBoostClassifier\n",
    "import lightgbm as lgb\n",
    "import matplotlib.pyplot as plt\n",
    "from scipy.stats import ttest_rel\n",
    "from sklearn.metrics import roc_auc_score,roc_curve\n",
    "from sklearn.ensemble import RandomForestRegressor\n",
    "from sklearn.model_selection import KFold, StratifiedKFold, train_test_split, cross_val_score\n",
    "\n",
    "warnings.simplefilter(\"ignore\")\n",
    "%matplotlib inline"
   ]
  },
  {
   "cell_type": "code",
   "execution_count": 2,
   "id": "bb104435-075a-488f-800d-c8d35482f462",
   "metadata": {},
   "outputs": [],
   "source": [
    "def optimization_memory_usage(df):\n",
    "    \"\"\" \n",
    "    Функция оптимизации числовых значений по int[8, 16, 32, 64] по float[16, 32, 64]\n",
    "    с преобразованием object -> category\n",
    "    \"\"\"\n",
    "    start_memory_usage = df.memory_usage().sum() / 1024**2\n",
    "    print(f'Memory usage of dataframe is {start_memory_usage:.2f} MB')\n",
    "    \n",
    "    for column in df.columns:\n",
    "        column_type = df[column].dtype\n",
    "        \n",
    "        if column_type != object:\n",
    "            col_min = df[column].min()\n",
    "            col_max = df[column].max()\n",
    "            if str(column_type)[:3] == 'int':\n",
    "                if col_min > np.iinfo(np.int8).min and col_max < np.iinfo(np.int8).max:\n",
    "                    df[column] = df[column].astype(np.int8)\n",
    "\n",
    "                elif col_min > np.iinfo(np.int16).min and col_max < np.iinfo(np.int16).max:\n",
    "                    df[column] = df[column].astype(np.int16)\n",
    "\n",
    "                elif col_min > np.iinfo(np.int32).min and col_max < np.iinfo(np.int32).max:\n",
    "                    df[column] = df[column].astype(np.int32)\n",
    "\n",
    "                elif col_min > np.iinfo(np.int64).min and col_max < np.iinfo(np.int64).max:\n",
    "                    df[column] = df[column].astype(np.int64) \n",
    "            else:\n",
    "                if col_min > np.finfo(np.float16).min and col_max < np.finfo(np.float16).max:\n",
    "                    df[column] = df[column].astype(np.float16)\n",
    "\n",
    "                elif col_min > np.finfo(np.float32).min and col_max < np.finfo(np.float32).max:\n",
    "                    df[column] = df[column].astype(np.float32)\n",
    "\n",
    "                else:\n",
    "                    df[column] = df[column].astype(np.float64)\n",
    "        # else:\n",
    "        #     df[column] = df[column].astype('category')\n",
    "            \n",
    "    end_memory_usage = df.memory_usage().sum() / 1024**2\n",
    "    percent_optimization  = 100 * (start_memory_usage - end_memory_usage) / start_memory_usage\n",
    "    print(f'Memory usage after optimization is: {end_memory_usage:.2f} MB')\n",
    "    print(f'Decreased by {percent_optimization:.1f}%')\n",
    "    \n",
    "    return df"
   ]
  },
  {
   "cell_type": "markdown",
   "id": "250049e2",
   "metadata": {},
   "source": [
    "## Загрузка данных"
   ]
  },
  {
   "cell_type": "code",
   "execution_count": 3,
   "id": "3c39a34b",
   "metadata": {},
   "outputs": [],
   "source": [
    "train_df = pd.read_csv('../data/assignment_2_train.csv')\n",
    "lb_test = pd.read_csv('../data/assignment_2_test.csv')"
   ]
  },
  {
   "cell_type": "code",
   "execution_count": 4,
   "id": "016dc27c-7671-424b-9e7b-4694e53c8cec",
   "metadata": {},
   "outputs": [
    {
     "name": "stdout",
     "output_type": "stream",
     "text": [
      "Memory usage of dataframe is 541.08 MB\n",
      "Memory usage after optimization is: 158.10 MB\n",
      "Decreased by 70.8%\n"
     ]
    }
   ],
   "source": [
    "train_df = optimization_memory_usage(train_df)"
   ]
  },
  {
   "cell_type": "code",
   "execution_count": 5,
   "id": "e60db405-4010-4c44-9564-b884fc223ae4",
   "metadata": {},
   "outputs": [
    {
     "name": "stdout",
     "output_type": "stream",
     "text": [
      "Memory usage of dataframe is 300.60 MB\n",
      "Memory usage after optimization is: 83.45 MB\n",
      "Decreased by 72.2%\n"
     ]
    }
   ],
   "source": [
    "lb_test = optimization_memory_usage(lb_test)"
   ]
  },
  {
   "cell_type": "code",
   "execution_count": 6,
   "id": "b30ee3b9-d46a-4f0a-a7bb-162c66ae1e89",
   "metadata": {},
   "outputs": [],
   "source": [
    "train_data = train_df.drop('isFraud', axis=1)\n",
    "train_target = train_df['isFraud']\n",
    "\n",
    "test_data = lb_test.drop('isFraud', axis=1)\n",
    "test_target = lb_test['isFraud']\n",
    "\n"
   ]
  },
  {
   "cell_type": "code",
   "execution_count": 7,
   "id": "89895a30-31e5-48ac-ba71-7fde508c09c0",
   "metadata": {},
   "outputs": [],
   "source": [
    "numerical_feature_names = train_data.select_dtypes(include=np.number).columns.tolist()\n",
    "object_feature_names = train_data.select_dtypes(exclude=np.number).columns.tolist()"
   ]
  },
  {
   "cell_type": "code",
   "execution_count": 8,
   "id": "710a113b-65b1-47ee-8083-08d136aa6ac1",
   "metadata": {},
   "outputs": [],
   "source": [
    "train_data = train_data[numerical_feature_names]\n",
    "\n",
    "test_data = test_data[numerical_feature_names]\n"
   ]
  },
  {
   "cell_type": "markdown",
   "id": "c85ad42d",
   "metadata": {},
   "source": [
    "## Выполнение заданий"
   ]
  },
  {
   "cell_type": "markdown",
   "id": "da8f0954",
   "metadata": {},
   "source": [
    "<p><a name=\"task_1\"></a></p>\n",
    "\n",
    "### Задание 1: сделать Hold-Out валидацию с разбиением, размер которого будет адеквтаным, по вашему мнению; разбиение проводить по id-транзакции (TransactionID), обучать модель градиетного бустинга любой реализации с подбором числа деревьев по early_stopping критерию до достижения сходимости. Оценить качество модели на валидационной выборке, оценить расхождение по сравнению с качеством на обучающей выборке и валидационной выборке. Оценить качество на ЛБ, сравнить с качеством на обучении и валидации. Сделать выводы.\n"
   ]
  },
  {
   "cell_type": "code",
   "execution_count": 9,
   "id": "fcc30a8c-1d1b-4bcd-bd23-eaeedaeace5c",
   "metadata": {},
   "outputs": [],
   "source": [
    "df_roc_auc_score = pd.DataFrame()"
   ]
  },
  {
   "cell_type": "code",
   "execution_count": 10,
   "id": "265291b0-acc4-439a-a846-33077c58994e",
   "metadata": {},
   "outputs": [],
   "source": [
    "X_train, X_valid = train_test_split(train_data, train_size=0.75, shuffle=True, random_state=21)\n",
    "y_train, y_valid = train_test_split(train_target, train_size=0.75, shuffle=True, random_state=21)\n"
   ]
  },
  {
   "cell_type": "code",
   "execution_count": null,
   "id": "483cfe5f-4f1b-4a14-8091-2dcc73cc0922",
   "metadata": {},
   "outputs": [],
   "source": []
  },
  {
   "cell_type": "code",
   "execution_count": 11,
   "id": "38cc587b-7878-4c1e-b218-1ce6e53bda91",
   "metadata": {},
   "outputs": [
    {
     "name": "stdout",
     "output_type": "stream",
     "text": [
      "[100]\ttraining's auc: 0.9708\tvalid_1's auc: 0.93316\n",
      "[200]\ttraining's auc: 0.985745\tvalid_1's auc: 0.939962\n",
      "[300]\ttraining's auc: 0.993227\tvalid_1's auc: 0.944271\n",
      "[400]\ttraining's auc: 0.996819\tvalid_1's auc: 0.947214\n",
      "[500]\ttraining's auc: 0.998489\tvalid_1's auc: 0.949296\n",
      "[600]\ttraining's auc: 0.999246\tvalid_1's auc: 0.951001\n",
      "[700]\ttraining's auc: 0.999651\tvalid_1's auc: 0.952124\n",
      "[800]\ttraining's auc: 0.99982\tvalid_1's auc: 0.952765\n",
      "[900]\ttraining's auc: 0.99993\tvalid_1's auc: 0.952265\n"
     ]
    },
    {
     "data": {
      "text/plain": [
       "LGBMClassifier(metric='auc', n_estimators=1000, objective='binary', seed=21)"
      ]
     },
     "execution_count": 11,
     "metadata": {},
     "output_type": "execute_result"
    }
   ],
   "source": [
    "params_lgb = {\"boosting_type\": \"gbdt\",\n",
    "              \"objective\": \"binary\",\n",
    "              \"metric\": \"auc\",\n",
    "              \"learning_rate\": 0.1,\n",
    "              \"n_estimators\": 1000,\n",
    "              \"n_jobs\": -1,\n",
    "              \"seed\": 21\n",
    "             }\n",
    "\n",
    "model_lgb = lgb.LGBMClassifier(**params_lgb)\n",
    "\n",
    "model_lgb.fit(X=X_train, y=y_train,\n",
    "              eval_set=[(X_train, y_train),\n",
    "                        (X_valid, y_valid)\n",
    "                       ],\n",
    "              early_stopping_rounds=100,\n",
    "              eval_metric=\"auc\",\n",
    "              verbose=100)"
   ]
  },
  {
   "cell_type": "code",
   "execution_count": 12,
   "id": "6f1baef1-af2b-4714-a5a2-e838d04d3ca0",
   "metadata": {},
   "outputs": [],
   "source": [
    "def get_roc_auc_score(X_train: pd.DataFrame,\n",
    "                      y_train: pd.Series,\n",
    "                      suffixes : str,\n",
    "                      validation_scheme : str)-> pd.DataFrame:\n",
    "\n",
    "    score = roc_auc_score(y_train, model_lgb.predict_proba(X_train)[:, 1:])\n",
    "    score_dict = {'validation_scheme': validation_scheme, f'roc_auc_score_{suffixes}': [score]}\n",
    "    return pd.DataFrame(score_dict)\n",
    "   \n",
    "        "
   ]
  },
  {
   "cell_type": "code",
   "execution_count": 13,
   "id": "322fa5c7-92b6-4b5d-9336-f7e83c48555e",
   "metadata": {},
   "outputs": [],
   "source": [
    "train_score = get_roc_auc_score(X_train,\n",
    "                                y_train,\n",
    "                                suffixes='train',\n",
    "                                validation_scheme='Hold_Out_2')\n",
    "valid_score = get_roc_auc_score(X_valid,\n",
    "                                y_valid,\n",
    "                                suffixes='valid',\n",
    "                                validation_scheme='Hold_Out_2')\n",
    "test_score = get_roc_auc_score(test_data,\n",
    "                                test_target,\n",
    "                                suffixes='test',\n",
    "                                validation_scheme='Hold_Out_2')\n"
   ]
  },
  {
   "cell_type": "code",
   "execution_count": 14,
   "id": "51277f10-5439-46dd-8c69-d1cbf85596e7",
   "metadata": {},
   "outputs": [
    {
     "data": {
      "text/html": [
       "<div>\n",
       "<style scoped>\n",
       "    .dataframe tbody tr th:only-of-type {\n",
       "        vertical-align: middle;\n",
       "    }\n",
       "\n",
       "    .dataframe tbody tr th {\n",
       "        vertical-align: top;\n",
       "    }\n",
       "\n",
       "    .dataframe thead th {\n",
       "        text-align: right;\n",
       "    }\n",
       "</style>\n",
       "<table border=\"1\" class=\"dataframe\">\n",
       "  <thead>\n",
       "    <tr style=\"text-align: right;\">\n",
       "      <th></th>\n",
       "      <th>validation_scheme</th>\n",
       "      <th>roc_auc_score_train</th>\n",
       "      <th>roc_auc_score_valid</th>\n",
       "      <th>roc_auc_score_test</th>\n",
       "    </tr>\n",
       "  </thead>\n",
       "  <tbody>\n",
       "    <tr>\n",
       "      <th>0</th>\n",
       "      <td>Hold_Out_2</td>\n",
       "      <td>0.999824</td>\n",
       "      <td>0.952836</td>\n",
       "      <td>0.818394</td>\n",
       "    </tr>\n",
       "  </tbody>\n",
       "</table>\n",
       "</div>"
      ],
      "text/plain": [
       "  validation_scheme  roc_auc_score_train  roc_auc_score_valid  \\\n",
       "0        Hold_Out_2             0.999824             0.952836   \n",
       "\n",
       "   roc_auc_score_test  \n",
       "0            0.818394  "
      ]
     },
     "execution_count": 14,
     "metadata": {},
     "output_type": "execute_result"
    }
   ],
   "source": [
    "holdout_2 = pd.merge(train_score, valid_score, how ='left', on='validation_scheme')\n",
    "holdout_2 = pd.merge(holdout_2, test_score, how ='left', on='validation_scheme')\n",
    "holdout_2"
   ]
  },
  {
   "cell_type": "markdown",
   "id": "d783afec",
   "metadata": {},
   "source": [
    "<p><a name=\"task_2\"></a></p>\n",
    "\n",
    "### Задание 2: сделать Hold-Out валидацию с разбиением на 3 выборки, разбиение проводить по id-транзакции (TransactionID), размер "
   ]
  },
  {
   "cell_type": "code",
   "execution_count": 15,
   "id": "dc92413d-e6fc-4c9c-8334-cc385bb62dd0",
   "metadata": {},
   "outputs": [],
   "source": [
    "X_train, X_valid = train_test_split(train_data, train_size=0.65, shuffle=True, random_state=21)\n",
    "y_train, y_valid = train_test_split(train_target, train_size=0.65, shuffle=True, random_state=21)\n",
    "\n",
    "X_valid, X_valid_2 = train_test_split(X_valid, train_size=0.6, shuffle=True, random_state=21)\n",
    "y_valid, y_valid_2 = train_test_split(y_valid, train_size=0.6, shuffle=True, random_state=21)\n"
   ]
  },
  {
   "cell_type": "code",
   "execution_count": 16,
   "id": "b9cb44e2-4ebd-4f77-9a09-4ab295647324",
   "metadata": {},
   "outputs": [
    {
     "name": "stdout",
     "output_type": "stream",
     "text": [
      "[100]\ttraining's auc: 0.97247\tvalid_1's auc: 0.93327\n",
      "[200]\ttraining's auc: 0.987578\tvalid_1's auc: 0.941006\n",
      "[300]\ttraining's auc: 0.994187\tvalid_1's auc: 0.945284\n",
      "[400]\ttraining's auc: 0.997257\tvalid_1's auc: 0.946639\n",
      "[500]\ttraining's auc: 0.998598\tvalid_1's auc: 0.947761\n",
      "[600]\ttraining's auc: 0.99944\tvalid_1's auc: 0.949149\n",
      "[700]\ttraining's auc: 0.999735\tvalid_1's auc: 0.950172\n",
      "[800]\ttraining's auc: 0.999924\tvalid_1's auc: 0.951123\n",
      "[900]\ttraining's auc: 0.999982\tvalid_1's auc: 0.951213\n"
     ]
    },
    {
     "data": {
      "text/plain": [
       "LGBMClassifier(metric='auc', n_estimators=1000, objective='binary', seed=21)"
      ]
     },
     "execution_count": 16,
     "metadata": {},
     "output_type": "execute_result"
    }
   ],
   "source": [
    "model_lgb = lgb.LGBMClassifier(**params_lgb)\n",
    "\n",
    "model_lgb.fit(X=X_train, y=y_train,\n",
    "              eval_set=[(X_train, y_train),\n",
    "                        (X_valid, y_valid)\n",
    "                       ],\n",
    "              early_stopping_rounds=100,\n",
    "              eval_metric=\"auc\",\n",
    "              verbose=100)"
   ]
  },
  {
   "cell_type": "code",
   "execution_count": 17,
   "id": "afa04ee6-11c3-4dd0-84ac-db76d9ce82cc",
   "metadata": {},
   "outputs": [],
   "source": [
    "train_score = get_roc_auc_score(X_train,\n",
    "                                y_train,\n",
    "                                suffixes='train',\n",
    "                                validation_scheme='Hold_Out_3')\n",
    "valid_score = get_roc_auc_score(X_valid,\n",
    "                                y_valid,\n",
    "                                suffixes='valid',\n",
    "                                validation_scheme='Hold_Out_3')\n",
    "valid2_score = get_roc_auc_score(X_valid_2,\n",
    "                                 y_valid_2,\n",
    "                                 suffixes='valid_2',\n",
    "                                 validation_scheme='Hold_Out_3')\n",
    "test_score = get_roc_auc_score(test_data,\n",
    "                               test_target,\n",
    "                               suffixes='test',\n",
    "                               validation_scheme='Hold_Out_3')\n"
   ]
  },
  {
   "cell_type": "code",
   "execution_count": 18,
   "id": "0233ad46-3c4b-4dfb-8dff-b4166f233f3e",
   "metadata": {},
   "outputs": [
    {
     "data": {
      "text/html": [
       "<div>\n",
       "<style scoped>\n",
       "    .dataframe tbody tr th:only-of-type {\n",
       "        vertical-align: middle;\n",
       "    }\n",
       "\n",
       "    .dataframe tbody tr th {\n",
       "        vertical-align: top;\n",
       "    }\n",
       "\n",
       "    .dataframe thead th {\n",
       "        text-align: right;\n",
       "    }\n",
       "</style>\n",
       "<table border=\"1\" class=\"dataframe\">\n",
       "  <thead>\n",
       "    <tr style=\"text-align: right;\">\n",
       "      <th></th>\n",
       "      <th>validation_scheme</th>\n",
       "      <th>roc_auc_score_train</th>\n",
       "      <th>roc_auc_score_valid</th>\n",
       "      <th>roc_auc_score_valid_2</th>\n",
       "      <th>roc_auc_score_test</th>\n",
       "    </tr>\n",
       "  </thead>\n",
       "  <tbody>\n",
       "    <tr>\n",
       "      <th>0</th>\n",
       "      <td>Hold_Out_3</td>\n",
       "      <td>0.999936</td>\n",
       "      <td>0.95158</td>\n",
       "      <td>0.947768</td>\n",
       "      <td>0.826736</td>\n",
       "    </tr>\n",
       "  </tbody>\n",
       "</table>\n",
       "</div>"
      ],
      "text/plain": [
       "  validation_scheme  roc_auc_score_train  roc_auc_score_valid  \\\n",
       "0        Hold_Out_3             0.999936              0.95158   \n",
       "\n",
       "   roc_auc_score_valid_2  roc_auc_score_test  \n",
       "0               0.947768            0.826736  "
      ]
     },
     "execution_count": 18,
     "metadata": {},
     "output_type": "execute_result"
    }
   ],
   "source": [
    "holdout_3 = pd.merge(train_score, valid_score, how ='left', on='validation_scheme')\n",
    "holdout_3 = pd.merge(holdout_3, valid2_score, how ='left', on='validation_scheme')\n",
    "holdout_3 = pd.merge(holdout_3, test_score, how ='left', on='validation_scheme')\n",
    "holdout_3"
   ]
  },
  {
   "cell_type": "code",
   "execution_count": 19,
   "id": "2e1f0494-5cf7-46cf-940f-ec577d068625",
   "metadata": {},
   "outputs": [
    {
     "data": {
      "text/html": [
       "<div>\n",
       "<style scoped>\n",
       "    .dataframe tbody tr th:only-of-type {\n",
       "        vertical-align: middle;\n",
       "    }\n",
       "\n",
       "    .dataframe tbody tr th {\n",
       "        vertical-align: top;\n",
       "    }\n",
       "\n",
       "    .dataframe thead th {\n",
       "        text-align: right;\n",
       "    }\n",
       "</style>\n",
       "<table border=\"1\" class=\"dataframe\">\n",
       "  <thead>\n",
       "    <tr style=\"text-align: right;\">\n",
       "      <th></th>\n",
       "      <th>validation_scheme</th>\n",
       "      <th>roc_auc_score_train</th>\n",
       "      <th>roc_auc_score_valid</th>\n",
       "      <th>roc_auc_score_test</th>\n",
       "      <th>roc_auc_score_valid_2</th>\n",
       "    </tr>\n",
       "  </thead>\n",
       "  <tbody>\n",
       "    <tr>\n",
       "      <th>0</th>\n",
       "      <td>Hold_Out_2</td>\n",
       "      <td>0.999824</td>\n",
       "      <td>0.952836</td>\n",
       "      <td>0.818394</td>\n",
       "      <td>NaN</td>\n",
       "    </tr>\n",
       "    <tr>\n",
       "      <th>0</th>\n",
       "      <td>Hold_Out_3</td>\n",
       "      <td>0.999936</td>\n",
       "      <td>0.951580</td>\n",
       "      <td>0.826736</td>\n",
       "      <td>0.947768</td>\n",
       "    </tr>\n",
       "  </tbody>\n",
       "</table>\n",
       "</div>"
      ],
      "text/plain": [
       "  validation_scheme  roc_auc_score_train  roc_auc_score_valid  \\\n",
       "0        Hold_Out_2             0.999824             0.952836   \n",
       "0        Hold_Out_3             0.999936             0.951580   \n",
       "\n",
       "   roc_auc_score_test  roc_auc_score_valid_2  \n",
       "0            0.818394                    NaN  \n",
       "0            0.826736               0.947768  "
      ]
     },
     "execution_count": 19,
     "metadata": {},
     "output_type": "execute_result"
    }
   ],
   "source": [
    "roc_auc_scores = pd.concat([holdout_2, holdout_3])\n",
    "roc_auc_scores"
   ]
  },
  {
   "cell_type": "markdown",
   "id": "2be222fb",
   "metadata": {},
   "source": [
    "<p><a name=\"task_3\"></a></p>\n",
    "\n",
    "### Задание 3: построить доверительный интервал на данных из п.2 на основе бутстреп выборок, оценить качество модели на ЛБ относительно полученного доверительного интервала. Сделать выводы.\n"
   ]
  },
  {
   "cell_type": "code",
   "execution_count": 20,
   "id": "a2c7ebc3-66d9-4613-8c82-1b5f8d9e4924",
   "metadata": {},
   "outputs": [],
   "source": [
    "def create_bootstrap_samples(data: np.array, n_samples: int = 1000) -> np.array:\n",
    "    \"\"\"\n",
    "    Создание бутстреп-выборок.\n",
    "\n",
    "    Parameters\n",
    "    ----------\n",
    "    data: np.array\n",
    "        Исходная выборка, которая будет использоваться для\n",
    "        создания бутстреп выборок.\n",
    "\n",
    "    n_samples: int, optional, default = 1000\n",
    "        Количество создаваемых бутстреп выборок.\n",
    "        Опциональный параметр, по умолчанию, равен 1000.\n",
    "\n",
    "    Returns\n",
    "    -------\n",
    "    bootstrap_idx: np.array\n",
    "        Матрица индексов, для создания бутстреп выборок.\n",
    "\n",
    "    \"\"\"\n",
    "    bootstrap_idx = np.random.randint(\n",
    "        low=0, high=len(data), size=(n_samples, len(data))\n",
    "    )\n",
    "    return bootstrap_idx\n",
    "\n",
    "\n",
    "def create_bootstrap_metrics(y_true: np.array,\n",
    "                             y_pred: np.array,\n",
    "                             metric: callable,\n",
    "                             n_samlpes: int = 1000) -> List[float]:\n",
    "    \"\"\"\n",
    "    Вычисление бутстреп оценок.\n",
    "\n",
    "    Parameters\n",
    "    ----------\n",
    "    y_true: np.array\n",
    "        Вектор целевой переменной.\n",
    "\n",
    "    y_pred: np.array\n",
    "        Вектор прогнозов.\n",
    "\n",
    "    metric: callable\n",
    "        Функция для вычисления метрики.\n",
    "        Функция должна принимать 2 аргумента: y_true, y_pred.\n",
    "\n",
    "    n_samples: int, optional, default = 1000\n",
    "        Количество создаваемых бутстреп выборок.\n",
    "        Опциональный параметр, по умолчанию, равен 1000.\n",
    "\n",
    "    Returns\n",
    "    -------\n",
    "    bootstrap_metrics: List[float]\n",
    "        Список со значениями метрики качества на каждой бустреп выборке.\n",
    "\n",
    "    \"\"\"\n",
    "    scores = []\n",
    "\n",
    "    if isinstance(y_true, pd.Series):\n",
    "        y_true = y_true.values\n",
    "\n",
    "    bootstrap_idx = create_bootstrap_samples(y_true)\n",
    "    for idx in bootstrap_idx:\n",
    "        y_true_bootstrap = y_true[idx]\n",
    "        y_pred_bootstrap = y_pred[idx]\n",
    "\n",
    "        score = metric(y_true_bootstrap, y_pred_bootstrap)\n",
    "        scores.append(score)\n",
    "\n",
    "    return scores\n",
    "\n",
    "\n",
    "def calculate_confidence_interval(scores: list, conf_interval: float = 0.95) -> Tuple[float]:\n",
    "    \"\"\"\n",
    "    Вычисление доверительного интервала.\n",
    "\n",
    "    Parameters\n",
    "    ----------\n",
    "    scores: List[float / int]\n",
    "        Список с оценками изучаемой величины.\n",
    "\n",
    "    conf_interval: float, optional, default = 0.95\n",
    "        Уровень доверия для построения интервала.\n",
    "        Опциональный параметр, по умолчанию, равен 0.95.\n",
    "\n",
    "    Returns\n",
    "    -------\n",
    "    conf_interval: Tuple[float]\n",
    "        Кортеж с границами доверительного интервала.\n",
    "\n",
    "    \"\"\"\n",
    "    left_bound = np.percentile(\n",
    "        scores, ((1 - conf_interval) / 2) * 100\n",
    "    )\n",
    "    right_bound = np.percentile(\n",
    "        scores, (conf_interval + ((1 - conf_interval) / 2)) * 100\n",
    "    )\n",
    "\n",
    "    return left_bound, right_bound"
   ]
  },
  {
   "cell_type": "code",
   "execution_count": 21,
   "id": "a460dc0d-9b90-426b-b99a-2c850411bcd8",
   "metadata": {},
   "outputs": [
    {
     "data": {
      "text/plain": [
       "(0.818791152860671, 0.8340037776833555)"
      ]
     },
     "execution_count": 21,
     "metadata": {},
     "output_type": "execute_result"
    }
   ],
   "source": [
    "np.random.seed(21)\n",
    "\n",
    "scores = create_bootstrap_metrics(test_target,\n",
    "                                  model_lgb.predict_proba(test_data)[:, 1:],\n",
    "                                  roc_auc_score)\n",
    "\n",
    "calculate_confidence_interval(scores)\n"
   ]
  },
  {
   "cell_type": "markdown",
   "id": "da68a691",
   "metadata": {},
   "source": [
    "<p><a name=\"task_4\"></a></p>\n",
    "\n",
    "### Задание 4: выполнить Adversarial Validation, подобрать объекты из обучающей выборки, которые сильно похожи на объекты из assignment_2_test.csv, и использовать их в качестве валидационного набора. Оценить качество модели на ЛБ, сделать выводы о полученных результатах.\n"
   ]
  },
  {
   "cell_type": "code",
   "execution_count": 22,
   "id": "62869745-99bd-4774-a7f9-b625bb910500",
   "metadata": {},
   "outputs": [],
   "source": [
    "df_train = train_df.drop('isFraud', axis=1).copy()\n",
    "df_test = lb_test.drop('isFraud', axis=1).copy()"
   ]
  },
  {
   "cell_type": "code",
   "execution_count": 23,
   "id": "704adc9b-810b-4795-a571-a3eb18d1d426",
   "metadata": {},
   "outputs": [
    {
     "data": {
      "text/html": [
       "<div>\n",
       "<style scoped>\n",
       "    .dataframe tbody tr th:only-of-type {\n",
       "        vertical-align: middle;\n",
       "    }\n",
       "\n",
       "    .dataframe tbody tr th {\n",
       "        vertical-align: top;\n",
       "    }\n",
       "\n",
       "    .dataframe thead th {\n",
       "        text-align: right;\n",
       "    }\n",
       "</style>\n",
       "<table border=\"1\" class=\"dataframe\">\n",
       "  <thead>\n",
       "    <tr style=\"text-align: right;\">\n",
       "      <th></th>\n",
       "      <th>TransactionID</th>\n",
       "      <th>TransactionDT</th>\n",
       "      <th>TransactionAmt</th>\n",
       "      <th>ProductCD</th>\n",
       "      <th>card1</th>\n",
       "      <th>card2</th>\n",
       "      <th>card3</th>\n",
       "      <th>card4</th>\n",
       "      <th>card5</th>\n",
       "      <th>card6</th>\n",
       "      <th>...</th>\n",
       "      <th>V330</th>\n",
       "      <th>V331</th>\n",
       "      <th>V332</th>\n",
       "      <th>V333</th>\n",
       "      <th>V334</th>\n",
       "      <th>V335</th>\n",
       "      <th>V336</th>\n",
       "      <th>V337</th>\n",
       "      <th>V338</th>\n",
       "      <th>V339</th>\n",
       "    </tr>\n",
       "  </thead>\n",
       "  <tbody>\n",
       "    <tr>\n",
       "      <th>0</th>\n",
       "      <td>2987000</td>\n",
       "      <td>86400</td>\n",
       "      <td>68.5</td>\n",
       "      <td>W</td>\n",
       "      <td>13926</td>\n",
       "      <td>NaN</td>\n",
       "      <td>150.0</td>\n",
       "      <td>discover</td>\n",
       "      <td>142.0</td>\n",
       "      <td>credit</td>\n",
       "      <td>...</td>\n",
       "      <td>NaN</td>\n",
       "      <td>NaN</td>\n",
       "      <td>NaN</td>\n",
       "      <td>NaN</td>\n",
       "      <td>NaN</td>\n",
       "      <td>NaN</td>\n",
       "      <td>NaN</td>\n",
       "      <td>NaN</td>\n",
       "      <td>NaN</td>\n",
       "      <td>NaN</td>\n",
       "    </tr>\n",
       "    <tr>\n",
       "      <th>1</th>\n",
       "      <td>2987001</td>\n",
       "      <td>86401</td>\n",
       "      <td>29.0</td>\n",
       "      <td>W</td>\n",
       "      <td>2755</td>\n",
       "      <td>404.0</td>\n",
       "      <td>150.0</td>\n",
       "      <td>mastercard</td>\n",
       "      <td>102.0</td>\n",
       "      <td>credit</td>\n",
       "      <td>...</td>\n",
       "      <td>NaN</td>\n",
       "      <td>NaN</td>\n",
       "      <td>NaN</td>\n",
       "      <td>NaN</td>\n",
       "      <td>NaN</td>\n",
       "      <td>NaN</td>\n",
       "      <td>NaN</td>\n",
       "      <td>NaN</td>\n",
       "      <td>NaN</td>\n",
       "      <td>NaN</td>\n",
       "    </tr>\n",
       "    <tr>\n",
       "      <th>2</th>\n",
       "      <td>2987002</td>\n",
       "      <td>86469</td>\n",
       "      <td>59.0</td>\n",
       "      <td>W</td>\n",
       "      <td>4663</td>\n",
       "      <td>490.0</td>\n",
       "      <td>150.0</td>\n",
       "      <td>visa</td>\n",
       "      <td>166.0</td>\n",
       "      <td>debit</td>\n",
       "      <td>...</td>\n",
       "      <td>NaN</td>\n",
       "      <td>NaN</td>\n",
       "      <td>NaN</td>\n",
       "      <td>NaN</td>\n",
       "      <td>NaN</td>\n",
       "      <td>NaN</td>\n",
       "      <td>NaN</td>\n",
       "      <td>NaN</td>\n",
       "      <td>NaN</td>\n",
       "      <td>NaN</td>\n",
       "    </tr>\n",
       "  </tbody>\n",
       "</table>\n",
       "<p>3 rows × 393 columns</p>\n",
       "</div>"
      ],
      "text/plain": [
       "   TransactionID  TransactionDT  TransactionAmt ProductCD  card1  card2  \\\n",
       "0        2987000          86400            68.5         W  13926    NaN   \n",
       "1        2987001          86401            29.0         W   2755  404.0   \n",
       "2        2987002          86469            59.0         W   4663  490.0   \n",
       "\n",
       "   card3       card4  card5   card6  ...  V330  V331  V332  V333 V334 V335  \\\n",
       "0  150.0    discover  142.0  credit  ...   NaN   NaN   NaN   NaN  NaN  NaN   \n",
       "1  150.0  mastercard  102.0  credit  ...   NaN   NaN   NaN   NaN  NaN  NaN   \n",
       "2  150.0        visa  166.0   debit  ...   NaN   NaN   NaN   NaN  NaN  NaN   \n",
       "\n",
       "   V336  V337  V338  V339  \n",
       "0   NaN   NaN   NaN   NaN  \n",
       "1   NaN   NaN   NaN   NaN  \n",
       "2   NaN   NaN   NaN   NaN  \n",
       "\n",
       "[3 rows x 393 columns]"
      ]
     },
     "execution_count": 23,
     "metadata": {},
     "output_type": "execute_result"
    }
   ],
   "source": [
    "df_train.head(3)"
   ]
  },
  {
   "cell_type": "code",
   "execution_count": 24,
   "id": "9fae071c-ec22-442f-a62c-e3a96d3ba3fa",
   "metadata": {},
   "outputs": [
    {
     "data": {
      "text/html": [
       "<div>\n",
       "<style scoped>\n",
       "    .dataframe tbody tr th:only-of-type {\n",
       "        vertical-align: middle;\n",
       "    }\n",
       "\n",
       "    .dataframe tbody tr th {\n",
       "        vertical-align: top;\n",
       "    }\n",
       "\n",
       "    .dataframe thead th {\n",
       "        text-align: right;\n",
       "    }\n",
       "</style>\n",
       "<table border=\"1\" class=\"dataframe\">\n",
       "  <thead>\n",
       "    <tr style=\"text-align: right;\">\n",
       "      <th></th>\n",
       "      <th>TransactionID</th>\n",
       "      <th>TransactionDT</th>\n",
       "      <th>TransactionAmt</th>\n",
       "      <th>ProductCD</th>\n",
       "      <th>card1</th>\n",
       "      <th>card2</th>\n",
       "      <th>card3</th>\n",
       "      <th>card4</th>\n",
       "      <th>card5</th>\n",
       "      <th>card6</th>\n",
       "      <th>...</th>\n",
       "      <th>V330</th>\n",
       "      <th>V331</th>\n",
       "      <th>V332</th>\n",
       "      <th>V333</th>\n",
       "      <th>V334</th>\n",
       "      <th>V335</th>\n",
       "      <th>V336</th>\n",
       "      <th>V337</th>\n",
       "      <th>V338</th>\n",
       "      <th>V339</th>\n",
       "    </tr>\n",
       "  </thead>\n",
       "  <tbody>\n",
       "    <tr>\n",
       "      <th>0</th>\n",
       "      <td>3287000</td>\n",
       "      <td>7415038</td>\n",
       "      <td>226.0</td>\n",
       "      <td>W</td>\n",
       "      <td>12473</td>\n",
       "      <td>555.0</td>\n",
       "      <td>150.0</td>\n",
       "      <td>visa</td>\n",
       "      <td>226.0</td>\n",
       "      <td>credit</td>\n",
       "      <td>...</td>\n",
       "      <td>NaN</td>\n",
       "      <td>NaN</td>\n",
       "      <td>NaN</td>\n",
       "      <td>NaN</td>\n",
       "      <td>NaN</td>\n",
       "      <td>NaN</td>\n",
       "      <td>NaN</td>\n",
       "      <td>NaN</td>\n",
       "      <td>NaN</td>\n",
       "      <td>NaN</td>\n",
       "    </tr>\n",
       "    <tr>\n",
       "      <th>1</th>\n",
       "      <td>3287001</td>\n",
       "      <td>7415054</td>\n",
       "      <td>3072.0</td>\n",
       "      <td>W</td>\n",
       "      <td>15651</td>\n",
       "      <td>417.0</td>\n",
       "      <td>150.0</td>\n",
       "      <td>visa</td>\n",
       "      <td>226.0</td>\n",
       "      <td>debit</td>\n",
       "      <td>...</td>\n",
       "      <td>NaN</td>\n",
       "      <td>NaN</td>\n",
       "      <td>NaN</td>\n",
       "      <td>NaN</td>\n",
       "      <td>NaN</td>\n",
       "      <td>NaN</td>\n",
       "      <td>NaN</td>\n",
       "      <td>NaN</td>\n",
       "      <td>NaN</td>\n",
       "      <td>NaN</td>\n",
       "    </tr>\n",
       "    <tr>\n",
       "      <th>2</th>\n",
       "      <td>3287002</td>\n",
       "      <td>7415081</td>\n",
       "      <td>320.0</td>\n",
       "      <td>W</td>\n",
       "      <td>13844</td>\n",
       "      <td>583.0</td>\n",
       "      <td>150.0</td>\n",
       "      <td>visa</td>\n",
       "      <td>226.0</td>\n",
       "      <td>credit</td>\n",
       "      <td>...</td>\n",
       "      <td>NaN</td>\n",
       "      <td>NaN</td>\n",
       "      <td>NaN</td>\n",
       "      <td>NaN</td>\n",
       "      <td>NaN</td>\n",
       "      <td>NaN</td>\n",
       "      <td>NaN</td>\n",
       "      <td>NaN</td>\n",
       "      <td>NaN</td>\n",
       "      <td>NaN</td>\n",
       "    </tr>\n",
       "  </tbody>\n",
       "</table>\n",
       "<p>3 rows × 393 columns</p>\n",
       "</div>"
      ],
      "text/plain": [
       "   TransactionID  TransactionDT  TransactionAmt ProductCD  card1  card2  \\\n",
       "0        3287000        7415038           226.0         W  12473  555.0   \n",
       "1        3287001        7415054          3072.0         W  15651  417.0   \n",
       "2        3287002        7415081           320.0         W  13844  583.0   \n",
       "\n",
       "   card3 card4  card5   card6  ...  V330  V331  V332  V333 V334 V335  V336  \\\n",
       "0  150.0  visa  226.0  credit  ...   NaN   NaN   NaN   NaN  NaN  NaN   NaN   \n",
       "1  150.0  visa  226.0   debit  ...   NaN   NaN   NaN   NaN  NaN  NaN   NaN   \n",
       "2  150.0  visa  226.0  credit  ...   NaN   NaN   NaN   NaN  NaN  NaN   NaN   \n",
       "\n",
       "   V337  V338  V339  \n",
       "0   NaN   NaN   NaN  \n",
       "1   NaN   NaN   NaN  \n",
       "2   NaN   NaN   NaN  \n",
       "\n",
       "[3 rows x 393 columns]"
      ]
     },
     "execution_count": 24,
     "metadata": {},
     "output_type": "execute_result"
    }
   ],
   "source": [
    "df_test.head(3)"
   ]
  },
  {
   "cell_type": "code",
   "execution_count": 25,
   "id": "68bb0e57-8344-40c5-bef4-3cfb152a1194",
   "metadata": {},
   "outputs": [
    {
     "data": {
      "text/html": [
       "<div>\n",
       "<style scoped>\n",
       "    .dataframe tbody tr th:only-of-type {\n",
       "        vertical-align: middle;\n",
       "    }\n",
       "\n",
       "    .dataframe tbody tr th {\n",
       "        vertical-align: top;\n",
       "    }\n",
       "\n",
       "    .dataframe thead th {\n",
       "        text-align: right;\n",
       "    }\n",
       "</style>\n",
       "<table border=\"1\" class=\"dataframe\">\n",
       "  <thead>\n",
       "    <tr style=\"text-align: right;\">\n",
       "      <th></th>\n",
       "      <th>TransactionID</th>\n",
       "      <th>TransactionDT</th>\n",
       "      <th>TransactionAmt</th>\n",
       "      <th>ProductCD</th>\n",
       "      <th>card1</th>\n",
       "      <th>card2</th>\n",
       "      <th>card3</th>\n",
       "      <th>card4</th>\n",
       "      <th>card5</th>\n",
       "      <th>card6</th>\n",
       "      <th>...</th>\n",
       "      <th>V331</th>\n",
       "      <th>V332</th>\n",
       "      <th>V333</th>\n",
       "      <th>V334</th>\n",
       "      <th>V335</th>\n",
       "      <th>V336</th>\n",
       "      <th>V337</th>\n",
       "      <th>V338</th>\n",
       "      <th>V339</th>\n",
       "      <th>adversarial_target</th>\n",
       "    </tr>\n",
       "  </thead>\n",
       "  <tbody>\n",
       "    <tr>\n",
       "      <th>0</th>\n",
       "      <td>2987000</td>\n",
       "      <td>86400</td>\n",
       "      <td>68.5</td>\n",
       "      <td>W</td>\n",
       "      <td>13926</td>\n",
       "      <td>-99.0</td>\n",
       "      <td>150.0</td>\n",
       "      <td>discover</td>\n",
       "      <td>142.0</td>\n",
       "      <td>credit</td>\n",
       "      <td>...</td>\n",
       "      <td>-99.0</td>\n",
       "      <td>-99.0</td>\n",
       "      <td>-99.0</td>\n",
       "      <td>-99.0</td>\n",
       "      <td>-99.0</td>\n",
       "      <td>-99.0</td>\n",
       "      <td>-99.0</td>\n",
       "      <td>-99.0</td>\n",
       "      <td>-99.0</td>\n",
       "      <td>0</td>\n",
       "    </tr>\n",
       "    <tr>\n",
       "      <th>1</th>\n",
       "      <td>2987001</td>\n",
       "      <td>86401</td>\n",
       "      <td>29.0</td>\n",
       "      <td>W</td>\n",
       "      <td>2755</td>\n",
       "      <td>404.0</td>\n",
       "      <td>150.0</td>\n",
       "      <td>mastercard</td>\n",
       "      <td>102.0</td>\n",
       "      <td>credit</td>\n",
       "      <td>...</td>\n",
       "      <td>-99.0</td>\n",
       "      <td>-99.0</td>\n",
       "      <td>-99.0</td>\n",
       "      <td>-99.0</td>\n",
       "      <td>-99.0</td>\n",
       "      <td>-99.0</td>\n",
       "      <td>-99.0</td>\n",
       "      <td>-99.0</td>\n",
       "      <td>-99.0</td>\n",
       "      <td>0</td>\n",
       "    </tr>\n",
       "    <tr>\n",
       "      <th>2</th>\n",
       "      <td>2987002</td>\n",
       "      <td>86469</td>\n",
       "      <td>59.0</td>\n",
       "      <td>W</td>\n",
       "      <td>4663</td>\n",
       "      <td>490.0</td>\n",
       "      <td>150.0</td>\n",
       "      <td>visa</td>\n",
       "      <td>166.0</td>\n",
       "      <td>debit</td>\n",
       "      <td>...</td>\n",
       "      <td>-99.0</td>\n",
       "      <td>-99.0</td>\n",
       "      <td>-99.0</td>\n",
       "      <td>-99.0</td>\n",
       "      <td>-99.0</td>\n",
       "      <td>-99.0</td>\n",
       "      <td>-99.0</td>\n",
       "      <td>-99.0</td>\n",
       "      <td>-99.0</td>\n",
       "      <td>0</td>\n",
       "    </tr>\n",
       "  </tbody>\n",
       "</table>\n",
       "<p>3 rows × 394 columns</p>\n",
       "</div>"
      ],
      "text/plain": [
       "   TransactionID  TransactionDT  TransactionAmt ProductCD  card1  card2  \\\n",
       "0        2987000          86400            68.5         W  13926  -99.0   \n",
       "1        2987001          86401            29.0         W   2755  404.0   \n",
       "2        2987002          86469            59.0         W   4663  490.0   \n",
       "\n",
       "   card3       card4  card5   card6  ...  V331  V332  V333  V334  V335  V336  \\\n",
       "0  150.0    discover  142.0  credit  ... -99.0 -99.0 -99.0 -99.0 -99.0 -99.0   \n",
       "1  150.0  mastercard  102.0  credit  ... -99.0 -99.0 -99.0 -99.0 -99.0 -99.0   \n",
       "2  150.0        visa  166.0   debit  ... -99.0 -99.0 -99.0 -99.0 -99.0 -99.0   \n",
       "\n",
       "   V337  V338  V339  adversarial_target  \n",
       "0 -99.0 -99.0 -99.0                   0  \n",
       "1 -99.0 -99.0 -99.0                   0  \n",
       "2 -99.0 -99.0 -99.0                   0  \n",
       "\n",
       "[3 rows x 394 columns]"
      ]
     },
     "execution_count": 25,
     "metadata": {},
     "output_type": "execute_result"
    }
   ],
   "source": [
    "# заполнение пропусков категориальных признаков \"<nan>\"\n",
    "df_train.loc[:, object_feature_names] = df_train[object_feature_names].fillna('<nan>')\n",
    "df_test.loc[:, object_feature_names] = df_test[object_feature_names].fillna('<nan>')\n",
    "\n",
    "# заполнение пропусков числовых признаков -99.9\n",
    "df_train = df_train.fillna(-99)\n",
    "df_test = df_test.fillna(-99)\n",
    "adv_features = df_train.columns.to_list()\n",
    "\n",
    "adv_target = 'adversarial_target'\n",
    "df_train[adv_target] = 0\n",
    "df_test[adv_target] = 1\n",
    "\n",
    "df_train.head(3)"
   ]
  },
  {
   "cell_type": "code",
   "execution_count": 26,
   "id": "19ee532c-40ee-47a6-863f-3ad4c76977dc",
   "metadata": {},
   "outputs": [
    {
     "data": {
      "text/html": [
       "<div>\n",
       "<style scoped>\n",
       "    .dataframe tbody tr th:only-of-type {\n",
       "        vertical-align: middle;\n",
       "    }\n",
       "\n",
       "    .dataframe tbody tr th {\n",
       "        vertical-align: top;\n",
       "    }\n",
       "\n",
       "    .dataframe thead th {\n",
       "        text-align: right;\n",
       "    }\n",
       "</style>\n",
       "<table border=\"1\" class=\"dataframe\">\n",
       "  <thead>\n",
       "    <tr style=\"text-align: right;\">\n",
       "      <th></th>\n",
       "      <th>TransactionID</th>\n",
       "      <th>TransactionDT</th>\n",
       "      <th>TransactionAmt</th>\n",
       "      <th>ProductCD</th>\n",
       "      <th>card1</th>\n",
       "      <th>card2</th>\n",
       "      <th>card3</th>\n",
       "      <th>card4</th>\n",
       "      <th>card5</th>\n",
       "      <th>card6</th>\n",
       "      <th>...</th>\n",
       "      <th>V331</th>\n",
       "      <th>V332</th>\n",
       "      <th>V333</th>\n",
       "      <th>V334</th>\n",
       "      <th>V335</th>\n",
       "      <th>V336</th>\n",
       "      <th>V337</th>\n",
       "      <th>V338</th>\n",
       "      <th>V339</th>\n",
       "      <th>adversarial_target</th>\n",
       "    </tr>\n",
       "  </thead>\n",
       "  <tbody>\n",
       "    <tr>\n",
       "      <th>0</th>\n",
       "      <td>3287000</td>\n",
       "      <td>7415038</td>\n",
       "      <td>226.0</td>\n",
       "      <td>W</td>\n",
       "      <td>12473</td>\n",
       "      <td>555.0</td>\n",
       "      <td>150.0</td>\n",
       "      <td>visa</td>\n",
       "      <td>226.0</td>\n",
       "      <td>credit</td>\n",
       "      <td>...</td>\n",
       "      <td>-99.0</td>\n",
       "      <td>-99.0</td>\n",
       "      <td>-99.0</td>\n",
       "      <td>-99.0</td>\n",
       "      <td>-99.0</td>\n",
       "      <td>-99.0</td>\n",
       "      <td>-99.0</td>\n",
       "      <td>-99.0</td>\n",
       "      <td>-99.0</td>\n",
       "      <td>1</td>\n",
       "    </tr>\n",
       "    <tr>\n",
       "      <th>1</th>\n",
       "      <td>3287001</td>\n",
       "      <td>7415054</td>\n",
       "      <td>3072.0</td>\n",
       "      <td>W</td>\n",
       "      <td>15651</td>\n",
       "      <td>417.0</td>\n",
       "      <td>150.0</td>\n",
       "      <td>visa</td>\n",
       "      <td>226.0</td>\n",
       "      <td>debit</td>\n",
       "      <td>...</td>\n",
       "      <td>-99.0</td>\n",
       "      <td>-99.0</td>\n",
       "      <td>-99.0</td>\n",
       "      <td>-99.0</td>\n",
       "      <td>-99.0</td>\n",
       "      <td>-99.0</td>\n",
       "      <td>-99.0</td>\n",
       "      <td>-99.0</td>\n",
       "      <td>-99.0</td>\n",
       "      <td>1</td>\n",
       "    </tr>\n",
       "    <tr>\n",
       "      <th>2</th>\n",
       "      <td>3287002</td>\n",
       "      <td>7415081</td>\n",
       "      <td>320.0</td>\n",
       "      <td>W</td>\n",
       "      <td>13844</td>\n",
       "      <td>583.0</td>\n",
       "      <td>150.0</td>\n",
       "      <td>visa</td>\n",
       "      <td>226.0</td>\n",
       "      <td>credit</td>\n",
       "      <td>...</td>\n",
       "      <td>-99.0</td>\n",
       "      <td>-99.0</td>\n",
       "      <td>-99.0</td>\n",
       "      <td>-99.0</td>\n",
       "      <td>-99.0</td>\n",
       "      <td>-99.0</td>\n",
       "      <td>-99.0</td>\n",
       "      <td>-99.0</td>\n",
       "      <td>-99.0</td>\n",
       "      <td>1</td>\n",
       "    </tr>\n",
       "  </tbody>\n",
       "</table>\n",
       "<p>3 rows × 394 columns</p>\n",
       "</div>"
      ],
      "text/plain": [
       "   TransactionID  TransactionDT  TransactionAmt ProductCD  card1  card2  \\\n",
       "0        3287000        7415038           226.0         W  12473  555.0   \n",
       "1        3287001        7415054          3072.0         W  15651  417.0   \n",
       "2        3287002        7415081           320.0         W  13844  583.0   \n",
       "\n",
       "   card3 card4  card5   card6  ...  V331  V332  V333  V334  V335  V336  V337  \\\n",
       "0  150.0  visa  226.0  credit  ... -99.0 -99.0 -99.0 -99.0 -99.0 -99.0 -99.0   \n",
       "1  150.0  visa  226.0   debit  ... -99.0 -99.0 -99.0 -99.0 -99.0 -99.0 -99.0   \n",
       "2  150.0  visa  226.0  credit  ... -99.0 -99.0 -99.0 -99.0 -99.0 -99.0 -99.0   \n",
       "\n",
       "   V338  V339  adversarial_target  \n",
       "0 -99.0 -99.0                   1  \n",
       "1 -99.0 -99.0                   1  \n",
       "2 -99.0 -99.0                   1  \n",
       "\n",
       "[3 rows x 394 columns]"
      ]
     },
     "execution_count": 26,
     "metadata": {},
     "output_type": "execute_result"
    }
   ],
   "source": [
    "df_test.head(3)"
   ]
  },
  {
   "cell_type": "code",
   "execution_count": 27,
   "id": "d4eb5dc4-c218-41ed-a0f7-051884793590",
   "metadata": {},
   "outputs": [
    {
     "data": {
      "text/plain": [
       "((180000, 394), (100001, 394))"
      ]
     },
     "execution_count": 27,
     "metadata": {},
     "output_type": "execute_result"
    }
   ],
   "source": [
    "df_train.shape, df_test.shape"
   ]
  },
  {
   "cell_type": "code",
   "execution_count": 28,
   "id": "e5f75b55-d3a6-420b-85a9-6b91890b2261",
   "metadata": {},
   "outputs": [],
   "source": [
    "def create_adversarial_data(df_train, df_test, cols=False, N_val=50000):\n",
    "    if not cols:\n",
    "        cols = df_train.columns.to_list()\n",
    "    df_main = pd.concat([df_train[cols], df_test[cols]], axis=0)\n",
    "    \n",
    "    adversarial_test = df_main.sample(N_val, replace=False)\n",
    "    adversarial_train = df_main[~df_main.index.isin(adversarial_test.index)]\n",
    "    \n",
    "    return adversarial_train, adversarial_test"
   ]
  },
  {
   "cell_type": "code",
   "execution_count": 29,
   "id": "b399fd29-a4e1-4471-8d9d-8a8a48aaacfa",
   "metadata": {},
   "outputs": [
    {
     "data": {
      "text/plain": [
       "((200606, 394), (50000, 394))"
      ]
     },
     "execution_count": 29,
     "metadata": {},
     "output_type": "execute_result"
    }
   ],
   "source": [
    "(adversarial_train,\n",
    " adversarial_test) = create_adversarial_data(df_train, df_test)\n",
    "\n",
    "adversarial_train.shape, adversarial_test.shape"
   ]
  },
  {
   "cell_type": "code",
   "execution_count": 30,
   "id": "0f799377-81d6-48ad-b09b-6e1694b6a653",
   "metadata": {},
   "outputs": [],
   "source": [
    "adv_train_data = Pool(\n",
    "    data=adversarial_train[adv_features],\n",
    "    label=adversarial_train[adv_target],\n",
    "    cat_features=object_feature_names\n",
    ")\n",
    "\n",
    "adv_holdout_data = Pool(\n",
    "    data=adversarial_test[adv_features],\n",
    "    label=adversarial_test[adv_target],\n",
    "    cat_features=object_feature_names\n",
    ")"
   ]
  },
  {
   "cell_type": "code",
   "execution_count": 31,
   "id": "e48a1d02-faff-4409-8405-f4ea3d1a6308",
   "metadata": {},
   "outputs": [
    {
     "data": {
      "application/vnd.jupyter.widget-view+json": {
       "model_id": "2006360bba57459987c79d89dfffb77f",
       "version_major": 2,
       "version_minor": 0
      },
      "text/plain": [
       "MetricVisualizer(layout=Layout(align_self='stretch', height='500px'))"
      ]
     },
     "metadata": {},
     "output_type": "display_data"
    }
   ],
   "source": [
    "adv_params = {\n",
    "    'iterations': 100,\n",
    "    'eval_metric': 'AUC',\n",
    "    'od_type': 'Iter',\n",
    "    'od_wait': 50,\n",
    "}\n",
    "\n",
    "adv_model = CatBoostClassifier(**adv_params)\n",
    "_ = adv_model.fit(adv_train_data,\n",
    "                  eval_set=adv_holdout_data,\n",
    "                  plot=True, verbose=False)\n"
   ]
  },
  {
   "cell_type": "code",
   "execution_count": 32,
   "id": "3e530cd7-92f4-4c41-a50d-1817148dbe6e",
   "metadata": {},
   "outputs": [],
   "source": [
    "def plot_roc(y_trues, y_preds, labels, x_max=1.0):\n",
    "    fig, ax = plt.subplots()\n",
    "    for i, y_pred in enumerate(y_preds):\n",
    "        y_true = y_trues[i]\n",
    "        fpr, tpr, thresholds = roc_curve(y_true, y_pred)\n",
    "        auc = roc_auc_score(y_true, y_pred)\n",
    "        ax.plot(fpr, tpr,\n",
    "                label='%s; AUC=%.3f' % (labels[i], auc),\n",
    "                marker='o', markersize=1)\n",
    "\n",
    "    ax.legend()\n",
    "    ax.grid()\n",
    "    ax.plot(np.linspace(0, 1, 20), np.linspace(0, 1, 20), linestyle='--')\n",
    "    ax.set_title('ROC curve')\n",
    "    ax.set_xlabel('False Positive Rate')\n",
    "    ax.set_xlim([-0.01, x_max])\n",
    "    _ = ax.set_ylabel('True Positive Rate')\n",
    "\n"
   ]
  },
  {
   "cell_type": "code",
   "execution_count": 33,
   "id": "157df2e0-6740-4a74-adef-c14c5fa66493",
   "metadata": {},
   "outputs": [
    {
     "data": {
      "image/png": "[encoded data removed]",
      "text/plain": [
       "<Figure size 432x288 with 1 Axes>"
      ]
     },
     "metadata": {
      "needs_background": "light"
     },
     "output_type": "display_data"
    }
   ],
   "source": [
    "plot_roc(\n",
    "    [adv_holdout_data.get_label()],\n",
    "    [adv_model.predict_proba(adv_holdout_data)[:,1]],\n",
    "    ['Baseline']\n",
    ")"
   ]
  },
  {
   "cell_type": "code",
   "execution_count": 34,
   "id": "cd20b6dc-6fec-42cf-be53-0e305fce2649",
   "metadata": {},
   "outputs": [
    {
     "name": "stdout",
     "output_type": "stream",
     "text": [
      "1.0\n"
     ]
    }
   ],
   "source": [
    "y_pred_adv = adv_model.predict_proba(adv_holdout_data)\n",
    "score = roc_auc_score(adv_holdout_data.get_label(), y_pred_adv[:, 1])\n",
    "print(round(score, 4))"
   ]
  },
  {
   "cell_type": "code",
   "execution_count": 35,
   "id": "b4daff4d-78df-4594-95be-f719ae25dc91",
   "metadata": {},
   "outputs": [
    {
     "data": {
      "text/plain": [
       "array([[9.99985884e-01, 1.41160568e-05],\n",
       "       [9.99983687e-01, 1.63129297e-05],\n",
       "       [9.99980232e-01, 1.97677578e-05],\n",
       "       ...,\n",
       "       [6.60444289e-02, 9.33955571e-01],\n",
       "       [2.76191793e-01, 7.23808207e-01],\n",
       "       [6.61851354e-02, 9.33814865e-01]])"
      ]
     },
     "execution_count": 35,
     "metadata": {},
     "output_type": "execute_result"
    }
   ],
   "source": [
    "y_pred = adv_model.predict_proba(df_train)\n",
    "y_pred"
   ]
  },
  {
   "cell_type": "code",
   "execution_count": 36,
   "id": "cd5cf332-7b7a-4b4a-9652-183cc01942d1",
   "metadata": {},
   "outputs": [
    {
     "data": {
      "text/plain": [
       "(0.0, 0.1]    179916\n",
       "(0.1, 0.2]         0\n",
       "(0.2, 0.3]         2\n",
       "(0.3, 0.4]         1\n",
       "(0.4, 0.5]         1\n",
       "(0.5, 0.6]         1\n",
       "(0.6, 0.7]         1\n",
       "(0.7, 0.8]        11\n",
       "(0.8, 0.9]        26\n",
       "(0.9, 1.0]        41\n",
       "dtype: int64"
      ]
     },
     "execution_count": 36,
     "metadata": {},
     "output_type": "execute_result"
    }
   ],
   "source": [
    "pd.cut(\n",
    "    y_pred[:, 1], bins=np.arange(0, 1.01, 0.1)\n",
    ").value_counts().sort_index()"
   ]
  },
  {
   "cell_type": "markdown",
   "id": "cdf6ab5c",
   "metadata": {},
   "source": [
    "<p><a name=\"task_5\"></a></p>\n",
    "\n",
    "### Задание 5: сделать KFold / StratifiedKFold валидацию (на ваше усмотрение), оценить получаемые качество и разброс по метрике качества. Сделать выводы об устойчивости кросс-валидации, сходимости оценки на кросс-валидации и отложенном наборе данных; Оценить качество на ЛБ, сделать выводы."
   ]
  },
  {
   "cell_type": "code",
   "execution_count": 37,
   "id": "d7b31e0e-db8f-411f-88b4-9ef2d49549d9",
   "metadata": {},
   "outputs": [],
   "source": [
    "def make_cross_validation(X: pd.DataFrame,\n",
    "                          y: pd.Series,\n",
    "                          estimator: object,\n",
    "                          metric: callable,\n",
    "                          cv_strategy):\n",
    "    \"\"\"\n",
    "    Кросс-валидация.\n",
    "\n",
    "    Parameters\n",
    "    ----------\n",
    "    X: pd.DataFrame\n",
    "        Матрица признаков.\n",
    "\n",
    "    y: pd.Series\n",
    "        Вектор целевой переменной.\n",
    "\n",
    "    estimator: callable\n",
    "        Объект модели для обучения.\n",
    "\n",
    "    metric: callable\n",
    "        Метрика для оценки качества решения.\n",
    "        Ожидается, что на вход будет передана функция,\n",
    "        которая принимает 2 аргумента: y_true, y_pred.\n",
    "\n",
    "    cv_strategy: cross-validation generator\n",
    "        Объект для описания стратегии кросс-валидации.\n",
    "        Ожидается, что на вход будет передан объект типа\n",
    "        KFold или StratifiedKFold.\n",
    "\n",
    "    Returns\n",
    "    -------\n",
    "    oof_score: float\n",
    "        Значение метрики качества на OOF-прогнозах.\n",
    "\n",
    "    fold_train_scores: List[float]\n",
    "        Значение метрики качества на каждом обучающем датасете кросс-валидации.\n",
    "\n",
    "    fold_valid_scores: List[float]\n",
    "        Значение метрики качества на каждом валидационном датасете кросс-валидации.\n",
    "\n",
    "    oof_predictions: np.array\n",
    "        Прогнозы на OOF.\n",
    "\n",
    "    \"\"\"\n",
    "    estimators, fold_train_scores, fold_valid_scores = [], [], []\n",
    "    oof_predictions = np.zeros(X.shape[0])\n",
    "\n",
    "    for fold_number, (train_idx, valid_idx) in enumerate(cv_strategy.split(X, y)):\n",
    "        x_train, x_valid = X.loc[train_idx], X.loc[valid_idx]\n",
    "        y_train, y_valid = y.loc[train_idx], y.loc[valid_idx]\n",
    "\n",
    "        estimator.fit(x_train, y_train)\n",
    "        y_train_pred = estimator.predict(x_train)\n",
    "        y_valid_pred = estimator.predict(x_valid)\n",
    "\n",
    "        fold_train_scores.append(metric(y_train, y_train_pred))\n",
    "        fold_valid_scores.append(metric(y_valid, y_valid_pred))\n",
    "        oof_predictions[valid_idx] = y_valid_pred\n",
    "\n",
    "        msg = (\n",
    "            f\"Fold: {fold_number+1}, train-observations = {len(train_idx)}, \"\n",
    "            f\"valid-observations = {len(valid_idx)}\\n\"\n",
    "            f\"train-score = {round(fold_train_scores[fold_number], 4)}, \"\n",
    "            f\"valid-score = {round(fold_valid_scores[fold_number], 4)}\" \n",
    "        )\n",
    "        print(msg)\n",
    "        print(\"=\"*69)\n",
    "        estimators.append(estimator)\n",
    "\n",
    "    oof_score = metric(y, oof_predictions)\n",
    "    print(f\"CV-results train: {round(np.mean(fold_train_scores), 4)} +/- {round(np.std(fold_train_scores), 3)}\")\n",
    "    print(f\"CV-results valid: {round(np.mean(fold_valid_scores), 4)} +/- {round(np.std(fold_valid_scores), 3)}\")\n",
    "    print(f\"OOF-score = {round(oof_score, 4)}\")\n",
    "\n",
    "    return estimators, oof_score, fold_train_scores, fold_valid_scores, oof_predictions"
   ]
  },
  {
   "cell_type": "code",
   "execution_count": 38,
   "id": "dbb4b805-2685-4f6f-a9e7-fc9b2d2212ce",
   "metadata": {},
   "outputs": [
    {
     "name": "stdout",
     "output_type": "stream",
     "text": [
      "Fold: 1, train-observations = 144000, valid-observations = 36000\n",
      "train-score = 0.9774, valid-score = 0.7905\n",
      "=====================================================================\n",
      "Fold: 2, train-observations = 144000, valid-observations = 36000\n",
      "train-score = 0.9795, valid-score = 0.8056\n",
      "=====================================================================\n",
      "Fold: 3, train-observations = 144000, valid-observations = 36000\n",
      "train-score = 0.9725, valid-score = 0.7983\n",
      "=====================================================================\n",
      "Fold: 4, train-observations = 144000, valid-observations = 36000\n",
      "train-score = 0.9766, valid-score = 0.8031\n",
      "=====================================================================\n",
      "Fold: 5, train-observations = 144000, valid-observations = 36000\n",
      "train-score = 0.9788, valid-score = 0.7937\n",
      "=====================================================================\n",
      "CV-results train: 0.977 +/- 0.002\n",
      "CV-results valid: 0.7982 +/- 0.006\n",
      "OOF-score = 0.7982\n"
     ]
    }
   ],
   "source": [
    "cv_strategy = KFold(n_splits=5, random_state=21, shuffle=True)\n",
    "\n",
    "estimators, oof_score, fold_train_scores, fold_valid_scores, oof_predictions = make_cross_validation(\n",
    "    train_data[numerical_feature_names], train_target, model_lgb, metric=roc_auc_score, cv_strategy=cv_strategy\n",
    ")\n"
   ]
  },
  {
   "cell_type": "markdown",
   "id": "55ce2c27",
   "metadata": {},
   "source": [
    "<p><a name=\"task_6\"></a></p>\n",
    "\n",
    "### Задание 6 (опциональное): сделать Hold-Out валидацию по времени (TransactionDT), повторить процедуры из п.1 / п.2 (на ваш выбор). Построить доверительный интервал, сравнить качество на ЛБ выборке с полученным доверительным интервалом. Сделать выводы.\n"
   ]
  },
  {
   "cell_type": "code",
   "execution_count": null,
   "id": "0ae771d1-49b0-4e9d-ab9b-3c35ffbd632e",
   "metadata": {},
   "outputs": [],
   "source": []
  },
  {
   "cell_type": "markdown",
   "id": "5d3db535",
   "metadata": {},
   "source": [
    "<p><a name=\"task_7\"></a></p>\n",
    "\n",
    "### Задание 7 (совсем опциональное): в данном наборе данных у нас есть ID-транзакции (TransactionID) и время транзакции (TransactionDT), но отсутствует ID-клиента, который совершал транзакции. Кажется, что в этой задаче валидация по клиенту работала бы хорошо. Предложить критерий, по которому можно выделить клиентов и сделать п.5, используя созданное определение клиента, используя валидацию по клиенту (GroupKFold).\n"
   ]
  },
  {
   "cell_type": "code",
   "execution_count": null,
   "id": "68f56d82-2918-4aaa-b272-e85110d5bd9b",
   "metadata": {},
   "outputs": [],
   "source": []
  }
 ],
 "metadata": {
  "kernelspec": {
   "display_name": "Python 3",
   "language": "python",
   "name": "python3"
  },
  "language_info": {
   "codemirror_mode": {
    "name": "ipython",
    "version": 3
   },
   "file_extension": ".py",
   "mimetype": "text/x-python",
   "name": "python",
   "nbconvert_exporter": "python",
   "pygments_lexer": "ipython3",
   "version": "3.9.6"
  },
  "toc-autonumbering": true,
  "toc-showcode": false,
  "toc-showmarkdowntxt": false,
  "toc-showtags": false
 },
 "nbformat": 4,
 "nbformat_minor": 5
}
