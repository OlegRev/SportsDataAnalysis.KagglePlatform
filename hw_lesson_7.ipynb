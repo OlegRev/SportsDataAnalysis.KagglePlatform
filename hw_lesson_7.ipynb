{
 "cells": [
  {
   "cell_type": "markdown",
   "id": "9f758733-cafa-4779-a0be-789b35496ca6",
   "metadata": {},
   "source": [
    "# Тема “Тюнинг гиперпараметров, построение ансамблей алгоритмов.”\n"
   ]
  },
  {
   "cell_type": "markdown",
   "id": "2efd12b1-c52e-45f8-94ea-9ac297b21c77",
   "metadata": {},
   "source": [
    "<hr>\n",
    "<b>Чтобы было больше времени на выполнение курсовой работы, задание выполнить на наборе данных для соревнования:\n",
    "    \n",
    "    Тестовая выборка - это выборка для применения модели и загрузки на ЛБ.\n",
    "<hr>\n",
    "Задания:\n",
    "<ol>\n",
    "<li><a href=\"#task_1\">Обучить алгоритмы LightGBM и XGBoost, получить OOF прогнозы, оценить корреляцию прогнозов на обучающей выборке. Применить модели на тестовую выборку и оценить корреляцию.\n",
    "</a>\n",
    "<li><a href = \"#task_2\">Усреднить прогнозы с помощью арифмитического среднего, геометрического среднего и усреднить ранги, сделать выводы о качестве отдельных моделей и о качестве комбинации.\n",
    "</a>\n",
    "<li><a href = \"#task_3\">Обучить CatBoost, получить OOF прогнозы и выполнить задание 1 для трех моделей.\n",
    "</a>\n",
    "<li><a href = \"#task_4\">Выполнить задание 2 для трех моделей.\n",
    "</a>\n",
    "<li><a href = \"#task_5\">(опция) Объединить OOF-прогнозы для трех моделей и обучить алгоритм Логистической регрессии (и любой другой, на ваше усмотрение). Сделать выводы о достигаемом качестве, сравнить достигаемое качество с качеством отдельных моделей и моделей, полученных в п.2 и п.4.\n",
    "</a>\n",
    "<li><a href = \"#task_6\">(опция) Обучить алгоритмRandomForest (желательно подтюнить параметры) и добавить к построенным ранее моделям. Выполнить задание 5.\n",
    "</a>\n",
    "</ol>"
   ]
  },
  {
   "cell_type": "markdown",
   "id": "4c4e3e99",
   "metadata": {},
   "source": [
    "## Импорт библиотек"
   ]
  },
  {
   "cell_type": "code",
   "execution_count": 1,
   "id": "44f1a039",
   "metadata": {},
   "outputs": [],
   "source": [
    "import warnings\n",
    "import time\n",
    "import numpy as np\n",
    "import pandas as pd\n",
    "import xgboost as xgb\n",
    "import lightgbm as lgb\n",
    "import catboost as cb\n",
    "\n",
    "import seaborn as sns\n",
    "import matplotlib.pyplot as plt\n",
    "\n",
    "\n",
    "\n",
    "from catboost import Pool\n",
    "from catboost.utils import get_roc_curve\n",
    "\n",
    "\n",
    "from sklearn.metrics import (f1_score, roc_auc_score,\n",
    "                             precision_score, classification_report,\n",
    "                             precision_recall_curve, confusion_matrix)\n",
    "from sklearn.model_selection import  KFold, StratifiedKFold, train_test_split, cross_val_score\n",
    "from sklearn.preprocessing import StandardScaler, MinMaxScaler, LabelEncoder\n",
    "from sklearn.base import BaseEstimator, TransformerMixin\n",
    "\n",
    "\n",
    "warnings.simplefilter(\"ignore\")\n",
    "%matplotlib inline"
   ]
  },
  {
   "cell_type": "code",
   "execution_count": 2,
   "id": "bb104435-075a-488f-800d-c8d35482f462",
   "metadata": {},
   "outputs": [],
   "source": [
    "def optimization_memory_usage(df: pd.DataFrame, category=True):\n",
    "    \"\"\" \n",
    "    Функция оптимизации числовых значений по int[8, 16, 32, 64] по float[16, 32, 64]\n",
    "    с преобразованием object -> category\n",
    "    \"\"\"\n",
    "    start_memory_usage = df.memory_usage().sum() / 1024**2\n",
    "    print(f'Memory usage of dataframe is {start_memory_usage:.2f} MB')\n",
    "    \n",
    "    for column in df.columns:\n",
    "        column_type = df[column].dtype\n",
    "        \n",
    "        if column_type != object: \n",
    "            col_min = df[column].min()\n",
    "            col_max = df[column].max()\n",
    "            if str(column_type)[:3] == 'int':\n",
    "                if col_min > np.iinfo(np.int8).min and col_max < np.iinfo(np.int8).max:\n",
    "                    df[column] = df[column].astype(np.int8)\n",
    "\n",
    "                elif col_min > np.iinfo(np.int16).min and col_max < np.iinfo(np.int16).max:\n",
    "                    df[column] = df[column].astype(np.int16)\n",
    "\n",
    "                elif col_min > np.iinfo(np.int32).min and col_max < np.iinfo(np.int32).max:\n",
    "                    df[column] = df[column].astype(np.int32)\n",
    "\n",
    "                elif col_min > np.iinfo(np.int64).min and col_max < np.iinfo(np.int64).max:\n",
    "                    df[column] = df[column].astype(np.int64) \n",
    "            else:\n",
    "                if col_min > np.finfo(np.float16).min and col_max < np.finfo(np.float16).max:\n",
    "                    df[column] = df[column].astype(np.float16)\n",
    "\n",
    "                elif col_min > np.finfo(np.float32).min and col_max < np.finfo(np.float32).max:\n",
    "                    df[column] = df[column].astype(np.float32)\n",
    "\n",
    "                else:\n",
    "                    df[column] = df[column].astype(np.float64)\n",
    "        elif category:\n",
    "            df[column] = df[column].astype('category')\n",
    "        else:\n",
    "            continue\n",
    "            \n",
    "    end_memory_usage = df.memory_usage().sum() / 1024**2\n",
    "    percent_optimization  = 100 * (start_memory_usage - end_memory_usage) / start_memory_usage\n",
    "    print(f'Memory usage after optimization is: {end_memory_usage:.2f} MB')\n",
    "    print(f'Decreased by {percent_optimization:.1f}%')\n",
    "    \n",
    "    return df\n",
    "\n",
    "\n",
    "def lightgbm_cross_validation(params, X, y, cv, categorical = None):\n",
    "    \"\"\"\n",
    "    Кросс-валидация для модели catbooost.\n",
    "\n",
    "    Parameters\n",
    "    ----------\n",
    "    params: dict\n",
    "        Словарь гиперпараметров модели.\n",
    "\n",
    "    X: pandas.core.frame.DataFrame\n",
    "        Матрица признако для обучения модели.\n",
    "\n",
    "    y: pandas.core.frame.Series\n",
    "        Вектор целевой переменной для обучения модели.\n",
    "\n",
    "    cv: KFold or StratifiedKFold generator.\n",
    "        Объект KFold / StratifiedKFold для определения\n",
    "        стратегии кросс-валидации модели.\n",
    "\n",
    "    categorical: str, optional, default = None\n",
    "        Список категориальных признаков.\n",
    "        Опциональный параметр, по умолчанию, не используется.\n",
    "\n",
    "    Returns\n",
    "    -------\n",
    "    estimators: list\n",
    "        Список с объектами обученной модели.\n",
    "\n",
    "    oof_preds: np.array\n",
    "        Вектор OOF-прогнозов.\n",
    "\n",
    "    \"\"\"\n",
    "    estimators, folds_scores, encoders = [], [], {}\n",
    "    oof_preds = np.zeros(X.shape[0])\n",
    "    \n",
    "    if categorical:\n",
    "        for feature in categorical:\n",
    "            encoder = LabelEncoder()\n",
    "            X[feature] = encoder.fit_transform(X[feature].astype(\"str\").fillna(\"NA\"))\n",
    "            encoders[feature] = encoder\n",
    "            \n",
    "    print(f\"{time.ctime()}, Cross-Validation, {X.shape[0]} rows, {X.shape[1]} cols\")\n",
    "\n",
    "    for fold, (train_idx, valid_idx) in enumerate(cv.split(X, y)):\n",
    "        x_train, x_valid = X.loc[train_idx], X.loc[valid_idx]\n",
    "        y_train, y_valid = y[train_idx], y[valid_idx]\n",
    "\n",
    "        model = lgb.LGBMClassifier(**params)\n",
    "        model.fit(\n",
    "            x_train, y_train,\n",
    "            eval_set=[(x_valid, y_valid)],\n",
    "            eval_metric=\"auc\",\n",
    "            verbose=0,\n",
    "            early_stopping_rounds=5000,\n",
    "            categorical_feature=categorical\n",
    "        )\n",
    "        oof_preds[valid_idx] = model.predict_proba(x_valid)[:, 1]\n",
    "        score = roc_auc_score(y_valid, oof_preds[valid_idx])\n",
    "        print(f\"Fold {fold+1}, Valid score = {round(score, 5)}\")\n",
    "        folds_scores.append(round(score, 5))\n",
    "        estimators.append(model)\n",
    "\n",
    "    print(f\"Score by each fold: {folds_scores}\")\n",
    "    print(\"===\"*33)\n",
    "    return estimators, encoders, oof_preds\n",
    "\n",
    "\n",
    "def xgboost_cross_validation(params, X, y, cv, categorical = None):\n",
    "    \"\"\"\n",
    "    Кросс-валидация для модели catbooost.\n",
    "\n",
    "    Parameters\n",
    "    ----------\n",
    "    params: dict\n",
    "        Словарь гиперпараметров модели.\n",
    "\n",
    "    X: pandas.core.frame.DataFrame\n",
    "        Матрица признако для обучения модели.\n",
    "\n",
    "    y: pandas.core.frame.Series\n",
    "        Вектор целевой переменной для обучения модели.\n",
    "\n",
    "    cv: KFold or StratifiedKFold generator.\n",
    "        Объект KFold / StratifiedKFold для определения\n",
    "        стратегии кросс-валидации модели.\n",
    "\n",
    "    categorical: str, optional, default = None\n",
    "        Список категориальных признаков.\n",
    "        Опциональный параметр, по умолчанию, не используется.\n",
    "\n",
    "    Returns\n",
    "    -------\n",
    "    estimators: list\n",
    "        Список с объектами обученной модели.\n",
    "\n",
    "    encoders: dict\n",
    "        Список с объектами LabelEncoders.\n",
    "\n",
    "    oof_preds: np.array\n",
    "        Вектор OOF-прогнозов.\n",
    "\n",
    "    \"\"\"\n",
    "    estimators, folds_scores, encoders = [], [], {}\n",
    "    oof_preds = np.zeros(X.shape[0])\n",
    "    \n",
    "    if categorical:\n",
    "        for feature in categorical:\n",
    "            encoder = LabelEncoder()\n",
    "            X[feature] = encoder.fit_transform(X[feature].astype(\"str\").fillna(\"NA\"))\n",
    "            encoders[feature] = encoder\n",
    "\n",
    "    print(f\"{time.ctime()}, Cross-Validation, {X.shape[0]} rows, {X.shape[1]} cols\")\n",
    "\n",
    "    for fold, (train_idx, valid_idx) in enumerate(cv.split(X, y)):\n",
    "\n",
    "        x_train, x_valid = X.loc[train_idx], X.loc[valid_idx]\n",
    "        y_train, y_valid = y[train_idx], y[valid_idx]\n",
    "        dtrain = xgb.DMatrix(x_train, y_train)\n",
    "        dvalid = xgb.DMatrix(x_valid, y_valid)\n",
    "\n",
    "        model = xgb.train(\n",
    "            params=params,\n",
    "            dtrain=dtrain,\n",
    "            maximize=True,\n",
    "            num_boost_round=10000,\n",
    "            early_stopping_rounds=25,\n",
    "            evals=[(dtrain, \"train\"), (dvalid, \"valid\")],\n",
    "            verbose_eval=0,\n",
    "        )\n",
    "        oof_preds[valid_idx] = model.predict(dvalid)\n",
    "        score = roc_auc_score(y_valid, oof_preds[valid_idx])\n",
    "        print(f\"Fold {fold+1}, Valid score = {round(score, 5)}\")\n",
    "        folds_scores.append(round(score, 5))\n",
    "        estimators.append(model)\n",
    "\n",
    "    print(f\"Score by each fold: {folds_scores}\")\n",
    "    print(\"===\"*33)\n",
    "    return estimators, encoders, oof_preds\n",
    "\n",
    "def check_missings(df: pd.DataFrame) -> pd.DataFrame:\n",
    "    \"\"\"\n",
    "    Функция для вычисления среднего и общего числа пропусков.\n",
    "\n",
    "    Parameters\n",
    "    ----------\n",
    "    df: pandas.core.DataFrame\n",
    "        Набор данных для вычисления статистики.\n",
    "\n",
    "    Returns\n",
    "    -------\n",
    "    result: pandas.core.DataFrame\n",
    "        Датафрейм со статистикой распределения пропусков.\n",
    "\n",
    "    \"\"\"\n",
    "    na = df.isnull().sum()\n",
    "    result = pd.DataFrame({\n",
    "        \"Total\": na,\n",
    "        \"Percent\": 100*na/df.shape[0],\n",
    "        \"Types\": df.dtypes\n",
    "    })\n",
    "    print(f\"Total NA-values = {na.sum()}\")\n",
    "    return result.T\n",
    "\n",
    "\n",
    "def get_duplicated(data, key):\n",
    "    return data.duplicated(subset=[key]).value_counts()"
   ]
  },
  {
   "cell_type": "markdown",
   "id": "250049e2",
   "metadata": {},
   "source": [
    "## Загрузка данных"
   ]
  },
  {
   "cell_type": "code",
   "execution_count": 3,
   "id": "3c39a34b",
   "metadata": {},
   "outputs": [],
   "source": [
    "train_df = pd.read_csv('../course_project/data/train.csv')\n",
    "test_df = pd.read_csv('../course_project/data/test.csv')\n",
    "bki_df = pd.read_csv('../course_project/data/bki.csv')\n",
    "client_profile_df = pd.read_csv('../course_project/data/client_profile.csv')\n",
    "payments_df = pd.read_csv('../course_project/data/payments.csv')\n",
    "applications_history_df = pd.read_csv('../course_project/data/applications_history.csv')\n",
    "\n",
    "df_dict = {'train.csv': train_df, 'test.csv': test_df,\n",
    "           'bki.csv': bki_df, 'client_profile.csv': client_profile_df,\n",
    "           'payments.csv': payments_df, 'applications_history.csv':applications_history_df}"
   ]
  },
  {
   "cell_type": "code",
   "execution_count": 4,
   "id": "3a05a8f4-312e-4e23-b6bd-ed5e85e805c6",
   "metadata": {},
   "outputs": [
    {
     "name": "stdout",
     "output_type": "stream",
     "text": [
      "Memory usage of dataframe is 2.52 MB\n",
      "Memory usage after optimization is: 1.37 MB\n",
      "Decreased by 45.8%\n",
      "Memory usage of dataframe is 2.52 MB\n",
      "Memory usage after optimization is: 1.89 MB\n",
      "Decreased by 25.0%\n",
      "Memory usage of dataframe is 122.60 MB\n",
      "Memory usage after optimization is: 60.40 MB\n",
      "Decreased by 50.7%\n",
      "Memory usage of dataframe is 45.78 MB\n",
      "Memory usage after optimization is: 17.40 MB\n",
      "Decreased by 62.0%\n",
      "Memory usage of dataframe is 62.50 MB\n",
      "Memory usage after optimization is: 23.44 MB\n",
      "Decreased by 62.5%\n",
      "Memory usage of dataframe is 331.31 MB\n",
      "Memory usage after optimization is: 219.81 MB\n",
      "Decreased by 33.7%\n"
     ]
    }
   ],
   "source": [
    "for key, value in df_dict.items():\n",
    "    df_dict[key] = optimization_memory_usage(value, category=False)"
   ]
  },
  {
   "cell_type": "code",
   "execution_count": 5,
   "id": "83359235-97ac-4e83-a4fc-efbb6208fee8",
   "metadata": {},
   "outputs": [
    {
     "name": "stdout",
     "output_type": "stream",
     "text": [
      "train.csv\n",
      "False    110093\n",
      "dtype: int64\n",
      "---------------------------------------\n",
      "test.csv\n",
      "False    165141\n",
      "dtype: int64\n",
      "---------------------------------------\n",
      "bki.csv\n",
      "True     672103\n",
      "False    273131\n",
      "dtype: int64\n",
      "---------------------------------------\n",
      "client_profile.csv\n",
      "False    250000\n",
      "dtype: int64\n",
      "---------------------------------------\n",
      "payments.csv\n",
      "True     759206\n",
      "False    264726\n",
      "dtype: int64\n",
      "---------------------------------------\n",
      "applications_history.csv\n",
      "True     1331357\n",
      "False     338857\n",
      "dtype: int64\n",
      "---------------------------------------\n"
     ]
    }
   ],
   "source": [
    "for key, value in df_dict.items():\n",
    "    print(f\"{key}\\n{get_duplicated(value, key='APPLICATION_NUMBER')}\\n{'---'*13}\")"
   ]
  },
  {
   "cell_type": "markdown",
   "id": "2d63989f-8bc0-42b9-82ad-d40999f006ec",
   "metadata": {},
   "source": [
    "Дубликаты отсутствуют в датасетах train.csv, test.csv, client_profile.csv.\n",
    "\n",
    "Можно объединить:\n",
    "    \n",
    "    train.csv & client_profile.csv,\n",
    "    test.csv & client_profile.csv"
   ]
  },
  {
   "cell_type": "code",
   "execution_count": 6,
   "id": "0ee61aa7-1bdd-4071-8cd7-04b31c51622d",
   "metadata": {},
   "outputs": [
    {
     "data": {
      "text/html": [
       "<div>\n",
       "<style scoped>\n",
       "    .dataframe tbody tr th:only-of-type {\n",
       "        vertical-align: middle;\n",
       "    }\n",
       "\n",
       "    .dataframe tbody tr th {\n",
       "        vertical-align: top;\n",
       "    }\n",
       "\n",
       "    .dataframe thead th {\n",
       "        text-align: right;\n",
       "    }\n",
       "</style>\n",
       "<table border=\"1\" class=\"dataframe\">\n",
       "  <thead>\n",
       "    <tr style=\"text-align: right;\">\n",
       "      <th></th>\n",
       "      <th>APPLICATION_NUMBER</th>\n",
       "      <th>TARGET</th>\n",
       "      <th>NAME_CONTRACT_TYPE</th>\n",
       "    </tr>\n",
       "  </thead>\n",
       "  <tbody>\n",
       "    <tr>\n",
       "      <th>0</th>\n",
       "      <td>123687442</td>\n",
       "      <td>0</td>\n",
       "      <td>Cash</td>\n",
       "    </tr>\n",
       "    <tr>\n",
       "      <th>1</th>\n",
       "      <td>123597908</td>\n",
       "      <td>1</td>\n",
       "      <td>Cash</td>\n",
       "    </tr>\n",
       "    <tr>\n",
       "      <th>2</th>\n",
       "      <td>123526683</td>\n",
       "      <td>0</td>\n",
       "      <td>Cash</td>\n",
       "    </tr>\n",
       "  </tbody>\n",
       "</table>\n",
       "</div>"
      ],
      "text/plain": [
       "   APPLICATION_NUMBER  TARGET NAME_CONTRACT_TYPE\n",
       "0           123687442       0               Cash\n",
       "1           123597908       1               Cash\n",
       "2           123526683       0               Cash"
      ]
     },
     "execution_count": 6,
     "metadata": {},
     "output_type": "execute_result"
    }
   ],
   "source": [
    "train_df.head(3)"
   ]
  },
  {
   "cell_type": "code",
   "execution_count": 7,
   "id": "94b3b844-39a4-409e-ba55-06386ffd4d43",
   "metadata": {},
   "outputs": [],
   "source": [
    "train_data = pd.merge(train_df, client_profile_df, on='APPLICATION_NUMBER', how='left')\n",
    "test_data = pd.merge(test_df, client_profile_df, on='APPLICATION_NUMBER', how='left')"
   ]
  },
  {
   "cell_type": "code",
   "execution_count": 8,
   "id": "b30ee3b9-d46a-4f0a-a7bb-162c66ae1e89",
   "metadata": {},
   "outputs": [],
   "source": [
    "target, train_data = train_data['TARGET'], train_data.drop(['TARGET'], axis=1)\n"
   ]
  },
  {
   "cell_type": "code",
   "execution_count": 9,
   "id": "f75eb2ee-7c67-47a5-b2ea-37cea0a48df7",
   "metadata": {},
   "outputs": [
    {
     "data": {
      "text/html": [
       "<div>\n",
       "<style scoped>\n",
       "    .dataframe tbody tr th:only-of-type {\n",
       "        vertical-align: middle;\n",
       "    }\n",
       "\n",
       "    .dataframe tbody tr th {\n",
       "        vertical-align: top;\n",
       "    }\n",
       "\n",
       "    .dataframe thead th {\n",
       "        text-align: right;\n",
       "    }\n",
       "</style>\n",
       "<table border=\"1\" class=\"dataframe\">\n",
       "  <thead>\n",
       "    <tr style=\"text-align: right;\">\n",
       "      <th></th>\n",
       "      <th>APPLICATION_NUMBER</th>\n",
       "      <th>NAME_CONTRACT_TYPE</th>\n",
       "      <th>GENDER</th>\n",
       "      <th>CHILDRENS</th>\n",
       "      <th>TOTAL_SALARY</th>\n",
       "      <th>AMOUNT_CREDIT</th>\n",
       "      <th>AMOUNT_ANNUITY</th>\n",
       "      <th>EDUCATION_LEVEL</th>\n",
       "      <th>FAMILY_STATUS</th>\n",
       "      <th>REGION_POPULATION</th>\n",
       "      <th>...</th>\n",
       "      <th>FAMILY_SIZE</th>\n",
       "      <th>EXTERNAL_SCORING_RATING_1</th>\n",
       "      <th>EXTERNAL_SCORING_RATING_2</th>\n",
       "      <th>EXTERNAL_SCORING_RATING_3</th>\n",
       "      <th>AMT_REQ_CREDIT_BUREAU_HOUR</th>\n",
       "      <th>AMT_REQ_CREDIT_BUREAU_DAY</th>\n",
       "      <th>AMT_REQ_CREDIT_BUREAU_WEEK</th>\n",
       "      <th>AMT_REQ_CREDIT_BUREAU_MON</th>\n",
       "      <th>AMT_REQ_CREDIT_BUREAU_QRT</th>\n",
       "      <th>AMT_REQ_CREDIT_BUREAU_YEAR</th>\n",
       "    </tr>\n",
       "  </thead>\n",
       "  <tbody>\n",
       "    <tr>\n",
       "      <th>0</th>\n",
       "      <td>123687442</td>\n",
       "      <td>Cash</td>\n",
       "      <td>M</td>\n",
       "      <td>1.0</td>\n",
       "      <td>157500.0</td>\n",
       "      <td>855000.0</td>\n",
       "      <td>25128.0</td>\n",
       "      <td>Secondary / secondary special</td>\n",
       "      <td>Married</td>\n",
       "      <td>0.019104</td>\n",
       "      <td>...</td>\n",
       "      <td>3.0</td>\n",
       "      <td>0.700684</td>\n",
       "      <td>0.645996</td>\n",
       "      <td>0.716797</td>\n",
       "      <td>0.0</td>\n",
       "      <td>0.0</td>\n",
       "      <td>1.0</td>\n",
       "      <td>0.0</td>\n",
       "      <td>0.0</td>\n",
       "      <td>2.0</td>\n",
       "    </tr>\n",
       "    <tr>\n",
       "      <th>1</th>\n",
       "      <td>123597908</td>\n",
       "      <td>Cash</td>\n",
       "      <td>NaN</td>\n",
       "      <td>NaN</td>\n",
       "      <td>NaN</td>\n",
       "      <td>NaN</td>\n",
       "      <td>NaN</td>\n",
       "      <td>NaN</td>\n",
       "      <td>NaN</td>\n",
       "      <td>NaN</td>\n",
       "      <td>...</td>\n",
       "      <td>NaN</td>\n",
       "      <td>NaN</td>\n",
       "      <td>NaN</td>\n",
       "      <td>NaN</td>\n",
       "      <td>NaN</td>\n",
       "      <td>NaN</td>\n",
       "      <td>NaN</td>\n",
       "      <td>NaN</td>\n",
       "      <td>NaN</td>\n",
       "      <td>NaN</td>\n",
       "    </tr>\n",
       "    <tr>\n",
       "      <th>2</th>\n",
       "      <td>123526683</td>\n",
       "      <td>Cash</td>\n",
       "      <td>F</td>\n",
       "      <td>0.0</td>\n",
       "      <td>135000.0</td>\n",
       "      <td>1006920.0</td>\n",
       "      <td>42660.0</td>\n",
       "      <td>Higher education</td>\n",
       "      <td>Married</td>\n",
       "      <td>0.026398</td>\n",
       "      <td>...</td>\n",
       "      <td>2.0</td>\n",
       "      <td>NaN</td>\n",
       "      <td>0.682129</td>\n",
       "      <td>0.267822</td>\n",
       "      <td>0.0</td>\n",
       "      <td>0.0</td>\n",
       "      <td>0.0</td>\n",
       "      <td>7.0</td>\n",
       "      <td>0.0</td>\n",
       "      <td>4.0</td>\n",
       "    </tr>\n",
       "  </tbody>\n",
       "</table>\n",
       "<p>3 rows × 25 columns</p>\n",
       "</div>"
      ],
      "text/plain": [
       "   APPLICATION_NUMBER NAME_CONTRACT_TYPE GENDER  CHILDRENS  TOTAL_SALARY  \\\n",
       "0           123687442               Cash      M        1.0      157500.0   \n",
       "1           123597908               Cash    NaN        NaN           NaN   \n",
       "2           123526683               Cash      F        0.0      135000.0   \n",
       "\n",
       "   AMOUNT_CREDIT  AMOUNT_ANNUITY                EDUCATION_LEVEL FAMILY_STATUS  \\\n",
       "0       855000.0         25128.0  Secondary / secondary special       Married   \n",
       "1            NaN             NaN                            NaN           NaN   \n",
       "2      1006920.0         42660.0               Higher education       Married   \n",
       "\n",
       "   REGION_POPULATION  ...  FAMILY_SIZE  EXTERNAL_SCORING_RATING_1  \\\n",
       "0           0.019104  ...          3.0                   0.700684   \n",
       "1                NaN  ...          NaN                        NaN   \n",
       "2           0.026398  ...          2.0                        NaN   \n",
       "\n",
       "   EXTERNAL_SCORING_RATING_2  EXTERNAL_SCORING_RATING_3  \\\n",
       "0                   0.645996                   0.716797   \n",
       "1                        NaN                        NaN   \n",
       "2                   0.682129                   0.267822   \n",
       "\n",
       "   AMT_REQ_CREDIT_BUREAU_HOUR  AMT_REQ_CREDIT_BUREAU_DAY  \\\n",
       "0                         0.0                        0.0   \n",
       "1                         NaN                        NaN   \n",
       "2                         0.0                        0.0   \n",
       "\n",
       "   AMT_REQ_CREDIT_BUREAU_WEEK  AMT_REQ_CREDIT_BUREAU_MON  \\\n",
       "0                         1.0                        0.0   \n",
       "1                         NaN                        NaN   \n",
       "2                         0.0                        7.0   \n",
       "\n",
       "   AMT_REQ_CREDIT_BUREAU_QRT  AMT_REQ_CREDIT_BUREAU_YEAR  \n",
       "0                        0.0                         2.0  \n",
       "1                        NaN                         NaN  \n",
       "2                        0.0                         4.0  \n",
       "\n",
       "[3 rows x 25 columns]"
      ]
     },
     "execution_count": 9,
     "metadata": {},
     "output_type": "execute_result"
    }
   ],
   "source": [
    "train_data.head(3)"
   ]
  },
  {
   "cell_type": "markdown",
   "id": "c85ad42d",
   "metadata": {
    "tags": []
   },
   "source": [
    "## Выполнение заданий"
   ]
  },
  {
   "cell_type": "markdown",
   "id": "655ebc5e-32f0-4209-84c3-a7ed1486d4aa",
   "metadata": {},
   "source": [
    "Параметры моделей"
   ]
  },
  {
   "cell_type": "code",
   "execution_count": 10,
   "id": "df5a604a-6c08-4b63-8b9e-58d0f4e420e9",
   "metadata": {},
   "outputs": [],
   "source": [
    "lgb_params = { \n",
    "    'boosting_type': 'gbdt',\n",
    "    'n_estimators': 1000,\n",
    "    'learning_rate': 0.05134,\n",
    "    'num_leaves': 54,\n",
    "    'max_depth': 10,\n",
    "    'subsample_for_bin': 240000,\n",
    "    'reg_alpha': 0.436193,\n",
    "    'reg_lambda': 0.479169,\n",
    "    'colsample_bytree': 0.508716,\n",
    "    'min_split_gain': 0.024766,\n",
    "    'subsample': 0.7,\n",
    "    'is_unbalance': True,\n",
    "    'random_state': 21,\n",
    "    'silent': -1,\n",
    "    'verbose': -1,\n",
    "}\n",
    "\n",
    "\n",
    "\n",
    "xgb_params = {\n",
    "    \"booster\": \"gbtree\",\n",
    "    \"objective\": \"binary:logistic\",\n",
    "    \"eval_metric\": \"auc\",\n",
    "    \"learning_rate\": 0.1,\n",
    "    \"reg_lambda\": 10,\n",
    "    \"max_depth\": 4,\n",
    "    \"gamma\": 10,\n",
    "    \"nthread\": -1,\n",
    "    \"seed\": 21\n",
    "}\n",
    "\n",
    "cb_params = {\n",
    "    \"n_estimators\": 2000,\n",
    "    \"loss_function\": \"Logloss\",\n",
    "    \"eval_metric\": \"AUC\",\n",
    "    \"task_type\": \"CPU\",\n",
    "    #\"max_bin\": 20,\n",
    "    \"verbose\": 10,\n",
    "    \"max_depth\": 6,\n",
    "    \"l2_leaf_reg\": 100,\n",
    "    \"early_stopping_rounds\": 50,\n",
    "    \"thread_count\": -1,\n",
    "    \"random_seed\": 21\n",
    "}"
   ]
  },
  {
   "cell_type": "markdown",
   "id": "da8f0954",
   "metadata": {},
   "source": [
    "<p><a name=\"task_1\"></a></p>\n",
    "\n",
    "### Задание 1: Обучить алгоритмы LightGBM и XGBoost, получить OOF прогнозы, оценить корреляцию прогнозов на обучающей выборке. Применить модели на тестовую выборку и оценить корреляцию.\n"
   ]
  },
  {
   "cell_type": "code",
   "execution_count": 11,
   "id": "4cea58f7-b5c5-4527-a57f-6306619d06dc",
   "metadata": {},
   "outputs": [
    {
     "data": {
      "text/plain": [
       "['NAME_CONTRACT_TYPE', 'GENDER', 'EDUCATION_LEVEL', 'FAMILY_STATUS']"
      ]
     },
     "execution_count": 11,
     "metadata": {},
     "output_type": "execute_result"
    }
   ],
   "source": [
    "train_cat_features = train_data.select_dtypes(include=[np.object]).columns.to_list()\n",
    "train_cat_features"
   ]
  },
  {
   "cell_type": "code",
   "execution_count": 12,
   "id": "3718857f-a6cc-4639-a3cb-a06a860dac74",
   "metadata": {},
   "outputs": [],
   "source": [
    "lgb_cv = KFold(n_splits=10, random_state=21, shuffle=True)\n"
   ]
  },
  {
   "cell_type": "code",
   "execution_count": 13,
   "id": "9b16194d-f7ae-49ac-b377-0bdd234f44ab",
   "metadata": {},
   "outputs": [
    {
     "name": "stdout",
     "output_type": "stream",
     "text": [
      "Fri Oct 29 16:39:16 2021, Cross-Validation, 110093 rows, 25 cols\n",
      "Fold 1, Valid score = 0.70453\n",
      "Fold 2, Valid score = 0.72548\n",
      "Fold 3, Valid score = 0.72524\n",
      "Fold 4, Valid score = 0.71858\n",
      "Fold 5, Valid score = 0.7016\n",
      "Fold 6, Valid score = 0.7282\n",
      "Fold 7, Valid score = 0.71808\n",
      "Fold 8, Valid score = 0.72422\n",
      "Fold 9, Valid score = 0.72647\n",
      "Fold 10, Valid score = 0.72974\n",
      "Score by each fold: [0.70453, 0.72548, 0.72524, 0.71858, 0.7016, 0.7282, 0.71808, 0.72422, 0.72647, 0.72974]\n",
      "===================================================================================================\n"
     ]
    }
   ],
   "source": [
    "lgb_estimators, _, lgb_oof_preds = lightgbm_cross_validation(lgb_params,\n",
    "                                                             train_data,\n",
    "                                                             target,\n",
    "                                                             lgb_cv,\n",
    "                                                             train_cat_features\n",
    "                                                            )"
   ]
  },
  {
   "cell_type": "code",
   "execution_count": 14,
   "id": "db7ad222-730a-4109-9a74-9646cce1687a",
   "metadata": {},
   "outputs": [
    {
     "name": "stdout",
     "output_type": "stream",
     "text": [
      "Score = 0.71932\n"
     ]
    }
   ],
   "source": [
    "score = roc_auc_score(target, lgb_oof_preds)\n",
    "print(f\"Score = {round(score, 5)}\")"
   ]
  },
  {
   "cell_type": "code",
   "execution_count": 15,
   "id": "b9df4f8e-03df-4d11-98b8-c85942975e10",
   "metadata": {},
   "outputs": [],
   "source": [
    "xgb_cv = KFold(n_splits=10, random_state=21, shuffle=True)\n"
   ]
  },
  {
   "cell_type": "code",
   "execution_count": 16,
   "id": "5e6e0e5b-5e19-46fa-a9dd-c10b121f1f9f",
   "metadata": {},
   "outputs": [
    {
     "name": "stdout",
     "output_type": "stream",
     "text": [
      "Fri Oct 29 16:40:34 2021, Cross-Validation, 110093 rows, 25 cols\n",
      "Fold 1, Valid score = 0.70671\n",
      "Fold 2, Valid score = 0.72587\n",
      "Fold 3, Valid score = 0.72252\n",
      "Fold 4, Valid score = 0.71702\n",
      "Fold 5, Valid score = 0.70015\n",
      "Fold 6, Valid score = 0.7226\n",
      "Fold 7, Valid score = 0.7155\n",
      "Fold 8, Valid score = 0.71841\n",
      "Fold 9, Valid score = 0.72738\n",
      "Fold 10, Valid score = 0.72484\n",
      "Score by each fold: [0.70671, 0.72587, 0.72252, 0.71702, 0.70015, 0.7226, 0.7155, 0.71841, 0.72738, 0.72484]\n",
      "===================================================================================================\n"
     ]
    }
   ],
   "source": [
    "xgb_estimators, _, xgb_oof_preds = xgboost_cross_validation(xgb_params,\n",
    "                                                            train_data,\n",
    "                                                            target,\n",
    "                                                            xgb_cv,\n",
    "                                                            train_cat_features\n",
    "                                                           )\n"
   ]
  },
  {
   "cell_type": "code",
   "execution_count": 17,
   "id": "0d448e72-d727-4212-8105-e1e9c720dcef",
   "metadata": {},
   "outputs": [
    {
     "name": "stdout",
     "output_type": "stream",
     "text": [
      "Score = 0.71762\n"
     ]
    }
   ],
   "source": [
    "score = roc_auc_score(target, xgb_oof_preds)\n",
    "print(f\"Score = {round(score, 5)}\")"
   ]
  },
  {
   "cell_type": "code",
   "execution_count": 18,
   "id": "b77622dd-58df-4242-b49e-b5e01521be8b",
   "metadata": {},
   "outputs": [],
   "source": [
    "scores = pd.DataFrame({\n",
    "    \"lgb_oof_preds\": lgb_oof_preds,\n",
    "    \"xgb_oof_preds\": xgb_oof_preds,\n",
    "})\n",
    "\n",
    "corr = scores.corr()\n",
    "mask = np.zeros_like(corr, dtype=np.bool)\n",
    "mask[np.triu_indices_from(mask)] = True"
   ]
  },
  {
   "cell_type": "code",
   "execution_count": 19,
   "id": "11d0a568-928b-45af-9732-179762c6e360",
   "metadata": {},
   "outputs": [
    {
     "data": {
      "text/plain": [
       "<AxesSubplot:>"
      ]
     },
     "execution_count": 19,
     "metadata": {},
     "output_type": "execute_result"
    },
    {
     "data": {
      "image/png": "[encoded data removed]",
      "text/plain": [
       "<Figure size 720x720 with 2 Axes>"
      ]
     },
     "metadata": {
      "needs_background": "light"
     },
     "output_type": "display_data"
    }
   ],
   "source": [
    "fig, axes = plt.subplots(1, 1, figsize=(10, 10))\n",
    "sns.heatmap(corr, mask=mask, annot=True, fmt=\".4g\", square=True, cmap=\"viridis\", ax=axes)"
   ]
  },
  {
   "cell_type": "code",
   "execution_count": null,
   "id": "30815d12-0597-4135-a112-0a1fec7c90a5",
   "metadata": {},
   "outputs": [],
   "source": []
  },
  {
   "cell_type": "markdown",
   "id": "d783afec",
   "metadata": {},
   "source": [
    "<p><a name=\"task_2\"></a></p>\n",
    "\n",
    "### Задание 2: Усреднить прогнозы с помощью арифмитического среднего, геометрического среднего и усреднить ранги, сделать выводы о качестве отдельных моделей и о качестве комбинации.\n"
   ]
  },
  {
   "cell_type": "code",
   "execution_count": null,
   "id": "67bb941b-031f-4399-8ace-3ae6f3a7bdbd",
   "metadata": {},
   "outputs": [],
   "source": []
  },
  {
   "cell_type": "markdown",
   "id": "da68a691",
   "metadata": {},
   "source": [
    "<p><a name=\"task_3\"></a></p>\n",
    "\n",
    "### Задание 3: Обучить CatBoost, получить OOF прогнозы и выполнить задание 1 для трех моделей."
   ]
  },
  {
   "cell_type": "code",
   "execution_count": null,
   "id": "82b642f2-7fb0-45c7-8606-dc76b5eddaa1",
   "metadata": {},
   "outputs": [],
   "source": []
  },
  {
   "cell_type": "markdown",
   "id": "cdf6ab5c",
   "metadata": {},
   "source": [
    "<p><a name=\"task_4\"></a></p>\n",
    "\n",
    "### Задание 4: Выполнить задание 2 для трех моделей."
   ]
  },
  {
   "cell_type": "code",
   "execution_count": null,
   "id": "3e3c4ab3-6825-43c1-ba4a-0b72c4047b64",
   "metadata": {},
   "outputs": [],
   "source": []
  },
  {
   "cell_type": "markdown",
   "id": "55ce2c27",
   "metadata": {},
   "source": [
    "<p><a name=\"task_5\"></a></p>\n",
    "\n",
    "### Задание 5: (опция) Объединить OOF-прогнозы для трех моделей и обучить алгоритм Логистической регрессии (и любой другой, на ваше усмотрение). Сделать выводы о достигаемом качестве, сравнить достигаемое качество с качеством отдельных моделей и моделей, полученных в п.2 и п.4.\n"
   ]
  },
  {
   "cell_type": "code",
   "execution_count": null,
   "id": "251017e2-e115-4a08-9c2f-25802abe55f0",
   "metadata": {},
   "outputs": [],
   "source": []
  },
  {
   "cell_type": "markdown",
   "id": "5d3db535",
   "metadata": {},
   "source": [
    "<p><a name=\"task_6\"></a></p>\n",
    "\n",
    "### Задание 6 : (опция) Обучить алгоритмRandomForest (желательно подтюнить параметры) и добавить к построенным ранее моделям. Выполнить задание 5.\n"
   ]
  },
  {
   "cell_type": "code",
   "execution_count": null,
   "id": "219c881e-d4af-4e40-a181-03b7eab7966c",
   "metadata": {},
   "outputs": [],
   "source": []
  }
 ],
 "metadata": {
  "kernelspec": {
   "display_name": "Python 3",
   "language": "python",
   "name": "python3"
  },
  "language_info": {
   "codemirror_mode": {
    "name": "ipython",
    "version": 3
   },
   "file_extension": ".py",
   "mimetype": "text/x-python",
   "name": "python",
   "nbconvert_exporter": "python",
   "pygments_lexer": "ipython3",
   "version": "3.9.7"
  },
  "toc-autonumbering": true,
  "toc-showcode": false,
  "toc-showmarkdowntxt": false,
  "toc-showtags": false
 },
 "nbformat": 4,
 "nbformat_minor": 5
}
