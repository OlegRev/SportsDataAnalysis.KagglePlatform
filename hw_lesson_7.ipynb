{
 "cells": [
  {
   "cell_type": "markdown",
   "id": "9f758733-cafa-4779-a0be-789b35496ca6",
   "metadata": {},
   "source": [
    "# Тема “Тюнинг гиперпараметров, построение ансамблей алгоритмов.”\n"
   ]
  },
  {
   "cell_type": "markdown",
   "id": "2efd12b1-c52e-45f8-94ea-9ac297b21c77",
   "metadata": {},
   "source": [
    "<hr>\n",
    "<b>Чтобы было больше времени на выполнение курсовой работы, задание выполнить на наборе данных для соревнования:\n",
    "    \n",
    "    Тестовая выборка - это выборка для применения модели и загрузки на ЛБ.\n",
    "<hr>\n",
    "Задания:\n",
    "<ol>\n",
    "<li><a href=\"#task_1\">Обучить алгоритмы LightGBM и XGBoost, получить OOF прогнозы, оценить корреляцию прогнозов на обучающей выборке. Применить модели на тестовую выборку и оценить корреляцию.\n",
    "</a>\n",
    "<li><a href = \"#task_2\">Усреднить прогнозы с помощью арифмитического среднего, геометрического среднего и усреднить ранги, сделать выводы о качестве отдельных моделей и о качестве комбинации.\n",
    "</a>\n",
    "<li><a href = \"#task_3\">Обучить CatBoost, получить OOF прогнозы и выполнить задание 1 для трех моделей.\n",
    "</a>\n",
    "<li><a href = \"#task_4\">Выполнить задание 2 для трех моделей.\n",
    "</a>\n",
    "<li><a href = \"#task_5\">(опция) Объединить OOF-прогнозы для трех моделей и обучить алгоритм Логистической регрессии (и любой другой, на ваше усмотрение). Сделать выводы о достигаемом качестве, сравнить достигаемое качество с качеством отдельных моделей и моделей, полученных в п.2 и п.4.\n",
    "</a>\n",
    "<li><a href = \"#task_6\">(опция) Обучить алгоритмRandomForest (желательно подтюнить параметры) и добавить к построенным ранее моделям. Выполнить задание 5.\n",
    "</a>\n",
    "</ol>"
   ]
  },
  {
   "cell_type": "markdown",
   "id": "4c4e3e99",
   "metadata": {},
   "source": [
    "## Импорт библиотек"
   ]
  },
  {
   "cell_type": "code",
   "execution_count": 1,
   "id": "44f1a039",
   "metadata": {},
   "outputs": [],
   "source": [
    "import warnings\n",
    "import time\n",
    "import numpy as np\n",
    "import pandas as pd\n",
    "import xgboost as xgb\n",
    "import lightgbm as lgb\n",
    "import catboost as cb\n",
    "\n",
    "import seaborn as sns\n",
    "import matplotlib.pyplot as plt\n",
    "\n",
    "\n",
    "\n",
    "from catboost import Pool\n",
    "from catboost.utils import get_roc_curve\n",
    "\n",
    "\n",
    "from sklearn.metrics import (f1_score, roc_auc_score,\n",
    "                             precision_score, classification_report,\n",
    "                             precision_recall_curve, confusion_matrix)\n",
    "from sklearn.model_selection import  KFold, StratifiedKFold, train_test_split, cross_val_score\n",
    "from sklearn.preprocessing import StandardScaler, MinMaxScaler, LabelEncoder\n",
    "from sklearn.base import BaseEstimator, TransformerMixin\n",
    "\n",
    "\n",
    "warnings.simplefilter(\"ignore\")\n",
    "%matplotlib inline"
   ]
  },
  {
   "cell_type": "code",
   "execution_count": 2,
   "id": "bb104435-075a-488f-800d-c8d35482f462",
   "metadata": {},
   "outputs": [],
   "source": [
    "def optimization_memory_usage(df: pd.DataFrame, category=True):\n",
    "    \"\"\" \n",
    "    Функция оптимизации числовых значений по int[8, 16, 32, 64] по float[16, 32, 64]\n",
    "    с преобразованием object -> category\n",
    "    \"\"\"\n",
    "    start_memory_usage = df.memory_usage().sum() / 1024**2\n",
    "    print(f'Memory usage of dataframe is {start_memory_usage:.2f} MB')\n",
    "    \n",
    "    for column in df.columns:\n",
    "        column_type = df[column].dtype\n",
    "        \n",
    "        if column_type != object: \n",
    "            col_min = df[column].min()\n",
    "            col_max = df[column].max()\n",
    "            if str(column_type)[:3] == 'int':\n",
    "                if col_min > np.iinfo(np.int8).min and col_max < np.iinfo(np.int8).max:\n",
    "                    df[column] = df[column].astype(np.int8)\n",
    "\n",
    "                elif col_min > np.iinfo(np.int16).min and col_max < np.iinfo(np.int16).max:\n",
    "                    df[column] = df[column].astype(np.int16)\n",
    "\n",
    "                elif col_min > np.iinfo(np.int32).min and col_max < np.iinfo(np.int32).max:\n",
    "                    df[column] = df[column].astype(np.int32)\n",
    "\n",
    "                elif col_min > np.iinfo(np.int64).min and col_max < np.iinfo(np.int64).max:\n",
    "                    df[column] = df[column].astype(np.int64) \n",
    "            else:\n",
    "                if col_min > np.finfo(np.float16).min and col_max < np.finfo(np.float16).max:\n",
    "                    df[column] = df[column].astype(np.float16)\n",
    "\n",
    "                elif col_min > np.finfo(np.float32).min and col_max < np.finfo(np.float32).max:\n",
    "                    df[column] = df[column].astype(np.float32)\n",
    "\n",
    "                else:\n",
    "                    df[column] = df[column].astype(np.float64)\n",
    "        elif category:\n",
    "            df[column] = df[column].astype('category')\n",
    "        else:\n",
    "            continue\n",
    "            \n",
    "    end_memory_usage = df.memory_usage().sum() / 1024**2\n",
    "    percent_optimization  = 100 * (start_memory_usage - end_memory_usage) / start_memory_usage\n",
    "    print(f'Memory usage after optimization is: {end_memory_usage:.2f} MB')\n",
    "    print(f'Decreased by {percent_optimization:.1f}%')\n",
    "    \n",
    "    return df\n",
    "\n",
    "\n",
    "def lightgbm_cross_validation(params, X, y, cv, categorical = None):\n",
    "    \"\"\"\n",
    "    Кросс-валидация для модели catbooost.\n",
    "\n",
    "    Parameters\n",
    "    ----------\n",
    "    params: dict\n",
    "        Словарь гиперпараметров модели.\n",
    "\n",
    "    X: pandas.core.frame.DataFrame\n",
    "        Матрица признако для обучения модели.\n",
    "\n",
    "    y: pandas.core.frame.Series\n",
    "        Вектор целевой переменной для обучения модели.\n",
    "\n",
    "    cv: KFold or StratifiedKFold generator.\n",
    "        Объект KFold / StratifiedKFold для определения\n",
    "        стратегии кросс-валидации модели.\n",
    "\n",
    "    categorical: str, optional, default = None\n",
    "        Список категориальных признаков.\n",
    "        Опциональный параметр, по умолчанию, не используется.\n",
    "\n",
    "    Returns\n",
    "    -------\n",
    "    estimators: list\n",
    "        Список с объектами обученной модели.\n",
    "\n",
    "    oof_preds: np.array\n",
    "        Вектор OOF-прогнозов.\n",
    "\n",
    "    \"\"\"\n",
    "    estimators, folds_scores, encoders = [], [], {}\n",
    "    oof_preds = np.zeros(X.shape[0])\n",
    "    \n",
    "    if categorical:\n",
    "        for feature in categorical:\n",
    "            encoder = LabelEncoder()\n",
    "            X[feature] = encoder.fit_transform(X[feature].astype(\"str\").fillna(\"NA\"))\n",
    "            encoders[feature] = encoder\n",
    "            \n",
    "    print(f\"{time.ctime()}, Cross-Validation, {X.shape[0]} rows, {X.shape[1]} cols\")\n",
    "\n",
    "    for fold, (train_idx, valid_idx) in enumerate(cv.split(X, y)):\n",
    "        x_train, x_valid = X.loc[train_idx], X.loc[valid_idx]\n",
    "        y_train, y_valid = y[train_idx], y[valid_idx]\n",
    "\n",
    "        model = lgb.LGBMClassifier(**params)\n",
    "        model.fit(\n",
    "            x_train, y_train,\n",
    "            eval_set=[(x_valid, y_valid)],\n",
    "            eval_metric=\"auc\",\n",
    "            verbose=0,\n",
    "            early_stopping_rounds=5000,\n",
    "            categorical_feature=categorical\n",
    "        )\n",
    "        oof_preds[valid_idx] = model.predict_proba(x_valid)[:, 1]\n",
    "        score = roc_auc_score(y_valid, oof_preds[valid_idx])\n",
    "        print(f\"Fold {fold+1}, Valid score = {round(score, 5)}\")\n",
    "        folds_scores.append(round(score, 5))\n",
    "        estimators.append(model)\n",
    "\n",
    "    print(f\"Score by each fold: {folds_scores}\")\n",
    "    print(\"===\"*33)\n",
    "    return estimators, encoders, oof_preds\n",
    "\n",
    "\n",
    "def xgboost_cross_validation(params, X, y, cv, categorical = None):\n",
    "    \"\"\"\n",
    "    Кросс-валидация для модели xgboost.\n",
    "\n",
    "    Parameters\n",
    "    ----------\n",
    "    params: dict\n",
    "        Словарь гиперпараметров модели.\n",
    "\n",
    "    X: pandas.core.frame.DataFrame\n",
    "        Матрица признако для обучения модели.\n",
    "\n",
    "    y: pandas.core.frame.Series\n",
    "        Вектор целевой переменной для обучения модели.\n",
    "\n",
    "    cv: KFold or StratifiedKFold generator.\n",
    "        Объект KFold / StratifiedKFold для определения\n",
    "        стратегии кросс-валидации модели.\n",
    "\n",
    "    categorical: str, optional, default = None\n",
    "        Список категориальных признаков.\n",
    "        Опциональный параметр, по умолчанию, не используется.\n",
    "\n",
    "    Returns\n",
    "    -------\n",
    "    estimators: list\n",
    "        Список с объектами обученной модели.\n",
    "\n",
    "    encoders: dict\n",
    "        Список с объектами LabelEncoders.\n",
    "\n",
    "    oof_preds: np.array\n",
    "        Вектор OOF-прогнозов.\n",
    "\n",
    "    \"\"\"\n",
    "    estimators, folds_scores, encoders = [], [], {}\n",
    "    oof_preds = np.zeros(X.shape[0])\n",
    "    \n",
    "    if categorical:\n",
    "        for feature in categorical:\n",
    "            encoder = LabelEncoder()\n",
    "            X[feature] = encoder.fit_transform(X[feature].astype(\"str\").fillna(\"NA\"))\n",
    "            encoders[feature] = encoder\n",
    "\n",
    "    print(f\"{time.ctime()}, Cross-Validation, {X.shape[0]} rows, {X.shape[1]} cols\")\n",
    "\n",
    "    for fold, (train_idx, valid_idx) in enumerate(cv.split(X, y)):\n",
    "\n",
    "        x_train, x_valid = X.loc[train_idx], X.loc[valid_idx]\n",
    "        y_train, y_valid = y[train_idx], y[valid_idx]\n",
    "        dtrain = xgb.DMatrix(x_train, y_train)\n",
    "        dvalid = xgb.DMatrix(x_valid, y_valid)\n",
    "\n",
    "        model = xgb.train(\n",
    "            params=params,\n",
    "            dtrain=dtrain,\n",
    "            maximize=True,\n",
    "            num_boost_round=10000,\n",
    "            early_stopping_rounds=25,\n",
    "            evals=[(dtrain, \"train\"), (dvalid, \"valid\")],\n",
    "            verbose_eval=0,\n",
    "        )\n",
    "        \n",
    "        oof_preds[valid_idx] = model.predict(dvalid)\n",
    "        score = roc_auc_score(y_valid, oof_preds[valid_idx])\n",
    "        print(f\"Fold {fold+1}, Valid score = {round(score, 5)}\")\n",
    "        folds_scores.append(round(score, 5))\n",
    "        estimators.append(model)\n",
    "\n",
    "    print(f\"Score by each fold: {folds_scores}\")\n",
    "    print(\"===\"*33)\n",
    "    return estimators, encoders, oof_preds\n",
    "\n",
    "\n",
    "def check_missings(df: pd.DataFrame) -> pd.DataFrame:\n",
    "    \"\"\"\n",
    "    Функция для вычисления среднего и общего числа пропусков.\n",
    "\n",
    "    Parameters\n",
    "    ----------\n",
    "    df: pandas.core.DataFrame\n",
    "        Набор данных для вычисления статистики.\n",
    "\n",
    "    Returns\n",
    "    -------\n",
    "    result: pandas.core.DataFrame\n",
    "        Датафрейм со статистикой распределения пропусков.\n",
    "\n",
    "    \"\"\"\n",
    "    na = df.isnull().sum()\n",
    "    result = pd.DataFrame({\n",
    "        \"Total\": na,\n",
    "        \"Percent\": 100*na/df.shape[0],\n",
    "        \"Types\": df.dtypes\n",
    "    })\n",
    "    print(f\"Total NA-values = {na.sum()}\")\n",
    "    return result.T\n",
    "\n",
    "\n",
    "def _predict(estimator, x_valid):\n",
    "    if hasattr(estimator, \"predict_proba\"):\n",
    "        y_pred = estimator.predict_proba(x_valid)[:, 1]\n",
    "    else:\n",
    "        y_pred = estimator.predict(x_valid)\n",
    "\n",
    "    return y_pred\n",
    "\n",
    "\n",
    "def cross_val_pred(estimators, X, cv, categorical=None):\n",
    "    \n",
    "    encoders = {}\n",
    "    oof_preds = np.zeros(X.shape[0])\n",
    "    \n",
    "    if categorical:\n",
    "        for feature in categorical:\n",
    "            encoder = LabelEncoder()\n",
    "            X[feature] = encoder.fit_transform(X[feature].astype(\"str\").fillna(\"NA\"))\n",
    "            encoders[feature] = encoder\n",
    "            \n",
    "    \n",
    "    for fold, (train_idx, valid_idx) in enumerate(cv.split(X)):\n",
    "        x_train, x_valid = X.loc[train_idx], X.loc[valid_idx]\n",
    "        model = estimators[fold]\n",
    "        model_name = model.__class__.__name__\n",
    "        \n",
    "        if model_name == 'Booster':\n",
    "            x_train = xgb.DMatrix(x_train)\n",
    "            x_valid = xgb.DMatrix(x_valid)\n",
    "        \n",
    "        oof_preds[valid_idx] = _predict(model, x_valid)\n",
    "            \n",
    "        \n",
    "    print(\"===\"*33)\n",
    "    return oof_preds\n",
    "\n",
    "\n",
    "def get_duplicated(data, key):\n",
    "    return data.duplicated(subset=[key]).value_counts()"
   ]
  },
  {
   "cell_type": "code",
   "execution_count": 3,
   "id": "3c39a34b",
   "metadata": {},
   "outputs": [],
   "source": [
    "train_df = pd.read_csv('../course_project/data/train.csv')\n",
    "test_df = pd.read_csv('../course_project/data/test.csv')\n",
    "bki_df = pd.read_csv('../course_project/data/bki.csv')\n",
    "client_profile_df = pd.read_csv('../course_project/data/client_profile.csv')\n",
    "payments_df = pd.read_csv('../course_project/data/payments.csv')\n",
    "applications_history_df = pd.read_csv('../course_project/data/applications_history.csv')\n",
    "\n",
    "df_dict = {'train.csv': train_df, 'test.csv': test_df,\n",
    "           'bki.csv': bki_df, 'client_profile.csv': client_profile_df,\n",
    "           'payments.csv': payments_df, 'applications_history.csv':applications_history_df}"
   ]
  },
  {
   "cell_type": "code",
   "execution_count": 4,
   "id": "3a05a8f4-312e-4e23-b6bd-ed5e85e805c6",
   "metadata": {},
   "outputs": [
    {
     "name": "stdout",
     "output_type": "stream",
     "text": [
      "Memory usage of dataframe is 2.52 MB\n",
      "Memory usage after optimization is: 1.37 MB\n",
      "Decreased by 45.8%\n",
      "Memory usage of dataframe is 2.52 MB\n",
      "Memory usage after optimization is: 1.89 MB\n",
      "Decreased by 25.0%\n",
      "Memory usage of dataframe is 122.60 MB\n",
      "Memory usage after optimization is: 60.40 MB\n",
      "Decreased by 50.7%\n",
      "Memory usage of dataframe is 45.78 MB\n",
      "Memory usage after optimization is: 17.40 MB\n",
      "Decreased by 62.0%\n",
      "Memory usage of dataframe is 62.50 MB\n",
      "Memory usage after optimization is: 23.44 MB\n",
      "Decreased by 62.5%\n",
      "Memory usage of dataframe is 331.31 MB\n",
      "Memory usage after optimization is: 219.81 MB\n",
      "Decreased by 33.7%\n"
     ]
    }
   ],
   "source": [
    "for key, value in df_dict.items():\n",
    "    df_dict[key] = optimization_memory_usage(value, category=False)"
   ]
  },
  {
   "cell_type": "code",
   "execution_count": 5,
   "id": "83359235-97ac-4e83-a4fc-efbb6208fee8",
   "metadata": {},
   "outputs": [
    {
     "name": "stdout",
     "output_type": "stream",
     "text": [
      "train.csv\n",
      "False    110093\n",
      "dtype: int64\n",
      "---------------------------------------\n",
      "test.csv\n",
      "False    165141\n",
      "dtype: int64\n",
      "---------------------------------------\n",
      "bki.csv\n",
      "True     672103\n",
      "False    273131\n",
      "dtype: int64\n",
      "---------------------------------------\n",
      "client_profile.csv\n",
      "False    250000\n",
      "dtype: int64\n",
      "---------------------------------------\n",
      "payments.csv\n",
      "True     759206\n",
      "False    264726\n",
      "dtype: int64\n",
      "---------------------------------------\n",
      "applications_history.csv\n",
      "True     1331357\n",
      "False     338857\n",
      "dtype: int64\n",
      "---------------------------------------\n"
     ]
    }
   ],
   "source": [
    "for key, value in df_dict.items():\n",
    "    print(f\"{key}\\n{get_duplicated(value, key='APPLICATION_NUMBER')}\\n{'---'*13}\")"
   ]
  },
  {
   "cell_type": "markdown",
   "id": "2d63989f-8bc0-42b9-82ad-d40999f006ec",
   "metadata": {},
   "source": [
    "Дубликаты отсутствуют в датасетах train.csv, test.csv, client_profile.csv.\n",
    "\n",
    "Можно объединить:\n",
    "    \n",
    "    train.csv & client_profile.csv,\n",
    "    test.csv & client_profile.csv"
   ]
  },
  {
   "cell_type": "code",
   "execution_count": 6,
   "id": "0ee61aa7-1bdd-4071-8cd7-04b31c51622d",
   "metadata": {},
   "outputs": [
    {
     "data": {
      "text/html": [
       "<div>\n",
       "<style scoped>\n",
       "    .dataframe tbody tr th:only-of-type {\n",
       "        vertical-align: middle;\n",
       "    }\n",
       "\n",
       "    .dataframe tbody tr th {\n",
       "        vertical-align: top;\n",
       "    }\n",
       "\n",
       "    .dataframe thead th {\n",
       "        text-align: right;\n",
       "    }\n",
       "</style>\n",
       "<table border=\"1\" class=\"dataframe\">\n",
       "  <thead>\n",
       "    <tr style=\"text-align: right;\">\n",
       "      <th></th>\n",
       "      <th>APPLICATION_NUMBER</th>\n",
       "      <th>TARGET</th>\n",
       "      <th>NAME_CONTRACT_TYPE</th>\n",
       "    </tr>\n",
       "  </thead>\n",
       "  <tbody>\n",
       "    <tr>\n",
       "      <th>0</th>\n",
       "      <td>123687442</td>\n",
       "      <td>0</td>\n",
       "      <td>Cash</td>\n",
       "    </tr>\n",
       "    <tr>\n",
       "      <th>1</th>\n",
       "      <td>123597908</td>\n",
       "      <td>1</td>\n",
       "      <td>Cash</td>\n",
       "    </tr>\n",
       "    <tr>\n",
       "      <th>2</th>\n",
       "      <td>123526683</td>\n",
       "      <td>0</td>\n",
       "      <td>Cash</td>\n",
       "    </tr>\n",
       "  </tbody>\n",
       "</table>\n",
       "</div>"
      ],
      "text/plain": [
       "   APPLICATION_NUMBER  TARGET NAME_CONTRACT_TYPE\n",
       "0           123687442       0               Cash\n",
       "1           123597908       1               Cash\n",
       "2           123526683       0               Cash"
      ]
     },
     "execution_count": 6,
     "metadata": {},
     "output_type": "execute_result"
    }
   ],
   "source": [
    "train_df.head(3)"
   ]
  },
  {
   "cell_type": "code",
   "execution_count": 7,
   "id": "94b3b844-39a4-409e-ba55-06386ffd4d43",
   "metadata": {},
   "outputs": [],
   "source": [
    "train_data = pd.merge(train_df, client_profile_df, on='APPLICATION_NUMBER', how='left')\n",
    "test_data = pd.merge(test_df, client_profile_df, on='APPLICATION_NUMBER', how='left')"
   ]
  },
  {
   "cell_type": "code",
   "execution_count": 8,
   "id": "b30ee3b9-d46a-4f0a-a7bb-162c66ae1e89",
   "metadata": {},
   "outputs": [],
   "source": [
    "target, train_data = train_data['TARGET'], train_data.drop(['TARGET'], axis=1)\n"
   ]
  },
  {
   "cell_type": "code",
   "execution_count": 9,
   "id": "f75eb2ee-7c67-47a5-b2ea-37cea0a48df7",
   "metadata": {},
   "outputs": [
    {
     "data": {
      "text/html": [
       "<div>\n",
       "<style scoped>\n",
       "    .dataframe tbody tr th:only-of-type {\n",
       "        vertical-align: middle;\n",
       "    }\n",
       "\n",
       "    .dataframe tbody tr th {\n",
       "        vertical-align: top;\n",
       "    }\n",
       "\n",
       "    .dataframe thead th {\n",
       "        text-align: right;\n",
       "    }\n",
       "</style>\n",
       "<table border=\"1\" class=\"dataframe\">\n",
       "  <thead>\n",
       "    <tr style=\"text-align: right;\">\n",
       "      <th></th>\n",
       "      <th>APPLICATION_NUMBER</th>\n",
       "      <th>NAME_CONTRACT_TYPE</th>\n",
       "      <th>GENDER</th>\n",
       "      <th>CHILDRENS</th>\n",
       "      <th>TOTAL_SALARY</th>\n",
       "      <th>AMOUNT_CREDIT</th>\n",
       "      <th>AMOUNT_ANNUITY</th>\n",
       "      <th>EDUCATION_LEVEL</th>\n",
       "      <th>FAMILY_STATUS</th>\n",
       "      <th>REGION_POPULATION</th>\n",
       "      <th>...</th>\n",
       "      <th>FAMILY_SIZE</th>\n",
       "      <th>EXTERNAL_SCORING_RATING_1</th>\n",
       "      <th>EXTERNAL_SCORING_RATING_2</th>\n",
       "      <th>EXTERNAL_SCORING_RATING_3</th>\n",
       "      <th>AMT_REQ_CREDIT_BUREAU_HOUR</th>\n",
       "      <th>AMT_REQ_CREDIT_BUREAU_DAY</th>\n",
       "      <th>AMT_REQ_CREDIT_BUREAU_WEEK</th>\n",
       "      <th>AMT_REQ_CREDIT_BUREAU_MON</th>\n",
       "      <th>AMT_REQ_CREDIT_BUREAU_QRT</th>\n",
       "      <th>AMT_REQ_CREDIT_BUREAU_YEAR</th>\n",
       "    </tr>\n",
       "  </thead>\n",
       "  <tbody>\n",
       "    <tr>\n",
       "      <th>0</th>\n",
       "      <td>123687442</td>\n",
       "      <td>Cash</td>\n",
       "      <td>M</td>\n",
       "      <td>1.0</td>\n",
       "      <td>157500.0</td>\n",
       "      <td>855000.0</td>\n",
       "      <td>25128.0</td>\n",
       "      <td>Secondary / secondary special</td>\n",
       "      <td>Married</td>\n",
       "      <td>0.019104</td>\n",
       "      <td>...</td>\n",
       "      <td>3.0</td>\n",
       "      <td>0.700684</td>\n",
       "      <td>0.645996</td>\n",
       "      <td>0.716797</td>\n",
       "      <td>0.0</td>\n",
       "      <td>0.0</td>\n",
       "      <td>1.0</td>\n",
       "      <td>0.0</td>\n",
       "      <td>0.0</td>\n",
       "      <td>2.0</td>\n",
       "    </tr>\n",
       "    <tr>\n",
       "      <th>1</th>\n",
       "      <td>123597908</td>\n",
       "      <td>Cash</td>\n",
       "      <td>NaN</td>\n",
       "      <td>NaN</td>\n",
       "      <td>NaN</td>\n",
       "      <td>NaN</td>\n",
       "      <td>NaN</td>\n",
       "      <td>NaN</td>\n",
       "      <td>NaN</td>\n",
       "      <td>NaN</td>\n",
       "      <td>...</td>\n",
       "      <td>NaN</td>\n",
       "      <td>NaN</td>\n",
       "      <td>NaN</td>\n",
       "      <td>NaN</td>\n",
       "      <td>NaN</td>\n",
       "      <td>NaN</td>\n",
       "      <td>NaN</td>\n",
       "      <td>NaN</td>\n",
       "      <td>NaN</td>\n",
       "      <td>NaN</td>\n",
       "    </tr>\n",
       "    <tr>\n",
       "      <th>2</th>\n",
       "      <td>123526683</td>\n",
       "      <td>Cash</td>\n",
       "      <td>F</td>\n",
       "      <td>0.0</td>\n",
       "      <td>135000.0</td>\n",
       "      <td>1006920.0</td>\n",
       "      <td>42660.0</td>\n",
       "      <td>Higher education</td>\n",
       "      <td>Married</td>\n",
       "      <td>0.026398</td>\n",
       "      <td>...</td>\n",
       "      <td>2.0</td>\n",
       "      <td>NaN</td>\n",
       "      <td>0.682129</td>\n",
       "      <td>0.267822</td>\n",
       "      <td>0.0</td>\n",
       "      <td>0.0</td>\n",
       "      <td>0.0</td>\n",
       "      <td>7.0</td>\n",
       "      <td>0.0</td>\n",
       "      <td>4.0</td>\n",
       "    </tr>\n",
       "  </tbody>\n",
       "</table>\n",
       "<p>3 rows × 25 columns</p>\n",
       "</div>"
      ],
      "text/plain": [
       "   APPLICATION_NUMBER NAME_CONTRACT_TYPE GENDER  CHILDRENS  TOTAL_SALARY  \\\n",
       "0           123687442               Cash      M        1.0      157500.0   \n",
       "1           123597908               Cash    NaN        NaN           NaN   \n",
       "2           123526683               Cash      F        0.0      135000.0   \n",
       "\n",
       "   AMOUNT_CREDIT  AMOUNT_ANNUITY                EDUCATION_LEVEL FAMILY_STATUS  \\\n",
       "0       855000.0         25128.0  Secondary / secondary special       Married   \n",
       "1            NaN             NaN                            NaN           NaN   \n",
       "2      1006920.0         42660.0               Higher education       Married   \n",
       "\n",
       "   REGION_POPULATION  ...  FAMILY_SIZE  EXTERNAL_SCORING_RATING_1  \\\n",
       "0           0.019104  ...          3.0                   0.700684   \n",
       "1                NaN  ...          NaN                        NaN   \n",
       "2           0.026398  ...          2.0                        NaN   \n",
       "\n",
       "   EXTERNAL_SCORING_RATING_2  EXTERNAL_SCORING_RATING_3  \\\n",
       "0                   0.645996                   0.716797   \n",
       "1                        NaN                        NaN   \n",
       "2                   0.682129                   0.267822   \n",
       "\n",
       "   AMT_REQ_CREDIT_BUREAU_HOUR  AMT_REQ_CREDIT_BUREAU_DAY  \\\n",
       "0                         0.0                        0.0   \n",
       "1                         NaN                        NaN   \n",
       "2                         0.0                        0.0   \n",
       "\n",
       "   AMT_REQ_CREDIT_BUREAU_WEEK  AMT_REQ_CREDIT_BUREAU_MON  \\\n",
       "0                         1.0                        0.0   \n",
       "1                         NaN                        NaN   \n",
       "2                         0.0                        7.0   \n",
       "\n",
       "   AMT_REQ_CREDIT_BUREAU_QRT  AMT_REQ_CREDIT_BUREAU_YEAR  \n",
       "0                        0.0                         2.0  \n",
       "1                        NaN                         NaN  \n",
       "2                        0.0                         4.0  \n",
       "\n",
       "[3 rows x 25 columns]"
      ]
     },
     "execution_count": 9,
     "metadata": {},
     "output_type": "execute_result"
    }
   ],
   "source": [
    "train_data.head(3)"
   ]
  },
  {
   "cell_type": "markdown",
   "id": "c85ad42d",
   "metadata": {
    "tags": []
   },
   "source": [
    "## Выполнение заданий"
   ]
  },
  {
   "cell_type": "markdown",
   "id": "655ebc5e-32f0-4209-84c3-a7ed1486d4aa",
   "metadata": {},
   "source": [
    "Параметры моделей"
   ]
  },
  {
   "cell_type": "code",
   "execution_count": 10,
   "id": "df5a604a-6c08-4b63-8b9e-58d0f4e420e9",
   "metadata": {},
   "outputs": [],
   "source": [
    "lgb_params = { \n",
    "    'boosting_type': 'gbdt',\n",
    "    'n_estimators': 2000,\n",
    "    'learning_rate': 0.05134,\n",
    "    'num_leaves': 54,\n",
    "    'max_depth': 10,\n",
    "    'subsample_for_bin': 240000,\n",
    "    'reg_alpha': 0.436193,\n",
    "    'reg_lambda': 0.479169,\n",
    "    'colsample_bytree': 0.508716,\n",
    "    'min_split_gain': 0.024766,\n",
    "    'subsample': 0.7,\n",
    "    'is_unbalance': True,\n",
    "    'random_state': 21,\n",
    "    'silent': -1,\n",
    "    'verbose': -1,\n",
    "}\n",
    "\n",
    "\n"
   ]
  },
  {
   "cell_type": "markdown",
   "id": "da8f0954",
   "metadata": {},
   "source": [
    "<p><a name=\"task_1\"></a></p>\n",
    "\n",
    "### Задание 1: Обучить алгоритмы LightGBM и XGBoost, получить OOF прогнозы, оценить корреляцию прогнозов на обучающей выборке. Применить модели на тестовую выборку и оценить корреляцию.\n"
   ]
  },
  {
   "cell_type": "code",
   "execution_count": 11,
   "id": "4cea58f7-b5c5-4527-a57f-6306619d06dc",
   "metadata": {},
   "outputs": [
    {
     "data": {
      "text/plain": [
       "['NAME_CONTRACT_TYPE', 'GENDER', 'EDUCATION_LEVEL', 'FAMILY_STATUS']"
      ]
     },
     "execution_count": 11,
     "metadata": {},
     "output_type": "execute_result"
    }
   ],
   "source": [
    "train_cat_features = train_data.select_dtypes(include=[np.object]).columns.to_list()\n",
    "train_cat_features"
   ]
  },
  {
   "cell_type": "code",
   "execution_count": 12,
   "id": "3718857f-a6cc-4639-a3cb-a06a860dac74",
   "metadata": {},
   "outputs": [],
   "source": [
    "lgb_cv = KFold(n_splits=10, random_state=21, shuffle=True)\n"
   ]
  },
  {
   "cell_type": "code",
   "execution_count": 13,
   "id": "9b16194d-f7ae-49ac-b377-0bdd234f44ab",
   "metadata": {},
   "outputs": [
    {
     "name": "stdout",
     "output_type": "stream",
     "text": [
      "Sun Oct 31 21:15:56 2021, Cross-Validation, 110093 rows, 25 cols\n",
      "Fold 1, Valid score = 0.70453\n",
      "Fold 2, Valid score = 0.72548\n",
      "Fold 3, Valid score = 0.72524\n",
      "Fold 4, Valid score = 0.71858\n",
      "Fold 5, Valid score = 0.7016\n",
      "Fold 6, Valid score = 0.7282\n",
      "Fold 7, Valid score = 0.71808\n",
      "Fold 8, Valid score = 0.72422\n",
      "Fold 9, Valid score = 0.72647\n",
      "Fold 10, Valid score = 0.72974\n",
      "Score by each fold: [0.70453, 0.72548, 0.72524, 0.71858, 0.7016, 0.7282, 0.71808, 0.72422, 0.72647, 0.72974]\n",
      "===================================================================================================\n"
     ]
    }
   ],
   "source": [
    "lgb_estimators, lgb_encoders, lgb_oof_preds = lightgbm_cross_validation(lgb_params,\n",
    "                                                                         train_data,\n",
    "                                                                         target,\n",
    "                                                                         lgb_cv,\n",
    "                                                                         train_cat_features\n",
    "                                                                        )"
   ]
  },
  {
   "cell_type": "code",
   "execution_count": 14,
   "id": "db7ad222-730a-4109-9a74-9646cce1687a",
   "metadata": {},
   "outputs": [
    {
     "name": "stdout",
     "output_type": "stream",
     "text": [
      "Score = 0.71932\n"
     ]
    }
   ],
   "source": [
    "score_lgb = roc_auc_score(target, lgb_oof_preds)\n",
    "print(f\"Score = {round(score_lgb, 5)}\")"
   ]
  },
  {
   "cell_type": "markdown",
   "id": "f9ab0fbe-9abf-4a82-a687-85372b2bd36f",
   "metadata": {},
   "source": [
    "XGBoost"
   ]
  },
  {
   "cell_type": "code",
   "execution_count": 15,
   "id": "5f2950e1-e916-4cda-93de-5f1189027393",
   "metadata": {},
   "outputs": [],
   "source": [
    "xgb_params = {\n",
    "    \"booster\": \"gbtree\",\n",
    "    \"objective\": \"binary:logistic\",\n",
    "    \"eval_metric\": \"auc\",\n",
    "    \"learning_rate\": 0.1,\n",
    "    \"reg_lambda\": 10,\n",
    "    \"max_depth\": 4,\n",
    "    \"gamma\": 10,\n",
    "    \"nthread\": -1,\n",
    "    \"seed\": 21\n",
    "}"
   ]
  },
  {
   "cell_type": "code",
   "execution_count": 16,
   "id": "b9df4f8e-03df-4d11-98b8-c85942975e10",
   "metadata": {},
   "outputs": [],
   "source": [
    "xgb_cv = KFold(n_splits=10, random_state=21, shuffle=True)\n"
   ]
  },
  {
   "cell_type": "code",
   "execution_count": 17,
   "id": "5e6e0e5b-5e19-46fa-a9dd-c10b121f1f9f",
   "metadata": {},
   "outputs": [
    {
     "name": "stdout",
     "output_type": "stream",
     "text": [
      "Sun Oct 31 21:18:41 2021, Cross-Validation, 110093 rows, 25 cols\n",
      "Fold 1, Valid score = 0.70671\n",
      "Fold 2, Valid score = 0.72587\n",
      "Fold 3, Valid score = 0.72252\n",
      "Fold 4, Valid score = 0.71702\n",
      "Fold 5, Valid score = 0.70015\n",
      "Fold 6, Valid score = 0.7226\n",
      "Fold 7, Valid score = 0.7155\n",
      "Fold 8, Valid score = 0.71841\n",
      "Fold 9, Valid score = 0.72738\n",
      "Fold 10, Valid score = 0.72484\n",
      "Score by each fold: [0.70671, 0.72587, 0.72252, 0.71702, 0.70015, 0.7226, 0.7155, 0.71841, 0.72738, 0.72484]\n",
      "===================================================================================================\n"
     ]
    }
   ],
   "source": [
    "xgb_estimators, xgb_encoders, xgb_oof_preds = xgboost_cross_validation(xgb_params,\n",
    "                                                                       train_data,\n",
    "                                                                       target,\n",
    "                                                                       xgb_cv,\n",
    "                                                                       train_cat_features\n",
    "                                                                      )\n"
   ]
  },
  {
   "cell_type": "code",
   "execution_count": 18,
   "id": "0d448e72-d727-4212-8105-e1e9c720dcef",
   "metadata": {},
   "outputs": [
    {
     "name": "stdout",
     "output_type": "stream",
     "text": [
      "Score = 0.71762\n"
     ]
    }
   ],
   "source": [
    "score_xgb = roc_auc_score(target, xgb_oof_preds)\n",
    "print(f\"Score = {round(score_xgb, 5)}\")"
   ]
  },
  {
   "cell_type": "code",
   "execution_count": 19,
   "id": "b77622dd-58df-4242-b49e-b5e01521be8b",
   "metadata": {},
   "outputs": [],
   "source": [
    "scores_train = pd.DataFrame({\n",
    "    \"lgb_oof_preds\": lgb_oof_preds,\n",
    "    \"xgb_oof_preds\": xgb_oof_preds,\n",
    "})\n",
    "\n",
    "corr_train = scores_train.corr()\n",
    "mask_train = np.zeros_like(corr_train, dtype=np.bool)\n",
    "mask_train[np.triu_indices_from(mask_train)] = True"
   ]
  },
  {
   "cell_type": "code",
   "execution_count": 20,
   "id": "11d0a568-928b-45af-9732-179762c6e360",
   "metadata": {},
   "outputs": [
    {
     "data": {
      "text/plain": [
       "<AxesSubplot:>"
      ]
     },
     "execution_count": 20,
     "metadata": {},
     "output_type": "execute_result"
    },
    {
     "data": {
      "image/png": "[encoded data removed]",
      "text/plain": [
       "<Figure size 720x720 with 2 Axes>"
      ]
     },
     "metadata": {
      "needs_background": "light"
     },
     "output_type": "display_data"
    }
   ],
   "source": [
    "fig, axes = plt.subplots(1, 1, figsize=(10, 10))\n",
    "sns.heatmap(corr_train, mask=mask_train, annot=True, fmt=\".4g\", square=True, cmap=\"viridis\", ax=axes)"
   ]
  },
  {
   "cell_type": "code",
   "execution_count": 21,
   "id": "444e5e6b-af93-4b17-a4ea-df0f38f73683",
   "metadata": {},
   "outputs": [
    {
     "name": "stdout",
     "output_type": "stream",
     "text": [
      "===================================================================================================\n",
      "===================================================================================================\n"
     ]
    }
   ],
   "source": [
    "lgb_oof_test_preds = cross_val_pred(lgb_estimators, test_data, lgb_cv, train_cat_features)\n",
    "xgb_oof_test_preds = cross_val_pred(xgb_estimators, test_data, xgb_cv, train_cat_features)"
   ]
  },
  {
   "cell_type": "code",
   "execution_count": 22,
   "id": "8c2de6a4-e685-4f0b-ba54-c18dd22dca7b",
   "metadata": {},
   "outputs": [],
   "source": [
    "scores_test = pd.DataFrame({\n",
    "    \"lgb_oof_test_preds\": lgb_oof_test_preds,\n",
    "    \"xgb_oof_test_preds\": xgb_oof_test_preds,\n",
    "})\n",
    "\n",
    "corr_test = scores_test.corr()\n",
    "mask_test = np.zeros_like(corr_test, dtype=np.bool)\n",
    "mask_test[np.triu_indices_from(mask_test)] = True"
   ]
  },
  {
   "cell_type": "code",
   "execution_count": 23,
   "id": "d1e26c12-0a27-444c-80b4-f4b0a82a952c",
   "metadata": {},
   "outputs": [
    {
     "data": {
      "text/plain": [
       "<AxesSubplot:>"
      ]
     },
     "execution_count": 23,
     "metadata": {},
     "output_type": "execute_result"
    },
    {
     "data": {
      "image/png": "[encoded data removed]",
      "text/plain": [
       "<Figure size 720x720 with 2 Axes>"
      ]
     },
     "metadata": {
      "needs_background": "light"
     },
     "output_type": "display_data"
    }
   ],
   "source": [
    "fig, axes = plt.subplots(1, 1, figsize=(10, 10))\n",
    "sns.heatmap(corr_test, mask=mask_test, annot=True, fmt=\".4g\", square=True, cmap=\"viridis\", ax=axes)"
   ]
  },
  {
   "cell_type": "markdown",
   "id": "d783afec",
   "metadata": {},
   "source": [
    "<p><a name=\"task_2\"></a></p>\n",
    "\n",
    "### Задание 2: Усреднить прогнозы с помощью арифмитического среднего, геометрического среднего и усреднить ранги, сделать выводы о качестве отдельных моделей и о качестве комбинации.\n"
   ]
  },
  {
   "cell_type": "code",
   "execution_count": 24,
   "id": "e660e9ff-87b3-4b62-a8cc-adea45d5250f",
   "metadata": {},
   "outputs": [],
   "source": [
    "import scipy.stats as stats\n",
    "from scipy.stats import probplot, ks_2samp, gmean, rankdata"
   ]
  },
  {
   "cell_type": "code",
   "execution_count": 25,
   "id": "83ffe799-1711-46aa-b27a-119304cfe433",
   "metadata": {},
   "outputs": [],
   "source": [
    "def get_mean_gmean_rankmean_rankgmean(target, scores_train):\n",
    "    from scipy.stats import gmean\n",
    "    scores={}\n",
    "    scores_mean = scores_train.mean(axis=1)\n",
    "    scores_gmean = gmean(scores_train, axis=1)\n",
    "    \n",
    "    scores_rank = scores_train.rank()\n",
    "    scores_rank_mean = scores_rank.mean(axis=1)\n",
    "    scores_rank_gmean = gmean(scores_rank, axis=1)\n",
    "    \n",
    "    scores['mean'] = roc_auc_score(target, scores_mean)\n",
    "    scores['gmean'] = roc_auc_score(target, scores_gmean)\n",
    "    scores['rank_mean'] = roc_auc_score(target, scores_rank_mean)\n",
    "    scores['rank_gmean'] = roc_auc_score(target, scores_rank_gmean)\n",
    "    \n",
    "    return scores\n",
    "    \n",
    "    "
   ]
  },
  {
   "cell_type": "code",
   "execution_count": 26,
   "id": "9aefd6e2-8f3b-4e3a-8eb7-fb5c16eb151c",
   "metadata": {},
   "outputs": [
    {
     "data": {
      "text/plain": [
       "{'mean': 0.7201415967801312,\n",
       " 'gmean': 0.7200508855750949,\n",
       " 'rank_mean': 0.7200543009484279,\n",
       " 'rank_gmean': 0.7199113989514451}"
      ]
     },
     "execution_count": 26,
     "metadata": {},
     "output_type": "execute_result"
    }
   ],
   "source": [
    "scores_stat = get_mean_gmean_rankmean_rankgmean(target=target,\n",
    "                                                scores_train=scores_train)\n",
    "scores_stat"
   ]
  },
  {
   "cell_type": "code",
   "execution_count": 27,
   "id": "3c1d2642-4a1c-4e86-be5e-ffa7e2a40a90",
   "metadata": {},
   "outputs": [
    {
     "data": {
      "text/html": [
       "<div>\n",
       "<style scoped>\n",
       "    .dataframe tbody tr th:only-of-type {\n",
       "        vertical-align: middle;\n",
       "    }\n",
       "\n",
       "    .dataframe tbody tr th {\n",
       "        vertical-align: top;\n",
       "    }\n",
       "\n",
       "    .dataframe thead th {\n",
       "        text-align: right;\n",
       "    }\n",
       "</style>\n",
       "<table border=\"1\" class=\"dataframe\">\n",
       "  <thead>\n",
       "    <tr style=\"text-align: right;\">\n",
       "      <th></th>\n",
       "      <th>scores_lgb_xgb</th>\n",
       "    </tr>\n",
       "  </thead>\n",
       "  <tbody>\n",
       "    <tr>\n",
       "      <th>mean</th>\n",
       "      <td>0.720142</td>\n",
       "    </tr>\n",
       "    <tr>\n",
       "      <th>gmean</th>\n",
       "      <td>0.720051</td>\n",
       "    </tr>\n",
       "    <tr>\n",
       "      <th>rank_mean</th>\n",
       "      <td>0.720054</td>\n",
       "    </tr>\n",
       "    <tr>\n",
       "      <th>rank_gmean</th>\n",
       "      <td>0.719911</td>\n",
       "    </tr>\n",
       "  </tbody>\n",
       "</table>\n",
       "</div>"
      ],
      "text/plain": [
       "            scores_lgb_xgb\n",
       "mean              0.720142\n",
       "gmean             0.720051\n",
       "rank_mean         0.720054\n",
       "rank_gmean        0.719911"
      ]
     },
     "execution_count": 27,
     "metadata": {},
     "output_type": "execute_result"
    }
   ],
   "source": [
    "scores_df = pd.DataFrame(scores_stat, index=['scores_lgb_xgb']).T\n",
    "scores_df"
   ]
  },
  {
   "cell_type": "code",
   "execution_count": 28,
   "id": "09bc4841-7cc6-49ad-abf6-ff2d4a6c81b5",
   "metadata": {},
   "outputs": [
    {
     "data": {
      "text/html": [
       "<div>\n",
       "<style scoped>\n",
       "    .dataframe tbody tr th:only-of-type {\n",
       "        vertical-align: middle;\n",
       "    }\n",
       "\n",
       "    .dataframe tbody tr th {\n",
       "        vertical-align: top;\n",
       "    }\n",
       "\n",
       "    .dataframe thead th {\n",
       "        text-align: right;\n",
       "    }\n",
       "</style>\n",
       "<table border=\"1\" class=\"dataframe\">\n",
       "  <thead>\n",
       "    <tr style=\"text-align: right;\">\n",
       "      <th></th>\n",
       "      <th>count</th>\n",
       "      <th>mean</th>\n",
       "      <th>std</th>\n",
       "      <th>min</th>\n",
       "      <th>25%</th>\n",
       "      <th>50%</th>\n",
       "      <th>75%</th>\n",
       "      <th>max</th>\n",
       "    </tr>\n",
       "  </thead>\n",
       "  <tbody>\n",
       "    <tr>\n",
       "      <th>scores_lgb_xgb</th>\n",
       "      <td>4.0</td>\n",
       "      <td>0.72004</td>\n",
       "      <td>0.000095</td>\n",
       "      <td>0.719911</td>\n",
       "      <td>0.720016</td>\n",
       "      <td>0.720053</td>\n",
       "      <td>0.720076</td>\n",
       "      <td>0.720142</td>\n",
       "    </tr>\n",
       "  </tbody>\n",
       "</table>\n",
       "</div>"
      ],
      "text/plain": [
       "                count     mean       std       min       25%       50%  \\\n",
       "scores_lgb_xgb    4.0  0.72004  0.000095  0.719911  0.720016  0.720053   \n",
       "\n",
       "                     75%       max  \n",
       "scores_lgb_xgb  0.720076  0.720142  "
      ]
     },
     "execution_count": 28,
     "metadata": {},
     "output_type": "execute_result"
    }
   ],
   "source": [
    "scores_df.describe().T"
   ]
  },
  {
   "cell_type": "markdown",
   "id": "da68a691",
   "metadata": {},
   "source": [
    "<p><a name=\"task_3\"></a></p>\n",
    "\n",
    "### Задание 3: Обучить CatBoost, получить OOF прогнозы и выполнить задание 1 для трех моделей."
   ]
  },
  {
   "cell_type": "code",
   "execution_count": 29,
   "id": "03dcad1e-8ed4-447d-8ced-f72ca6744b70",
   "metadata": {},
   "outputs": [],
   "source": [
    "def fit_catboost(x_train, y_train, model_params, categorical, *args):\n",
    "    \"\"\"\n",
    "    Обучение модели CatBoostClassifier.\n",
    "\n",
    "    Parameters\n",
    "    ----------\n",
    "    x_train: pandas.core.frame.DataFrame\n",
    "        Матрица признаков для обучения модели.\n",
    "\n",
    "    y_valid: pandas.core.frame.Series\n",
    "        Вектор целевой переменной для валидации модели.\n",
    "\n",
    "    model_params: dict\n",
    "        Словарь со значением гиперпараметров модели.\n",
    "\n",
    "    categorical: List[str]\n",
    "        Список с названием категориальных признаков.\n",
    "\n",
    "    Returns\n",
    "    -------\n",
    "    model: catboost.core.CatBoostClassifier\n",
    "        Экземпляр обученного классификатора.\n",
    "\n",
    "    \"\"\"\n",
    "    eval_set = [(x_train, y_train)]\n",
    "\n",
    "    if args == 2:\n",
    "        eval_set.append((args[0], args[1]))\n",
    "\n",
    "    model = cb.CatBoostClassifier(**model_params)\n",
    "    model.fit(\n",
    "        X=x_train,\n",
    "        y=y_train,\n",
    "        eval_set=eval_set,\n",
    "        cat_features=categorical\n",
    "    )\n",
    "\n",
    "    return model\n",
    "\n",
    "def evaluate_model(model, *args):\n",
    "    \"\"\"\n",
    "    Оценка качества модели.\n",
    "\n",
    "    Parameters\n",
    "    ----------\n",
    "    model: catboost.core.CatBoostClassifier\n",
    "        Экземпляр обученного классификатора.\n",
    "\n",
    "    args: pandas.core.frame.DataFrame\n",
    "        Пары из обучающей выборки и вектора истинных ответов.\n",
    "        Опциональные параметры.\n",
    "\n",
    "    \"\"\"\n",
    "    eval_data = [(args[i], args[i+1]) for i in range(0, len(args), 2)]\n",
    "    if eval_data:\n",
    "        for sample, target in eval_data:\n",
    "            y_pred = model.predict_proba(sample)[:, 1]\n",
    "            score = roc_auc_score(target, y_pred)\n",
    "            print(f\"score = {round(score, 6)}\")\n",
    "\n",
    "def prepare_data(X, categorical, to_drop=[]):\n",
    "    \"\"\"\n",
    "    Преобразование данных для передачи в модель.\n",
    "\n",
    "    Parameters\n",
    "    ----------\n",
    "    X: pandas.core.frame.DataFrame\n",
    "        Матрица признаков для передачи в модель.\n",
    "\n",
    "    categorical: List[str]\n",
    "        Список с названием категориальных признаков.\n",
    "\n",
    "    drop_features: List[str]\n",
    "        Список с названием признаков, которые не должны\n",
    "        участвовать в обучении.\n",
    "\n",
    "    Returns\n",
    "    -------\n",
    "    X_transformed: pandas.core.frame.DataFrame\n",
    "        Матрица признаков, подготовленная для передачи в модель.\n",
    "\n",
    "    \"\"\"\n",
    "    X_transformed = X.copy()\n",
    "    to_drop = set(X.columns) & set(to_drop)\n",
    "\n",
    "    if to_drop:\n",
    "        X_transformed = X_transformed.drop(to_drop, axis=1)\n",
    "\n",
    "    X_transformed[categorical] = X_transformed[categorical].astype(str)\n",
    "    return X_transformed\n",
    "\n",
    "def catboost_cross_validation(params, X, y, cv, categorical = None):\n",
    "    \"\"\"\n",
    "    Кросс-валидация для модели catboost.\n",
    "\n",
    "    Parameters\n",
    "    ----------\n",
    "    params: dict\n",
    "        Словарь гиперпараметров модели.\n",
    "\n",
    "    X: pandas.core.frame.DataFrame\n",
    "        Матрица признако для обучения модели.\n",
    "\n",
    "    y: pandas.core.frame.Series\n",
    "        Вектор целевой переменной для обучения модели.\n",
    "\n",
    "    cv: KFold or StratifiedKFold generator.\n",
    "        Объект KFold / StratifiedKFold для определения\n",
    "        стратегии кросс-валидации модели.\n",
    "\n",
    "    categorical: str, optional, default = None\n",
    "        Список категориальных признаков.\n",
    "        Опциональный параметр, по умолчанию, не используется.\n",
    "\n",
    "    Returns\n",
    "    -------\n",
    "    estimators: list\n",
    "        Список с объектами обученной модели.\n",
    "\n",
    "    encoders: dict\n",
    "        Список с объектами LabelEncoders.\n",
    "\n",
    "    oof_preds: np.array\n",
    "        Вектор OOF-прогнозов.\n",
    "\n",
    "    \"\"\"\n",
    "    estimators, folds_scores, encoders = [], [], {}\n",
    "    oof_preds = np.zeros(X.shape[0])\n",
    "    \n",
    "    if categorical:\n",
    "        for feature in categorical:\n",
    "            encoder = LabelEncoder()\n",
    "            X[feature] = encoder.fit_transform(X[feature].astype(\"str\").fillna(\"NA\"))\n",
    "            encoders[feature] = encoder\n",
    "\n",
    "    print(f\"{time.ctime()}, Cross-Validation, {X.shape[0]} rows, {X.shape[1]} cols\")\n",
    "\n",
    "    for fold, (train_idx, valid_idx) in enumerate(cv.split(X, y)):\n",
    "\n",
    "        x_train, x_valid = X.loc[train_idx], X.loc[valid_idx]\n",
    "        y_train, y_valid = y[train_idx], y[valid_idx]\n",
    "       \n",
    "        \n",
    "        model = fit_catboost(x_train, y_train,\n",
    "                             params, train_cat_features,\n",
    "                             x_valid, y_valid)\n",
    "        \n",
    "        oof_preds[valid_idx] = model.predict_proba(x_valid)[:, 1]\n",
    "        score = roc_auc_score(y_valid, oof_preds[valid_idx])\n",
    "        print(f\"Fold {fold+1}, Valid score = {round(score, 5)}\")\n",
    "        folds_scores.append(round(score, 5))\n",
    "        estimators.append(model)\n",
    "\n",
    "    print(f\"Score by each fold: {folds_scores}\")\n",
    "    print(\"===\"*33)\n",
    "    return estimators, encoders, oof_preds\n"
   ]
  },
  {
   "cell_type": "code",
   "execution_count": 30,
   "id": "82b642f2-7fb0-45c7-8606-dc76b5eddaa1",
   "metadata": {},
   "outputs": [],
   "source": [
    "cb_params = {\n",
    "    \"n_estimators\": 2000,\n",
    "    \"loss_function\": \"Logloss\",\n",
    "    \"eval_metric\": \"AUC\",\n",
    "    \"task_type\": \"CPU\",\n",
    "    #\"max_bin\": 20,\n",
    "    \"verbose\": 500,\n",
    "    \"max_depth\": 6,\n",
    "    \"l2_leaf_reg\": 100,\n",
    "    \"early_stopping_rounds\": 50,\n",
    "    \"thread_count\": -1,\n",
    "    \"random_seed\": 21\n",
    "}\n",
    "\n"
   ]
  },
  {
   "cell_type": "code",
   "execution_count": 31,
   "id": "e5c24f8f-a17d-4a12-a284-64da00c698ae",
   "metadata": {},
   "outputs": [],
   "source": [
    "cb_cv = KFold(n_splits=10, random_state=21, shuffle=True)"
   ]
  },
  {
   "cell_type": "code",
   "execution_count": 32,
   "id": "d445c191-3a77-4d6f-a6c8-a0b6d3dfd28f",
   "metadata": {},
   "outputs": [
    {
     "name": "stdout",
     "output_type": "stream",
     "text": [
      "Sun Oct 31 21:19:58 2021, Cross-Validation, 110093 rows, 25 cols\n",
      "0:\ttest: 0.6080563\tbest: 0.6080563 (0)\ttotal: 177ms\tremaining: 5m 53s\n",
      "500:\ttest: 0.7406587\tbest: 0.7406587 (500)\ttotal: 44.2s\tremaining: 2m 12s\n",
      "1000:\ttest: 0.7472804\tbest: 0.7472812 (998)\ttotal: 1m 23s\tremaining: 1m 23s\n",
      "1500:\ttest: 0.7532627\tbest: 0.7532627 (1500)\ttotal: 2m 1s\tremaining: 40.3s\n",
      "1999:\ttest: 0.7586770\tbest: 0.7586770 (1999)\ttotal: 2m 38s\tremaining: 0us\n",
      "\n",
      "bestTest = 0.7586769642\n",
      "bestIteration = 1999\n",
      "\n",
      "Fold 1, Valid score = 0.70794\n",
      "0:\ttest: 0.6085896\tbest: 0.6085896 (0)\ttotal: 77.9ms\tremaining: 2m 35s\n",
      "500:\ttest: 0.7377298\tbest: 0.7377298 (500)\ttotal: 40.9s\tremaining: 2m 2s\n",
      "1000:\ttest: 0.7437693\tbest: 0.7437693 (1000)\ttotal: 1m 17s\tremaining: 1m 17s\n",
      "1500:\ttest: 0.7492672\tbest: 0.7492672 (1500)\ttotal: 1m 54s\tremaining: 38.2s\n",
      "1999:\ttest: 0.7560218\tbest: 0.7560233 (1998)\ttotal: 2m 33s\tremaining: 0us\n",
      "\n",
      "bestTest = 0.756023302\n",
      "bestIteration = 1998\n",
      "\n",
      "Shrink model to first 1999 iterations.\n",
      "Fold 2, Valid score = 0.72944\n",
      "0:\ttest: 0.6061080\tbest: 0.6061080 (0)\ttotal: 78.1ms\tremaining: 2m 36s\n",
      "500:\ttest: 0.7383239\tbest: 0.7383239 (500)\ttotal: 42.2s\tremaining: 2m 6s\n",
      "1000:\ttest: 0.7470917\tbest: 0.7470917 (1000)\ttotal: 1m 20s\tremaining: 1m 20s\n",
      "1500:\ttest: 0.7536345\tbest: 0.7536345 (1500)\ttotal: 1m 57s\tremaining: 39.1s\n",
      "1999:\ttest: 0.7609940\tbest: 0.7609940 (1999)\ttotal: 2m 35s\tremaining: 0us\n",
      "\n",
      "bestTest = 0.7609939533\n",
      "bestIteration = 1999\n",
      "\n",
      "Fold 3, Valid score = 0.73063\n",
      "0:\ttest: 0.6420694\tbest: 0.6420694 (0)\ttotal: 83.9ms\tremaining: 2m 47s\n",
      "500:\ttest: 0.7376525\tbest: 0.7376525 (500)\ttotal: 40.9s\tremaining: 2m 2s\n",
      "1000:\ttest: 0.7459150\tbest: 0.7459158 (999)\ttotal: 1m 18s\tremaining: 1m 18s\n",
      "1500:\ttest: 0.7511878\tbest: 0.7511878 (1500)\ttotal: 1m 55s\tremaining: 38.4s\n",
      "1999:\ttest: 0.7582109\tbest: 0.7582109 (1999)\ttotal: 2m 32s\tremaining: 0us\n",
      "\n",
      "bestTest = 0.7582109332\n",
      "bestIteration = 1999\n",
      "\n",
      "Fold 4, Valid score = 0.7189\n",
      "0:\ttest: 0.6418559\tbest: 0.6418559 (0)\ttotal: 88.4ms\tremaining: 2m 56s\n",
      "500:\ttest: 0.7405403\tbest: 0.7405664 (495)\ttotal: 41.7s\tremaining: 2m 4s\n",
      "1000:\ttest: 0.7490578\tbest: 0.7490578 (1000)\ttotal: 1m 20s\tremaining: 1m 19s\n",
      "1500:\ttest: 0.7570838\tbest: 0.7570838 (1500)\ttotal: 1m 59s\tremaining: 39.6s\n",
      "1999:\ttest: 0.7649783\tbest: 0.7649818 (1998)\ttotal: 2m 39s\tremaining: 0us\n",
      "\n",
      "bestTest = 0.764981809\n",
      "bestIteration = 1998\n",
      "\n",
      "Shrink model to first 1999 iterations.\n",
      "Fold 5, Valid score = 0.70559\n",
      "0:\ttest: 0.6414452\tbest: 0.6414452 (0)\ttotal: 77.7ms\tremaining: 2m 35s\n",
      "500:\ttest: 0.7364454\tbest: 0.7364454 (500)\ttotal: 39.2s\tremaining: 1m 57s\n",
      "1000:\ttest: 0.7443653\tbest: 0.7443653 (1000)\ttotal: 1m 17s\tremaining: 1m 17s\n",
      "1500:\ttest: 0.7502946\tbest: 0.7502946 (1499)\ttotal: 1m 55s\tremaining: 38.5s\n",
      "1999:\ttest: 0.7561289\tbest: 0.7561289 (1999)\ttotal: 2m 33s\tremaining: 0us\n",
      "\n",
      "bestTest = 0.7561289103\n",
      "bestIteration = 1999\n",
      "\n",
      "Fold 6, Valid score = 0.72604\n",
      "0:\ttest: 0.6410769\tbest: 0.6410769 (0)\ttotal: 78.7ms\tremaining: 2m 37s\n",
      "500:\ttest: 0.7370958\tbest: 0.7370958 (500)\ttotal: 41s\tremaining: 2m 2s\n",
      "1000:\ttest: 0.7454686\tbest: 0.7454686 (1000)\ttotal: 1m 18s\tremaining: 1m 18s\n",
      "1500:\ttest: 0.7534230\tbest: 0.7534230 (1499)\ttotal: 1m 56s\tremaining: 38.8s\n",
      "1999:\ttest: 0.7616815\tbest: 0.7616815 (1999)\ttotal: 2m 36s\tremaining: 0us\n",
      "\n",
      "bestTest = 0.7616815345\n",
      "bestIteration = 1999\n",
      "\n",
      "Fold 7, Valid score = 0.72617\n",
      "0:\ttest: 0.6413367\tbest: 0.6413367 (0)\ttotal: 78.4ms\tremaining: 2m 36s\n",
      "500:\ttest: 0.7379680\tbest: 0.7379680 (500)\ttotal: 40.5s\tremaining: 2m 1s\n",
      "1000:\ttest: 0.7460737\tbest: 0.7460737 (1000)\ttotal: 1m 18s\tremaining: 1m 17s\n",
      "1500:\ttest: 0.7516784\tbest: 0.7516798 (1492)\ttotal: 1m 54s\tremaining: 38s\n",
      "1999:\ttest: 0.7593577\tbest: 0.7593577 (1999)\ttotal: 2m 32s\tremaining: 0us\n",
      "\n",
      "bestTest = 0.7593577306\n",
      "bestIteration = 1999\n",
      "\n",
      "Fold 8, Valid score = 0.72531\n",
      "0:\ttest: 0.6399078\tbest: 0.6399078 (0)\ttotal: 76.8ms\tremaining: 2m 33s\n",
      "500:\ttest: 0.7403266\tbest: 0.7403266 (500)\ttotal: 42s\tremaining: 2m 5s\n",
      "1000:\ttest: 0.7500941\tbest: 0.7500941 (1000)\ttotal: 1m 21s\tremaining: 1m 21s\n",
      "1500:\ttest: 0.7580835\tbest: 0.7580835 (1500)\ttotal: 2m\tremaining: 40s\n",
      "1999:\ttest: 0.7668720\tbest: 0.7668720 (1999)\ttotal: 2m 40s\tremaining: 0us\n",
      "\n",
      "bestTest = 0.7668719649\n",
      "bestIteration = 1999\n",
      "\n",
      "Fold 9, Valid score = 0.73013\n",
      "0:\ttest: 0.6392677\tbest: 0.6392677 (0)\ttotal: 88.5ms\tremaining: 2m 56s\n",
      "500:\ttest: 0.7381576\tbest: 0.7381576 (500)\ttotal: 43.7s\tremaining: 2m 10s\n",
      "1000:\ttest: 0.7491340\tbest: 0.7491340 (1000)\ttotal: 1m 24s\tremaining: 1m 24s\n",
      "1500:\ttest: 0.7557985\tbest: 0.7557985 (1500)\ttotal: 2m 3s\tremaining: 41.1s\n",
      "1999:\ttest: 0.7607053\tbest: 0.7607053 (1999)\ttotal: 2m 41s\tremaining: 0us\n",
      "\n",
      "bestTest = 0.7607052777\n",
      "bestIteration = 1999\n",
      "\n",
      "Fold 10, Valid score = 0.73068\n",
      "Score by each fold: [0.70794, 0.72944, 0.73063, 0.7189, 0.70559, 0.72604, 0.72617, 0.72531, 0.73013, 0.73068]\n",
      "===================================================================================================\n"
     ]
    }
   ],
   "source": [
    "cb_estimators, cb_encoders, cb_oof_preds = catboost_cross_validation(cb_params,\n",
    "                                                                     train_data,\n",
    "                                                                     target,\n",
    "                                                                     cb_cv,\n",
    "                                                                     train_cat_features\n",
    "                                                                    )"
   ]
  },
  {
   "cell_type": "code",
   "execution_count": 33,
   "id": "1357d635-db3f-40d4-9b16-2bd051f7e89c",
   "metadata": {},
   "outputs": [
    {
     "name": "stdout",
     "output_type": "stream",
     "text": [
      "Score = 0.72291\n"
     ]
    }
   ],
   "source": [
    "score_cb = roc_auc_score(target, cb_oof_preds)\n",
    "print(f\"Score = {round(score_cb, 5)}\")"
   ]
  },
  {
   "cell_type": "code",
   "execution_count": 34,
   "id": "3e3c4ab3-6825-43c1-ba4a-0b72c4047b64",
   "metadata": {},
   "outputs": [],
   "source": [
    "scores_train = pd.DataFrame({\n",
    "    \"lgb_oof_preds\": lgb_oof_preds,\n",
    "    \"xgb_oof_preds\": xgb_oof_preds,\n",
    "    \"cb_oof_preds\": cb_oof_preds,\n",
    "})\n",
    "\n",
    "corr_train = scores_train.corr()\n",
    "mask_train = np.zeros_like(corr_train, dtype=np.bool)\n",
    "mask_train[np.triu_indices_from(mask_train)] = True"
   ]
  },
  {
   "cell_type": "code",
   "execution_count": 35,
   "id": "c4bfaaef-8eeb-4b2f-b08b-de8cb8f16774",
   "metadata": {},
   "outputs": [
    {
     "data": {
      "text/plain": [
       "<AxesSubplot:>"
      ]
     },
     "execution_count": 35,
     "metadata": {},
     "output_type": "execute_result"
    },
    {
     "data": {
      "image/png": "[encoded data removed]",
      "text/plain": [
       "<Figure size 720x720 with 2 Axes>"
      ]
     },
     "metadata": {
      "needs_background": "light"
     },
     "output_type": "display_data"
    }
   ],
   "source": [
    "fig, axes = plt.subplots(1, 1, figsize=(10, 10))\n",
    "sns.heatmap(corr_train, mask=mask_train, annot=True, fmt=\".4g\", square=True, cmap=\"viridis\", ax=axes)"
   ]
  },
  {
   "cell_type": "code",
   "execution_count": 36,
   "id": "07103a7f-3b40-4c42-ae0d-60aaf3f65f04",
   "metadata": {},
   "outputs": [
    {
     "name": "stdout",
     "output_type": "stream",
     "text": [
      "===================================================================================================\n"
     ]
    }
   ],
   "source": [
    "cb_oof_test_preds = cross_val_pred(cb_estimators, test_data, cb_cv, train_cat_features)\n",
    "\n"
   ]
  },
  {
   "cell_type": "code",
   "execution_count": 37,
   "id": "c7e774d5-6c64-4f9f-996d-10418f449f5c",
   "metadata": {},
   "outputs": [],
   "source": [
    "scores_test = pd.DataFrame({\n",
    "    \"lgb_oof_test_preds\": lgb_oof_test_preds,\n",
    "    \"xgb_oof_test_preds\": xgb_oof_test_preds,\n",
    "    \"cb_oof_test_preds\": cb_oof_test_preds,\n",
    "})\n",
    "\n",
    "corr_test = scores_test.corr()\n",
    "mask_test = np.zeros_like(corr_test, dtype=np.bool)\n",
    "mask_test[np.triu_indices_from(mask_test)] = True"
   ]
  },
  {
   "cell_type": "code",
   "execution_count": 38,
   "id": "14d89ec1-b612-41f5-9b05-f9bc74d7cf9b",
   "metadata": {},
   "outputs": [
    {
     "data": {
      "text/plain": [
       "<AxesSubplot:>"
      ]
     },
     "execution_count": 38,
     "metadata": {},
     "output_type": "execute_result"
    },
    {
     "data": {
      "image/png": "[encoded data removed]",
      "text/plain": [
       "<Figure size 720x720 with 2 Axes>"
      ]
     },
     "metadata": {
      "needs_background": "light"
     },
     "output_type": "display_data"
    }
   ],
   "source": [
    "fig, axes = plt.subplots(1, 1, figsize=(10, 10))\n",
    "sns.heatmap(corr_test, mask=mask_test, annot=True, fmt=\".4g\", square=True, cmap=\"viridis\", ax=axes)"
   ]
  },
  {
   "cell_type": "markdown",
   "id": "cdf6ab5c",
   "metadata": {},
   "source": [
    "<p><a name=\"task_4\"></a></p>\n",
    "\n",
    "### Задание 4: Выполнить задание 2 для трех моделей."
   ]
  },
  {
   "cell_type": "code",
   "execution_count": 39,
   "id": "17557836-cc01-4ac5-b286-2dccacfd25d5",
   "metadata": {},
   "outputs": [
    {
     "data": {
      "text/plain": [
       "{'mean': 0.7214535049867317,\n",
       " 'gmean': 0.7228537680684413,\n",
       " 'rank_mean': 0.7224101560554381,\n",
       " 'rank_gmean': 0.7222336029125824}"
      ]
     },
     "execution_count": 39,
     "metadata": {},
     "output_type": "execute_result"
    }
   ],
   "source": [
    "scores_stat = get_mean_gmean_rankmean_rankgmean(target=target,\n",
    "                                                scores_train=scores_train)\n",
    "scores_stat"
   ]
  },
  {
   "cell_type": "code",
   "execution_count": 40,
   "id": "91588b66-638c-44d7-a801-f91bf8a23b53",
   "metadata": {},
   "outputs": [],
   "source": [
    "score_lgb_xgb_cb = pd.DataFrame(scores_stat, index=['scores_lgb_xgb_cb']).T"
   ]
  },
  {
   "cell_type": "code",
   "execution_count": 41,
   "id": "52c6fdf7-d921-4f72-9bc7-0d3ea9943200",
   "metadata": {},
   "outputs": [
    {
     "data": {
      "text/html": [
       "<div>\n",
       "<style scoped>\n",
       "    .dataframe tbody tr th:only-of-type {\n",
       "        vertical-align: middle;\n",
       "    }\n",
       "\n",
       "    .dataframe tbody tr th {\n",
       "        vertical-align: top;\n",
       "    }\n",
       "\n",
       "    .dataframe thead th {\n",
       "        text-align: right;\n",
       "    }\n",
       "</style>\n",
       "<table border=\"1\" class=\"dataframe\">\n",
       "  <thead>\n",
       "    <tr style=\"text-align: right;\">\n",
       "      <th></th>\n",
       "      <th>scores_lgb_xgb</th>\n",
       "      <th>scores_lgb_xgb_cb</th>\n",
       "    </tr>\n",
       "  </thead>\n",
       "  <tbody>\n",
       "    <tr>\n",
       "      <th>mean</th>\n",
       "      <td>0.720142</td>\n",
       "      <td>0.721454</td>\n",
       "    </tr>\n",
       "    <tr>\n",
       "      <th>gmean</th>\n",
       "      <td>0.720051</td>\n",
       "      <td>0.722854</td>\n",
       "    </tr>\n",
       "    <tr>\n",
       "      <th>rank_mean</th>\n",
       "      <td>0.720054</td>\n",
       "      <td>0.722410</td>\n",
       "    </tr>\n",
       "    <tr>\n",
       "      <th>rank_gmean</th>\n",
       "      <td>0.719911</td>\n",
       "      <td>0.722234</td>\n",
       "    </tr>\n",
       "  </tbody>\n",
       "</table>\n",
       "</div>"
      ],
      "text/plain": [
       "            scores_lgb_xgb  scores_lgb_xgb_cb\n",
       "mean              0.720142           0.721454\n",
       "gmean             0.720051           0.722854\n",
       "rank_mean         0.720054           0.722410\n",
       "rank_gmean        0.719911           0.722234"
      ]
     },
     "execution_count": 41,
     "metadata": {},
     "output_type": "execute_result"
    }
   ],
   "source": [
    "scores_2_3 = pd.merge(scores_df, score_lgb_xgb_cb, left_index=True, right_index=True)\n",
    "scores_2_3"
   ]
  },
  {
   "cell_type": "code",
   "execution_count": 42,
   "id": "14a2299a-f2d8-4651-b5d2-1dbb7f8ce954",
   "metadata": {},
   "outputs": [
    {
     "data": {
      "text/html": [
       "<div>\n",
       "<style scoped>\n",
       "    .dataframe tbody tr th:only-of-type {\n",
       "        vertical-align: middle;\n",
       "    }\n",
       "\n",
       "    .dataframe tbody tr th {\n",
       "        vertical-align: top;\n",
       "    }\n",
       "\n",
       "    .dataframe thead th {\n",
       "        text-align: right;\n",
       "    }\n",
       "</style>\n",
       "<table border=\"1\" class=\"dataframe\">\n",
       "  <thead>\n",
       "    <tr style=\"text-align: right;\">\n",
       "      <th></th>\n",
       "      <th>scores_lgb_xgb</th>\n",
       "      <th>scores_lgb_xgb_cb</th>\n",
       "    </tr>\n",
       "  </thead>\n",
       "  <tbody>\n",
       "    <tr>\n",
       "      <th>count</th>\n",
       "      <td>4.000000</td>\n",
       "      <td>4.000000</td>\n",
       "    </tr>\n",
       "    <tr>\n",
       "      <th>mean</th>\n",
       "      <td>0.720040</td>\n",
       "      <td>0.722238</td>\n",
       "    </tr>\n",
       "    <tr>\n",
       "      <th>std</th>\n",
       "      <td>0.000095</td>\n",
       "      <td>0.000584</td>\n",
       "    </tr>\n",
       "    <tr>\n",
       "      <th>min</th>\n",
       "      <td>0.719911</td>\n",
       "      <td>0.721454</td>\n",
       "    </tr>\n",
       "    <tr>\n",
       "      <th>25%</th>\n",
       "      <td>0.720016</td>\n",
       "      <td>0.722039</td>\n",
       "    </tr>\n",
       "    <tr>\n",
       "      <th>50%</th>\n",
       "      <td>0.720053</td>\n",
       "      <td>0.722322</td>\n",
       "    </tr>\n",
       "    <tr>\n",
       "      <th>75%</th>\n",
       "      <td>0.720076</td>\n",
       "      <td>0.722521</td>\n",
       "    </tr>\n",
       "    <tr>\n",
       "      <th>max</th>\n",
       "      <td>0.720142</td>\n",
       "      <td>0.722854</td>\n",
       "    </tr>\n",
       "  </tbody>\n",
       "</table>\n",
       "</div>"
      ],
      "text/plain": [
       "       scores_lgb_xgb  scores_lgb_xgb_cb\n",
       "count        4.000000           4.000000\n",
       "mean         0.720040           0.722238\n",
       "std          0.000095           0.000584\n",
       "min          0.719911           0.721454\n",
       "25%          0.720016           0.722039\n",
       "50%          0.720053           0.722322\n",
       "75%          0.720076           0.722521\n",
       "max          0.720142           0.722854"
      ]
     },
     "execution_count": 42,
     "metadata": {},
     "output_type": "execute_result"
    }
   ],
   "source": [
    "scores_2_3.describe()"
   ]
  },
  {
   "cell_type": "markdown",
   "id": "55ce2c27",
   "metadata": {},
   "source": [
    "<p><a name=\"task_5\"></a></p>\n",
    "\n",
    "### Задание 5: (опция) Объединить OOF-прогнозы для трех моделей и обучить алгоритм Логистической регрессии (и любой другой, на ваше усмотрение). Сделать выводы о достигаемом качестве, сравнить достигаемое качество с качеством отдельных моделей и моделей, полученных в п.2 и п.4.\n"
   ]
  },
  {
   "cell_type": "code",
   "execution_count": null,
   "id": "251017e2-e115-4a08-9c2f-25802abe55f0",
   "metadata": {},
   "outputs": [],
   "source": []
  },
  {
   "cell_type": "markdown",
   "id": "5d3db535",
   "metadata": {},
   "source": [
    "<p><a name=\"task_6\"></a></p>\n",
    "\n",
    "### Задание 6 : (опция) Обучить алгоритмRandomForest (желательно подтюнить параметры) и добавить к построенным ранее моделям. Выполнить задание 5.\n"
   ]
  },
  {
   "cell_type": "code",
   "execution_count": null,
   "id": "219c881e-d4af-4e40-a181-03b7eab7966c",
   "metadata": {},
   "outputs": [],
   "source": []
  }
 ],
 "metadata": {
  "kernelspec": {
   "display_name": "Python 3",
   "language": "python",
   "name": "python3"
  },
  "language_info": {
   "codemirror_mode": {
    "name": "ipython",
    "version": 3
   },
   "file_extension": ".py",
   "mimetype": "text/x-python",
   "name": "python",
   "nbconvert_exporter": "python",
   "pygments_lexer": "ipython3",
   "version": "3.9.7"
  },
  "toc-autonumbering": true,
  "toc-showcode": false,
  "toc-showmarkdowntxt": false,
  "toc-showtags": false
 },
 "nbformat": 4,
 "nbformat_minor": 5
}
